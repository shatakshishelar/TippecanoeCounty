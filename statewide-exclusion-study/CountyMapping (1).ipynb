{
 "cells": [
  {
   "cell_type": "code",
   "execution_count": 117,
   "id": "29e7c9b9-e905-41e3-98f1-bcf86ce00809",
   "metadata": {},
   "outputs": [],
   "source": [
    "cov <- function(df_col) {\n",
    "    mean_ratio <- mean(df_col, na.rm = TRUE)\n",
    "    sd_ratio <- sd(df_col, na.rm = TRUE)\n",
    "    cov_value <- (sd_ratio / mean_ratio) * 100\n",
    "    return(cov_value)\n",
    "}\n"
   ]
  },
  {
   "cell_type": "code",
   "execution_count": 118,
   "id": "4f7db6b4-7db7-47b5-b397-a7cf3a24b01e",
   "metadata": {},
   "outputs": [],
   "source": [
    "prb = function(df_sp,df_sr) {\n",
    "    valid <- !is.na(df_sp) & !is.na(df_sr)\n",
    "    df_sp <- df_sp[valid]\n",
    "    df_sr <- df_sr[valid]\n",
    "    if (length(df_sr) < 2) {\n",
    "        return(NA)\n",
    "    }\n",
    "    model <- lm(df_sr ~ df_sp)\n",
    "    \n",
    "    # PRB is the slope of the regression model\n",
    "    prb <- coef(model)[2]\n",
    "    return(prb)\n",
    "}"
   ]
  },
  {
   "cell_type": "code",
   "execution_count": 119,
   "id": "f09df2cb-8908-4b31-b0d3-ac2b10f41f97",
   "metadata": {},
   "outputs": [],
   "source": [
    "cod = function(df_col) {\n",
    "    median_ratio <- median(df_col, na.rm = TRUE)\n",
    "    cod <- mean(abs(df_col - median_ratio), na.rm = TRUE) / median_ratio * 100\n",
    "    \n",
    "    return(cod)\n",
    "}"
   ]
  },
  {
   "cell_type": "code",
   "execution_count": 120,
   "id": "deb6fb6f-cd95-43eb-bcbe-2483feeabd11",
   "metadata": {},
   "outputs": [],
   "source": [
    "prd = function(df_av,df_sp,df_sr) {\n",
    "mean_ratio = mean(df_sr, na.rm = TRUE)\n",
    "weighted_mean_ratio = sum(df_av, na.rm = TRUE) / sum(df_sp, na.rm = TRUE)\n",
    "prd = mean_ratio / weighted_mean_ratio\n",
    "return (prd)\n",
    "}"
   ]
  },
  {
   "cell_type": "code",
   "execution_count": 121,
   "id": "590a013b-6d88-49b4-a752-0aa7373ae55e",
   "metadata": {},
   "outputs": [
    {
     "name": "stdout",
     "output_type": "stream",
     "text": [
      "[[1]]\n",
      "[1] \"Blue Creek\" \"French\"     \"Kirkland\"   \"Monroe\"     \"St. Marys\" \n",
      "\n",
      "[[1]]\n",
      "[1] \"Hartford\"  \"Jefferson\" \"Wabash\"   \n",
      "\n",
      "[[1]]\n",
      "[1] \"Preble\" \"Union\" \n",
      "\n",
      "[[1]]\n",
      "[1] \"Washington\"\n",
      "\n",
      "[[1]]\n",
      "[1] \"Root\"\n",
      "\n",
      "[[1]]\n",
      "[1] \"Blue Creek\" \"French\"     \"Kirkland\"   \"Monroe\"     \"St. Marys\" \n",
      "\n",
      "[[2]]\n",
      "[1] \"Hartford\"  \"Jefferson\" \"Wabash\"   \n",
      "\n",
      "[[3]]\n",
      "[1] \"Preble\" \"Union\" \n",
      "\n",
      "[[4]]\n",
      "[1] \"Washington\"\n",
      "\n",
      "[[5]]\n",
      "[1] \"Root\"\n",
      "\n"
     ]
    }
   ],
   "source": [
    "library(readxl)\n",
    "library(dplyr)\n",
    "library(stringr)\n",
    "\n",
    "df <- read_excel(\"CountyMap.xlsx\") %>%\n",
    "  mutate(Grouping = I(strsplit(as.character(Grouping), \"-\")),County = str_to_sentence(County))\n",
    "\n",
    "mapping_df <- df %>%\n",
    "group_by(County, Type) %>%\n",
    "summarise(Values = I(list(Grouping)), .groups = \"drop\")\n",
    "mapping_list <- setNames(mapping_df$Values, \n",
    "                         paste(mapping_df$County, mapping_df$Type, sep = \" \"))\n",
    "\n",
    "for (i in (1:length(mapping_list['Adams Residential Improved'][[1]]))) {\n",
    "    print(mapping_list['Adams Residential Improved'][[1]][i])\n",
    "}\n",
    "##print(mapping_list['Adams Residential Improved'])\n",
    "print(mapping_list['Adams Residential Improved'][[1]])"
   ]
  },
  {
   "cell_type": "code",
   "execution_count": 122,
   "id": "efbc8683-5ec7-408b-b2b5-35b3858d552c",
   "metadata": {},
   "outputs": [],
   "source": [
    "wkbk23 = read.csv('tippecanoe/Combined_Workbook_2023.csv')\n",
    "exc23 = read.csv('tippecanoe/Combined_Reconciliation_2023.csv')\n",
    "rat23 = read.csv('tippecanoe/Combined_Study_2023.csv')\n",
    "classifications23 = read.csv('tippecanoe/Parcel_Clusters_2023.csv')\n",
    "class = read.csv('tippecanoe/Parcel_Classifications_2023.csv')\n",
    "ag22 = read.csv('tippecanoe/Ag_Sales_2022.csv')\n",
    "ag23 = read.csv('tippecanoe/Ag_Sales_2023.csv')\n",
    "ag24 = read.csv('tippecanoe/Ag_Sales_2024.csv')\n",
    "\n"
   ]
  },
  {
   "cell_type": "code",
   "execution_count": 123,
   "id": "1615e1f9-6fc5-498a-8a10-9fed1dda152b",
   "metadata": {},
   "outputs": [
    {
     "data": {
      "text/html": [
       "91160"
      ],
      "text/latex": [
       "91160"
      ],
      "text/markdown": [
       "91160"
      ],
      "text/plain": [
       "[1] 91160"
      ]
     },
     "metadata": {},
     "output_type": "display_data"
    }
   ],
   "source": [
    "nrow(exc23)"
   ]
  },
  {
   "cell_type": "code",
   "execution_count": 124,
   "id": "83ebdf5c-4bee-40c5-9740-dc8a9ffdd96a",
   "metadata": {},
   "outputs": [],
   "source": [
    "exc23 = exc23[!is.na(exc23$ParcelNumber),]"
   ]
  },
  {
   "cell_type": "code",
   "execution_count": 125,
   "id": "be9724d6-cbba-4d94-9413-32c33cc51400",
   "metadata": {},
   "outputs": [
    {
     "data": {
      "text/html": [
       "91094"
      ],
      "text/latex": [
       "91094"
      ],
      "text/markdown": [
       "91094"
      ],
      "text/plain": [
       "[1] 91094"
      ]
     },
     "metadata": {},
     "output_type": "display_data"
    }
   ],
   "source": [
    "nrow(exc23)"
   ]
  },
  {
   "cell_type": "code",
   "execution_count": 126,
   "id": "b7af8200-b1d9-4755-ac13-021dcc5563c7",
   "metadata": {},
   "outputs": [
    {
     "data": {
      "text/html": [
       "116833"
      ],
      "text/latex": [
       "116833"
      ],
      "text/markdown": [
       "116833"
      ],
      "text/plain": [
       "[1] 116833"
      ]
     },
     "metadata": {},
     "output_type": "display_data"
    }
   ],
   "source": [
    "nrow(rat23)"
   ]
  },
  {
   "cell_type": "code",
   "execution_count": 127,
   "id": "e68a37af-ad27-4611-9fa4-22437965c6b6",
   "metadata": {},
   "outputs": [
    {
     "data": {
      "text/html": [
       "<style>\n",
       ".list-inline {list-style: none; margin:0; padding: 0}\n",
       ".list-inline>li {display: inline-block}\n",
       ".list-inline>li:not(:last-child)::after {content: \"\\00b7\"; padding: 0 .5ex}\n",
       "</style>\n",
       "<ol class=list-inline><li>'X.1'</li><li>'X'</li><li>'SaleID'</li><li>'Instance'</li><li>'ParcelNumber'</li><li>'Subdivision'</li><li>'Address'</li><li>'City'</li><li>'StateZip'</li><li>'MailingAddress'</li><li>'MailingCity'</li><li>'MailingStateZip'</li><li>'ParcelDescription'</li><li>'ParcelNumber2'</li><li>'LandAV'</li><li>'ImpAV'</li><li>'PPAV'</li><li>'TotalAV'</li><li>'PropertyClass'</li><li>'Neighborhood'</li><li>'TaxDistrict'</li><li>'Acre4'</li><li>'Acre'</li><li>'SalePrice2'</li><li>'SalePrice'</li><li>'PP2'</li><li>'PP'</li><li>'SellerPoints2'</li><li>'SellerPoints'</li><li>'RelationshipDiscount2'</li><li>'RelationshipDiscount'</li><li>'County'</li></ol>\n"
      ],
      "text/latex": [
       "\\begin{enumerate*}\n",
       "\\item 'X.1'\n",
       "\\item 'X'\n",
       "\\item 'SaleID'\n",
       "\\item 'Instance'\n",
       "\\item 'ParcelNumber'\n",
       "\\item 'Subdivision'\n",
       "\\item 'Address'\n",
       "\\item 'City'\n",
       "\\item 'StateZip'\n",
       "\\item 'MailingAddress'\n",
       "\\item 'MailingCity'\n",
       "\\item 'MailingStateZip'\n",
       "\\item 'ParcelDescription'\n",
       "\\item 'ParcelNumber2'\n",
       "\\item 'LandAV'\n",
       "\\item 'ImpAV'\n",
       "\\item 'PPAV'\n",
       "\\item 'TotalAV'\n",
       "\\item 'PropertyClass'\n",
       "\\item 'Neighborhood'\n",
       "\\item 'TaxDistrict'\n",
       "\\item 'Acre4'\n",
       "\\item 'Acre'\n",
       "\\item 'SalePrice2'\n",
       "\\item 'SalePrice'\n",
       "\\item 'PP2'\n",
       "\\item 'PP'\n",
       "\\item 'SellerPoints2'\n",
       "\\item 'SellerPoints'\n",
       "\\item 'RelationshipDiscount2'\n",
       "\\item 'RelationshipDiscount'\n",
       "\\item 'County'\n",
       "\\end{enumerate*}\n"
      ],
      "text/markdown": [
       "1. 'X.1'\n",
       "2. 'X'\n",
       "3. 'SaleID'\n",
       "4. 'Instance'\n",
       "5. 'ParcelNumber'\n",
       "6. 'Subdivision'\n",
       "7. 'Address'\n",
       "8. 'City'\n",
       "9. 'StateZip'\n",
       "10. 'MailingAddress'\n",
       "11. 'MailingCity'\n",
       "12. 'MailingStateZip'\n",
       "13. 'ParcelDescription'\n",
       "14. 'ParcelNumber2'\n",
       "15. 'LandAV'\n",
       "16. 'ImpAV'\n",
       "17. 'PPAV'\n",
       "18. 'TotalAV'\n",
       "19. 'PropertyClass'\n",
       "20. 'Neighborhood'\n",
       "21. 'TaxDistrict'\n",
       "22. 'Acre4'\n",
       "23. 'Acre'\n",
       "24. 'SalePrice2'\n",
       "25. 'SalePrice'\n",
       "26. 'PP2'\n",
       "27. 'PP'\n",
       "28. 'SellerPoints2'\n",
       "29. 'SellerPoints'\n",
       "30. 'RelationshipDiscount2'\n",
       "31. 'RelationshipDiscount'\n",
       "32. 'County'\n",
       "\n",
       "\n"
      ],
      "text/plain": [
       " [1] \"X.1\"                   \"X\"                     \"SaleID\"               \n",
       " [4] \"Instance\"              \"ParcelNumber\"          \"Subdivision\"          \n",
       " [7] \"Address\"               \"City\"                  \"StateZip\"             \n",
       "[10] \"MailingAddress\"        \"MailingCity\"           \"MailingStateZip\"      \n",
       "[13] \"ParcelDescription\"     \"ParcelNumber2\"         \"LandAV\"               \n",
       "[16] \"ImpAV\"                 \"PPAV\"                  \"TotalAV\"              \n",
       "[19] \"PropertyClass\"         \"Neighborhood\"          \"TaxDistrict\"          \n",
       "[22] \"Acre4\"                 \"Acre\"                  \"SalePrice2\"           \n",
       "[25] \"SalePrice\"             \"PP2\"                   \"PP\"                   \n",
       "[28] \"SellerPoints2\"         \"SellerPoints\"          \"RelationshipDiscount2\"\n",
       "[31] \"RelationshipDiscount\"  \"County\"               "
      ]
     },
     "metadata": {},
     "output_type": "display_data"
    }
   ],
   "source": [
    "colnames(ag22)"
   ]
  },
  {
   "cell_type": "code",
   "execution_count": 128,
   "id": "017aa0e5-f77b-4afb-ab03-c50ab31c9c87",
   "metadata": {},
   "outputs": [],
   "source": [
    "ag22$SaleRatio = ag22$TotalAV / ag22$SalePrice\n",
    "ag23$SaleRatio = ag23$TotalAV / ag23$SalePrice\n",
    "ag24$SaleRatio = ag24$TotalAV / ag24$SalePrice"
   ]
  },
  {
   "cell_type": "code",
   "execution_count": 129,
   "id": "25814d26-ef6d-404e-8425-e07e96835835",
   "metadata": {},
   "outputs": [],
   "source": [
    "ag22$PPA = ag22$SalePrice / ag22$Acre\n",
    "ag23$PPA = ag23$SalePrice / ag23$Acre\n",
    "ag24$PPA = ag24$SalePrice / ag24$Acre"
   ]
  },
  {
   "cell_type": "code",
   "execution_count": 130,
   "id": "cfb41b8f-7afa-41fd-80eb-c4c30a5845f9",
   "metadata": {},
   "outputs": [],
   "source": [
    "ag22 = ag22[ag22$PropertyClass < 200 & ag22$PropertyClass >= 100 & ag22$SalePrice > 10000 & ag22$PPA < 16000,]\n",
    "ag23 = ag23[ag23$PropertyClass < 200 & ag23$PropertyClass >= 100 & ag23$SalePrice > 10000 & ag23$PPA < 16000,]\n",
    "ag24 = ag24[ag24$PropertyClass < 200 & ag24$PropertyClass >= 100 & ag24$SalePrice > 10000 & ag24$PPA < 16000,]"
   ]
  },
  {
   "cell_type": "code",
   "execution_count": 131,
   "id": "15f22563-1e0d-4ce6-94aa-ef63d76719ad",
   "metadata": {},
   "outputs": [],
   "source": [
    "mad_x = median(abs(ag22$SaleRatio - 0.2), na.rm = TRUE)\n",
    "mod_z <- 0.6745 * (ag22$SaleRatio - 0.2) / mad_x\n",
    "threshold <- quantile(abs(mod_z), 0.95, na.rm = TRUE)\n",
    "ag22o = ag22[abs(mod_z) > threshold, ]\n",
    "ag22 <- ag22[abs(mod_z) <= threshold, ]\n",
    "mad_x = median(abs(ag23$SaleRatio - 0.2), na.rm = TRUE)\n",
    "mod_z <- 0.6745 * (ag23$SaleRatio - 0.2) / mad_x\n",
    "threshold <- quantile(abs(mod_z), 0.95, na.rm = TRUE)\n",
    "ag23o = ag23[abs(mod_z) > threshold, ]\n",
    "ag23 <- ag23[abs(mod_z) <= threshold, ]\n",
    "mad_x = median(abs(ag24$SaleRatio - 0.2), na.rm = TRUE)\n",
    "mod_z <- 0.6745 * (ag24$SaleRatio - 0.2) / mad_x\n",
    "threshold <- quantile(abs(mod_z), 0.95, na.rm = TRUE)\n",
    "ag24o = ag24[abs(mod_z) > threshold, ]\n",
    "ag24 <- ag24[abs(mod_z) <= threshold, ]"
   ]
  },
  {
   "cell_type": "code",
   "execution_count": 132,
   "id": "99777773-8e3b-4d2e-9a42-b6d19e118c80",
   "metadata": {},
   "outputs": [],
   "source": [
    "agoutliers = rbind(ag22o,ag23o,ag24o)"
   ]
  },
  {
   "cell_type": "code",
   "execution_count": 133,
   "id": "9291e683-b105-4d02-828c-c03395bc90f2",
   "metadata": {},
   "outputs": [],
   "source": [
    "ag22 <- ag22 %>%\n",
    "  mutate(\n",
    "    State = substr(StateZip, 1, 2),\n",
    "    Zip = substr(StateZip, 3, 7)\n",
    "  )\n",
    "ag23 <- ag23 %>%\n",
    "  mutate(\n",
    "    State = substr(StateZip, 1, 2),\n",
    "    Zip = substr(StateZip, 3, 7)\n",
    "  )\n",
    "ag24 <- ag24 %>%\n",
    "  mutate(\n",
    "    State = substr(StateZip, 1, 2),\n",
    "    Zip = substr(StateZip, 3, 7)\n",
    "  )\n",
    "agoutliers <- agoutliers %>%\n",
    "  mutate(\n",
    "    State = substr(StateZip, 1, 2),\n",
    "    Zip = substr(StateZip, 3, 7)\n",
    "  )"
   ]
  },
  {
   "cell_type": "code",
   "execution_count": 134,
   "id": "2152e23b-d145-4e93-95a5-023fefb1c5d5",
   "metadata": {},
   "outputs": [],
   "source": [
    "ag22$Zip = as.numeric(ag22$Zip)\n",
    "ag23$Zip = as.numeric(ag23$Zip)\n",
    "ag24$Zip = as.numeric(ag24$Zip)\n",
    "agoutliers$Zip = as.numeric(agoutliers$Zip)"
   ]
  },
  {
   "cell_type": "code",
   "execution_count": 135,
   "id": "31afa9d5-b04c-4cb4-be9e-d90a0ac89490",
   "metadata": {},
   "outputs": [],
   "source": [
    "ag22 = ag22[!is.na(ag22$Zip),]\n",
    "ag23 = ag23[!is.na(ag23$Zip),]\n",
    "ag24 = ag24[!is.na(ag24$Zip),]\n",
    "agoutliers = agoutliers[!is.na(agoutliers$Zip),]"
   ]
  },
  {
   "cell_type": "code",
   "execution_count": 136,
   "id": "77a039e1-1378-430b-a42d-0e21eaf37490",
   "metadata": {},
   "outputs": [],
   "source": [
    "ag22$Zip = as.character(ag22$Zip)\n",
    "ag23$Zip = as.character(ag23$Zip)\n",
    "ag24$Zip = as.character(ag24$Zip)\n",
    "agoutliers$Zip = as.character(agoutliers$Zip)"
   ]
  },
  {
   "cell_type": "code",
   "execution_count": 137,
   "id": "ee7971f5-9622-4334-9913-e49f005a50b3",
   "metadata": {},
   "outputs": [
    {
     "data": {
      "text/html": [
       "778"
      ],
      "text/latex": [
       "778"
      ],
      "text/markdown": [
       "778"
      ],
      "text/plain": [
       "[1] 778"
      ]
     },
     "metadata": {},
     "output_type": "display_data"
    },
    {
     "data": {
      "text/plain": [
       "\n",
       "  100   101   102   103   104   110   141   149   199 \n",
       "16.20 69.67  0.90  1.54  0.26  0.13  1.80  0.64  8.87 "
      ]
     },
     "metadata": {},
     "output_type": "display_data"
    },
    {
     "data": {
      "text/plain": [
       "\n",
       "  100   101   102   103   104   105   108   111   120   141   149   199 \n",
       "68.38 21.50  0.08  0.03  0.05  0.03  0.01  0.04  0.97  0.86  0.52  7.53 "
      ]
     },
     "metadata": {},
     "output_type": "display_data"
    }
   ],
   "source": [
    "nrow(agoutliers)\n",
    "round(((table(agoutliers$PropertyClass) / nrow(agoutliers)) * 100),2)\n",
    "round(((table(ag22$PropertyClass) / nrow(ag22)) * 100),2)"
   ]
  },
  {
   "cell_type": "code",
   "execution_count": 138,
   "id": "7e92535e-7184-44fb-a4a8-aee84ca943a9",
   "metadata": {},
   "outputs": [
    {
     "data": {
      "text/html": [
       "0.504839628012906"
      ],
      "text/latex": [
       "0.504839628012906"
      ],
      "text/markdown": [
       "0.504839628012906"
      ],
      "text/plain": [
       "[1] 0.5048396"
      ]
     },
     "metadata": {},
     "output_type": "display_data"
    },
    {
     "data": {
      "text/html": [
       "0.125050340136054"
      ],
      "text/latex": [
       "0.125050340136054"
      ],
      "text/markdown": [
       "0.125050340136054"
      ],
      "text/plain": [
       "[1] 0.1250503"
      ]
     },
     "metadata": {},
     "output_type": "display_data"
    }
   ],
   "source": [
    "median(ag22$SaleRatio[ag22$PropertyClass == 101])\n",
    "median(ag22$SaleRatio[ag22$PropertyClass != 101])\n",
    "#ag22 = ag22[ag22$PropertyClass != 101 & ag22$PropertyClass != 199,]"
   ]
  },
  {
   "cell_type": "code",
   "execution_count": 144,
   "id": "76adc5e4-5e7e-4d24-a5e0-387a6abc5d04",
   "metadata": {},
   "outputs": [
    {
     "data": {
      "text/html": [
       "0.15"
      ],
      "text/latex": [
       "0.15"
      ],
      "text/markdown": [
       "0.15"
      ],
      "text/plain": [
       "[1] 0.15"
      ]
     },
     "metadata": {},
     "output_type": "display_data"
    },
    {
     "data": {
      "text/html": [
       "0.270909832721338"
      ],
      "text/latex": [
       "0.270909832721338"
      ],
      "text/markdown": [
       "0.270909832721338"
      ],
      "text/plain": [
       "[1] 0.2709098"
      ]
     },
     "metadata": {},
     "output_type": "display_data"
    }
   ],
   "source": [
    "mr = median(ag22$SaleRatio,na.rm=TRUE)\n",
    "mr\n",
    "ag22$Deviation = abs(ag22$SaleRatio - mr)\n",
    "nrow(ag22[ag22$Deviation > 0.15,]) / nrow(ag22)"
   ]
  },
  {
   "cell_type": "code",
   "execution_count": 107,
   "id": "b70333fc-f823-45bb-87a1-fd0d5f138346",
   "metadata": {},
   "outputs": [
    {
     "name": "stderr",
     "output_type": "stream",
     "text": [
      "\u001b[1m\u001b[22m`summarise()` has grouped output by 'Zip'. You can override using the `.groups`\n",
      "argument.\n"
     ]
    },
    {
     "data": {
      "text/html": [
       "<table class=\"dataframe\">\n",
       "<caption>A grouped_df: 6 x 3</caption>\n",
       "<thead>\n",
       "\t<tr><th scope=col>Zip</th><th scope=col>County</th><th scope=col>ZipClassification</th></tr>\n",
       "\t<tr><th scope=col>&lt;int&gt;</th><th scope=col>&lt;chr&gt;</th><th scope=col>&lt;chr&gt;</th></tr>\n",
       "</thead>\n",
       "<tbody>\n",
       "\t<tr><td>40026</td><td>Clark</td><td>Urban</td></tr>\n",
       "\t<tr><td>40059</td><td>Clark</td><td>Urban</td></tr>\n",
       "\t<tr><td>40202</td><td>Clark</td><td>Urban</td></tr>\n",
       "\t<tr><td>40212</td><td>Clark</td><td>Urban</td></tr>\n",
       "\t<tr><td>40212</td><td>Floyd</td><td>Urban</td></tr>\n",
       "\t<tr><td>40222</td><td>Clark</td><td>Urban</td></tr>\n",
       "</tbody>\n",
       "</table>\n"
      ],
      "text/latex": [
       "A grouped\\_df: 6 x 3\n",
       "\\begin{tabular}{lll}\n",
       " Zip & County & ZipClassification\\\\\n",
       " <int> & <chr> & <chr>\\\\\n",
       "\\hline\n",
       "\t 40026 & Clark & Urban\\\\\n",
       "\t 40059 & Clark & Urban\\\\\n",
       "\t 40202 & Clark & Urban\\\\\n",
       "\t 40212 & Clark & Urban\\\\\n",
       "\t 40212 & Floyd & Urban\\\\\n",
       "\t 40222 & Clark & Urban\\\\\n",
       "\\end{tabular}\n"
      ],
      "text/markdown": [
       "\n",
       "A grouped_df: 6 x 3\n",
       "\n",
       "| Zip &lt;int&gt; | County &lt;chr&gt; | ZipClassification &lt;chr&gt; |\n",
       "|---|---|---|\n",
       "| 40026 | Clark | Urban |\n",
       "| 40059 | Clark | Urban |\n",
       "| 40202 | Clark | Urban |\n",
       "| 40212 | Clark | Urban |\n",
       "| 40212 | Floyd | Urban |\n",
       "| 40222 | Clark | Urban |\n",
       "\n"
      ],
      "text/plain": [
       "  Zip   County ZipClassification\n",
       "1 40026 Clark  Urban            \n",
       "2 40059 Clark  Urban            \n",
       "3 40202 Clark  Urban            \n",
       "4 40212 Clark  Urban            \n",
       "5 40212 Floyd  Urban            \n",
       "6 40222 Clark  Urban            "
      ]
     },
     "metadata": {},
     "output_type": "display_data"
    },
    {
     "data": {
      "text/html": [
       "1267"
      ],
      "text/latex": [
       "1267"
      ],
      "text/markdown": [
       "1267"
      ],
      "text/plain": [
       "[1] 1267"
      ]
     },
     "metadata": {},
     "output_type": "display_data"
    }
   ],
   "source": [
    "class = class %>%\n",
    "group_by(Zip,County) %>%\n",
    "summarise(Zip = first(Zip),County = first(County),ZipClassification = first(ZipClassification))\n",
    "head(class)\n",
    "nrow(class)"
   ]
  },
  {
   "cell_type": "code",
   "execution_count": 108,
   "id": "82e9a5cf-f114-491b-a8ef-ad9771e0c4d8",
   "metadata": {},
   "outputs": [],
   "source": [
    "ag22$Zip = as.numeric(ag22$Zip)\n",
    "ag23$Zip = as.numeric(ag23$Zip)\n",
    "ag24$Zip = as.numeric(ag24$Zip)"
   ]
  },
  {
   "cell_type": "code",
   "execution_count": 109,
   "id": "d6f7006b-f7ca-4666-8680-06d361c09256",
   "metadata": {},
   "outputs": [
    {
     "data": {
      "text/html": [
       "5218"
      ],
      "text/latex": [
       "5218"
      ],
      "text/markdown": [
       "5218"
      ],
      "text/plain": [
       "[1] 5218"
      ]
     },
     "metadata": {},
     "output_type": "display_data"
    },
    {
     "data": {
      "text/html": [
       "<style>\n",
       ".list-inline {list-style: none; margin:0; padding: 0}\n",
       ".list-inline>li {display: inline-block}\n",
       ".list-inline>li:not(:last-child)::after {content: \"\\00b7\"; padding: 0 .5ex}\n",
       "</style>\n",
       "<ol class=list-inline><li>'X.1'</li><li>'X'</li><li>'SaleID'</li><li>'Instance'</li><li>'ParcelNumber'</li><li>'Subdivision'</li><li>'Address'</li><li>'City'</li><li>'StateZip'</li><li>'MailingAddress'</li><li>'MailingCity'</li><li>'MailingStateZip'</li><li>'ParcelDescription'</li><li>'ParcelNumber2'</li><li>'LandAV'</li><li>'ImpAV'</li><li>'PPAV'</li><li>'TotalAV'</li><li>'PropertyClass'</li><li>'Neighborhood'</li><li>'TaxDistrict'</li><li>'Acre4'</li><li>'Acre'</li><li>'SalePrice2'</li><li>'SalePrice'</li><li>'PP2'</li><li>'PP'</li><li>'SellerPoints2'</li><li>'SellerPoints'</li><li>'RelationshipDiscount2'</li><li>'RelationshipDiscount'</li><li>'County'</li><li>'SaleRatio'</li><li>'PPA'</li><li>'State'</li><li>'Zip'</li></ol>\n"
      ],
      "text/latex": [
       "\\begin{enumerate*}\n",
       "\\item 'X.1'\n",
       "\\item 'X'\n",
       "\\item 'SaleID'\n",
       "\\item 'Instance'\n",
       "\\item 'ParcelNumber'\n",
       "\\item 'Subdivision'\n",
       "\\item 'Address'\n",
       "\\item 'City'\n",
       "\\item 'StateZip'\n",
       "\\item 'MailingAddress'\n",
       "\\item 'MailingCity'\n",
       "\\item 'MailingStateZip'\n",
       "\\item 'ParcelDescription'\n",
       "\\item 'ParcelNumber2'\n",
       "\\item 'LandAV'\n",
       "\\item 'ImpAV'\n",
       "\\item 'PPAV'\n",
       "\\item 'TotalAV'\n",
       "\\item 'PropertyClass'\n",
       "\\item 'Neighborhood'\n",
       "\\item 'TaxDistrict'\n",
       "\\item 'Acre4'\n",
       "\\item 'Acre'\n",
       "\\item 'SalePrice2'\n",
       "\\item 'SalePrice'\n",
       "\\item 'PP2'\n",
       "\\item 'PP'\n",
       "\\item 'SellerPoints2'\n",
       "\\item 'SellerPoints'\n",
       "\\item 'RelationshipDiscount2'\n",
       "\\item 'RelationshipDiscount'\n",
       "\\item 'County'\n",
       "\\item 'SaleRatio'\n",
       "\\item 'PPA'\n",
       "\\item 'State'\n",
       "\\item 'Zip'\n",
       "\\end{enumerate*}\n"
      ],
      "text/markdown": [
       "1. 'X.1'\n",
       "2. 'X'\n",
       "3. 'SaleID'\n",
       "4. 'Instance'\n",
       "5. 'ParcelNumber'\n",
       "6. 'Subdivision'\n",
       "7. 'Address'\n",
       "8. 'City'\n",
       "9. 'StateZip'\n",
       "10. 'MailingAddress'\n",
       "11. 'MailingCity'\n",
       "12. 'MailingStateZip'\n",
       "13. 'ParcelDescription'\n",
       "14. 'ParcelNumber2'\n",
       "15. 'LandAV'\n",
       "16. 'ImpAV'\n",
       "17. 'PPAV'\n",
       "18. 'TotalAV'\n",
       "19. 'PropertyClass'\n",
       "20. 'Neighborhood'\n",
       "21. 'TaxDistrict'\n",
       "22. 'Acre4'\n",
       "23. 'Acre'\n",
       "24. 'SalePrice2'\n",
       "25. 'SalePrice'\n",
       "26. 'PP2'\n",
       "27. 'PP'\n",
       "28. 'SellerPoints2'\n",
       "29. 'SellerPoints'\n",
       "30. 'RelationshipDiscount2'\n",
       "31. 'RelationshipDiscount'\n",
       "32. 'County'\n",
       "33. 'SaleRatio'\n",
       "34. 'PPA'\n",
       "35. 'State'\n",
       "36. 'Zip'\n",
       "\n",
       "\n"
      ],
      "text/plain": [
       " [1] \"X.1\"                   \"X\"                     \"SaleID\"               \n",
       " [4] \"Instance\"              \"ParcelNumber\"          \"Subdivision\"          \n",
       " [7] \"Address\"               \"City\"                  \"StateZip\"             \n",
       "[10] \"MailingAddress\"        \"MailingCity\"           \"MailingStateZip\"      \n",
       "[13] \"ParcelDescription\"     \"ParcelNumber2\"         \"LandAV\"               \n",
       "[16] \"ImpAV\"                 \"PPAV\"                  \"TotalAV\"              \n",
       "[19] \"PropertyClass\"         \"Neighborhood\"          \"TaxDistrict\"          \n",
       "[22] \"Acre4\"                 \"Acre\"                  \"SalePrice2\"           \n",
       "[25] \"SalePrice\"             \"PP2\"                   \"PP\"                   \n",
       "[28] \"SellerPoints2\"         \"SellerPoints\"          \"RelationshipDiscount2\"\n",
       "[31] \"RelationshipDiscount\"  \"County\"                \"SaleRatio\"            \n",
       "[34] \"PPA\"                   \"State\"                 \"Zip\"                  "
      ]
     },
     "metadata": {},
     "output_type": "display_data"
    },
    {
     "data": {
      "text/html": [
       "4574"
      ],
      "text/latex": [
       "4574"
      ],
      "text/markdown": [
       "4574"
      ],
      "text/plain": [
       "[1] 4574"
      ]
     },
     "metadata": {},
     "output_type": "display_data"
    }
   ],
   "source": [
    "nrow(ag22)\n",
    "colnames(ag22)\n",
    "ag22 = inner_join(ag22,class,by=c('Zip'='Zip','County'='County'),relationship='many-to-many')\n",
    "nrow(ag22)"
   ]
  },
  {
   "cell_type": "code",
   "execution_count": 110,
   "id": "02e468dd-3b02-4831-906c-99a1183990d0",
   "metadata": {},
   "outputs": [
    {
     "data": {
      "text/html": [
       "6056"
      ],
      "text/latex": [
       "6056"
      ],
      "text/markdown": [
       "6056"
      ],
      "text/plain": [
       "[1] 6056"
      ]
     },
     "metadata": {},
     "output_type": "display_data"
    },
    {
     "data": {
      "text/html": [
       "5485"
      ],
      "text/latex": [
       "5485"
      ],
      "text/markdown": [
       "5485"
      ],
      "text/plain": [
       "[1] 5485"
      ]
     },
     "metadata": {},
     "output_type": "display_data"
    }
   ],
   "source": [
    "nrow(ag23)\n",
    "ag23 = inner_join(ag23,class,by=c('Zip'='Zip','County'='County'),relationship='many-to-many')\n",
    "nrow(ag23)"
   ]
  },
  {
   "cell_type": "code",
   "execution_count": 111,
   "id": "3477f4f6-af32-42c7-a128-60674d29b9aa",
   "metadata": {},
   "outputs": [
    {
     "data": {
      "text/html": [
       "1355"
      ],
      "text/latex": [
       "1355"
      ],
      "text/markdown": [
       "1355"
      ],
      "text/plain": [
       "[1] 1355"
      ]
     },
     "metadata": {},
     "output_type": "display_data"
    },
    {
     "data": {
      "text/html": [
       "1184"
      ],
      "text/latex": [
       "1184"
      ],
      "text/markdown": [
       "1184"
      ],
      "text/plain": [
       "[1] 1184"
      ]
     },
     "metadata": {},
     "output_type": "display_data"
    }
   ],
   "source": [
    "nrow(ag24)\n",
    "ag24 = inner_join(ag24,class,by=c('Zip'='Zip','County'='County'),relationship='many-to-many')\n",
    "nrow(ag24)"
   ]
  },
  {
   "cell_type": "code",
   "execution_count": 112,
   "id": "b5fd58d3-f6a0-4cba-8b3f-22708e0417cd",
   "metadata": {},
   "outputs": [],
   "source": [
    "ag22u = ag22[ag22$ZipClassification == 'Urban',]\n",
    "ag23u = ag23[ag23$ZipClassification == 'Urban',]\n",
    "ag24u = ag24[ag24$ZipClassification == 'Urban',]\n",
    "ag22r = ag22[ag22$ZipClassification == 'Rural',]\n",
    "ag23r = ag23[ag23$ZipClassification == 'Rural',]\n",
    "ag24r = ag24[ag24$ZipClassification == 'Rural',]"
   ]
  },
  {
   "cell_type": "code",
   "execution_count": 115,
   "id": "67dfd6ba-b5b6-423b-af9d-afa45561fbbc",
   "metadata": {},
   "outputs": [
    {
     "name": "stdout",
     "output_type": "stream",
     "text": [
      "[1] \"2022 Urban Ag Land: Median: 0.12 COD: 49.28 COV: 120.53 PRD: 1.32 PRB: 0 with 836 sales\"\n",
      "[1] \"2022 Rural Ag Land: Median: 0.12 COD: 50.89 COV: 124.33 PRD: 1.29 PRB: 0 with 3738 sales\"\n"
     ]
    }
   ],
   "source": [
    "median = round(median(ag22u$SaleRatio,na.rm=TRUE),2)\n",
    "cod2 = round(cod(ag22u$SaleRatio),2)\n",
    "cov2 = round(cov(ag22u$SaleRatio),2)\n",
    "prd2 = round(prd(ag22u$TotalAV,ag22u$SalePrice,ag22u$SaleRatio),2)\n",
    "prb2 = round(prb(ag22u$SalePrice,ag22u$SaleRatio),2)\n",
    "print(paste('2022 Urban Ag Land: Median:',median,'COD:',cod2,'COV:',cov2,'PRD:',prd2,'PRB:',prb2,\n",
    "            'with',nrow(ag22u),'sales'))\n",
    "median = round(median(ag22r$SaleRatio,na.rm=TRUE),2)\n",
    "cod2 = round(cod(ag22r$SaleRatio),2)\n",
    "cov2 = round(cov(ag22r$SaleRatio),2)\n",
    "prd2 = round(prd(ag22r$TotalAV,ag22r$SalePrice,ag22r$SaleRatio),2)\n",
    "prb2 = round(prb(ag22r$SalePrice,ag22r$SaleRatio),2)\n",
    "print(paste('2022 Rural Ag Land: Median:',median,'COD:',cod2,'COV:',cov2,'PRD:',prd2,'PRB:',prb2,\n",
    "            'with',nrow(ag22r),'sales'))"
   ]
  },
  {
   "cell_type": "code",
   "execution_count": 27,
   "id": "9ef9ed40-873d-4b93-950d-028910d3925f",
   "metadata": {},
   "outputs": [
    {
     "name": "stdout",
     "output_type": "stream",
     "text": [
      "[1] \"2023 Urban Ag Land: Median: 0.16 COD: 147.61 COV: 126.6 PRD: 1.27 PRB: 0 with 867 sales\"\n",
      "[1] \"2023 Rural Ag Land: Median: 0.18 COD: 138.13 COV: 120.09 PRD: 1.36 PRB: 0 with 4618 sales\"\n"
     ]
    }
   ],
   "source": [
    "median = round(median(ag23u$SaleRatio,na.rm=TRUE),2)\n",
    "cod2 = round(cod(ag23u$SaleRatio),2)\n",
    "cov2 = round(cov(ag23u$SaleRatio),2)\n",
    "prd2 = round(prd(ag23u$TotalAV,ag23u$SalePrice,ag23u$SaleRatio),2)\n",
    "prb2 = round(prb(ag23u$SalePrice,ag23u$SaleRatio),2)\n",
    "print(paste('2023 Urban Ag Land: Median:',median,'COD:',cod2,'COV:',cov2,'PRD:',prd2,'PRB:',prb2,\n",
    "            'with',nrow(ag23u),'sales'))\n",
    "median = round(median(ag23r$SaleRatio,na.rm=TRUE),2)\n",
    "cod2 = round(cod(ag23r$SaleRatio),2)\n",
    "cov2 = round(cov(ag23r$SaleRatio),2)\n",
    "prd2 = round(prd(ag23r$TotalAV,ag23r$SalePrice,ag23r$SaleRatio),2)\n",
    "prb2 = round(prb(ag23r$SalePrice,ag23r$SaleRatio),2)\n",
    "print(paste('2023 Rural Ag Land: Median:',median,'COD:',cod2,'COV:',cov2,'PRD:',prd2,'PRB:',prb2,\n",
    "            'with',nrow(ag23r),'sales'))"
   ]
  },
  {
   "cell_type": "code",
   "execution_count": 28,
   "id": "c85ba5be-45bd-474c-9e87-0cdb7ba9a704",
   "metadata": {},
   "outputs": [
    {
     "name": "stdout",
     "output_type": "stream",
     "text": [
      "[1] \"2024 Urban Ag Land: Median: 0.18 COD: 124.68 COV: 116.18 PRD: 1.22 PRB: 0 with 246 sales\"\n",
      "[1] \"2024 Rural Ag Land: Median: 0.2 COD: 123.1 COV: 111.86 PRD: 1.31 PRB: 0 with 938 sales\"\n"
     ]
    }
   ],
   "source": [
    "median = round(median(ag24u$SaleRatio,na.rm=TRUE),2)\n",
    "cod2 = round(cod(ag24u$SaleRatio),2)\n",
    "cov2 = round(cov(ag24u$SaleRatio),2)\n",
    "prd2 = round(prd(ag24u$TotalAV,ag24u$SalePrice,ag24u$SaleRatio),2)\n",
    "prb2 = round(prb(ag24u$SalePrice,ag24u$SaleRatio),2)\n",
    "print(paste('2024 Urban Ag Land: Median:',median,'COD:',cod2,'COV:',cov2,'PRD:',prd2,'PRB:',prb2,\n",
    "            'with',nrow(ag24u),'sales'))\n",
    "median = round(median(ag24r$SaleRatio,na.rm=TRUE),2)\n",
    "cod2 = round(cod(ag24r$SaleRatio),2)\n",
    "cov2 = round(cov(ag24r$SaleRatio),2)\n",
    "prd2 = round(prd(ag24r$TotalAV,ag24r$SalePrice,ag24r$SaleRatio),2)\n",
    "prb2 = round(prb(ag24r$SalePrice,ag24r$SaleRatio),2)\n",
    "print(paste('2024 Rural Ag Land: Median:',median,'COD:',cod2,'COV:',cov2,'PRD:',prd2,'PRB:',prb2,\n",
    "            'with',nrow(ag24r),'sales'))"
   ]
  },
  {
   "cell_type": "code",
   "execution_count": 29,
   "id": "701cf0ff-8586-4d9d-897d-e2fcea5a9e2c",
   "metadata": {},
   "outputs": [
    {
     "data": {
      "text/html": [
       "<style>\n",
       ".list-inline {list-style: none; margin:0; padding: 0}\n",
       ".list-inline>li {display: inline-block}\n",
       ".list-inline>li:not(:last-child)::after {content: \"\\00b7\"; padding: 0 .5ex}\n",
       "</style>\n",
       "<ol class=list-inline><li>'SaleID'</li><li>'County'</li><li>'Township'</li><li>'TaxDistrict'</li><li>'ParcelNumber'</li><li>'PropertyClass'</li><li>'PostedAV'</li><li>'CurrentAV'</li><li>'SalePrice'</li><li>'PostedSaleRatio'</li><li>'SaleRatio'</li><li>'MultiParcel'</li><li>'Primary'</li><li>'StudySection'</li></ol>\n"
      ],
      "text/latex": [
       "\\begin{enumerate*}\n",
       "\\item 'SaleID'\n",
       "\\item 'County'\n",
       "\\item 'Township'\n",
       "\\item 'TaxDistrict'\n",
       "\\item 'ParcelNumber'\n",
       "\\item 'PropertyClass'\n",
       "\\item 'PostedAV'\n",
       "\\item 'CurrentAV'\n",
       "\\item 'SalePrice'\n",
       "\\item 'PostedSaleRatio'\n",
       "\\item 'SaleRatio'\n",
       "\\item 'MultiParcel'\n",
       "\\item 'Primary'\n",
       "\\item 'StudySection'\n",
       "\\end{enumerate*}\n"
      ],
      "text/markdown": [
       "1. 'SaleID'\n",
       "2. 'County'\n",
       "3. 'Township'\n",
       "4. 'TaxDistrict'\n",
       "5. 'ParcelNumber'\n",
       "6. 'PropertyClass'\n",
       "7. 'PostedAV'\n",
       "8. 'CurrentAV'\n",
       "9. 'SalePrice'\n",
       "10. 'PostedSaleRatio'\n",
       "11. 'SaleRatio'\n",
       "12. 'MultiParcel'\n",
       "13. 'Primary'\n",
       "14. 'StudySection'\n",
       "\n",
       "\n"
      ],
      "text/plain": [
       " [1] \"SaleID\"          \"County\"          \"Township\"        \"TaxDistrict\"    \n",
       " [5] \"ParcelNumber\"    \"PropertyClass\"   \"PostedAV\"        \"CurrentAV\"      \n",
       " [9] \"SalePrice\"       \"PostedSaleRatio\" \"SaleRatio\"       \"MultiParcel\"    \n",
       "[13] \"Primary\"         \"StudySection\"   "
      ]
     },
     "metadata": {},
     "output_type": "display_data"
    },
    {
     "data": {
      "text/html": [
       "<style>\n",
       ".list-inline {list-style: none; margin:0; padding: 0}\n",
       ".list-inline>li {display: inline-block}\n",
       ".list-inline>li:not(:last-child)::after {content: \"\\00b7\"; padding: 0 .5ex}\n",
       "</style>\n",
       "<ol class=list-inline><li>'SaleID'</li><li>'County'</li><li>'Township'</li><li>'TaxDistrict'</li><li>'ParcelNumber'</li><li>'PropertyClass'</li><li>'PostedAV'</li><li>'CurrentAV'</li><li>'SalePrice'</li><li>'PostedSaleRatio'</li><li>'SaleRatio'</li><li>'PostedExplanation'</li><li>'Explanation'</li><li>'Reclassified'</li></ol>\n"
      ],
      "text/latex": [
       "\\begin{enumerate*}\n",
       "\\item 'SaleID'\n",
       "\\item 'County'\n",
       "\\item 'Township'\n",
       "\\item 'TaxDistrict'\n",
       "\\item 'ParcelNumber'\n",
       "\\item 'PropertyClass'\n",
       "\\item 'PostedAV'\n",
       "\\item 'CurrentAV'\n",
       "\\item 'SalePrice'\n",
       "\\item 'PostedSaleRatio'\n",
       "\\item 'SaleRatio'\n",
       "\\item 'PostedExplanation'\n",
       "\\item 'Explanation'\n",
       "\\item 'Reclassified'\n",
       "\\end{enumerate*}\n"
      ],
      "text/markdown": [
       "1. 'SaleID'\n",
       "2. 'County'\n",
       "3. 'Township'\n",
       "4. 'TaxDistrict'\n",
       "5. 'ParcelNumber'\n",
       "6. 'PropertyClass'\n",
       "7. 'PostedAV'\n",
       "8. 'CurrentAV'\n",
       "9. 'SalePrice'\n",
       "10. 'PostedSaleRatio'\n",
       "11. 'SaleRatio'\n",
       "12. 'PostedExplanation'\n",
       "13. 'Explanation'\n",
       "14. 'Reclassified'\n",
       "\n",
       "\n"
      ],
      "text/plain": [
       " [1] \"SaleID\"            \"County\"            \"Township\"         \n",
       " [4] \"TaxDistrict\"       \"ParcelNumber\"      \"PropertyClass\"    \n",
       " [7] \"PostedAV\"          \"CurrentAV\"         \"SalePrice\"        \n",
       "[10] \"PostedSaleRatio\"   \"SaleRatio\"         \"PostedExplanation\"\n",
       "[13] \"Explanation\"       \"Reclassified\"     "
      ]
     },
     "metadata": {},
     "output_type": "display_data"
    }
   ],
   "source": [
    "colnames(rat23)\n",
    "colnames(exc23)"
   ]
  },
  {
   "cell_type": "code",
   "execution_count": 30,
   "id": "b8cebd76-638e-4ea5-87ce-740e2c73bdc6",
   "metadata": {},
   "outputs": [
    {
     "data": {
      "text/html": [
       "<style>\n",
       ".list-inline {list-style: none; margin:0; padding: 0}\n",
       ".list-inline>li {display: inline-block}\n",
       ".list-inline>li:not(:last-child)::after {content: \"\\00b7\"; padding: 0 .5ex}\n",
       "</style>\n",
       "<ol class=list-inline><li>'X'</li><li>'ParcelNumber'</li><li>'Zip'</li><li>'County.x'</li><li>'Township.x'</li><li>'TaxDistrict.x'</li><li>'CountyClassification'</li><li>'ZipClassification'</li><li>'TaxClassification'</li><li>'TownshipClassification'</li><li>'Cluster'</li><li>'SaleID'</li><li>'County.y'</li><li>'Township.y'</li><li>'TaxDistrict.y'</li><li>'PropertyClass'</li><li>'PostedAV'</li><li>'CurrentAV'</li><li>'SalePrice'</li><li>'PostedSaleRatio'</li><li>'SaleRatio'</li><li>'PostedExplanation'</li><li>'Explanation'</li><li>'Reclassified'</li></ol>\n"
      ],
      "text/latex": [
       "\\begin{enumerate*}\n",
       "\\item 'X'\n",
       "\\item 'ParcelNumber'\n",
       "\\item 'Zip'\n",
       "\\item 'County.x'\n",
       "\\item 'Township.x'\n",
       "\\item 'TaxDistrict.x'\n",
       "\\item 'CountyClassification'\n",
       "\\item 'ZipClassification'\n",
       "\\item 'TaxClassification'\n",
       "\\item 'TownshipClassification'\n",
       "\\item 'Cluster'\n",
       "\\item 'SaleID'\n",
       "\\item 'County.y'\n",
       "\\item 'Township.y'\n",
       "\\item 'TaxDistrict.y'\n",
       "\\item 'PropertyClass'\n",
       "\\item 'PostedAV'\n",
       "\\item 'CurrentAV'\n",
       "\\item 'SalePrice'\n",
       "\\item 'PostedSaleRatio'\n",
       "\\item 'SaleRatio'\n",
       "\\item 'PostedExplanation'\n",
       "\\item 'Explanation'\n",
       "\\item 'Reclassified'\n",
       "\\end{enumerate*}\n"
      ],
      "text/markdown": [
       "1. 'X'\n",
       "2. 'ParcelNumber'\n",
       "3. 'Zip'\n",
       "4. 'County.x'\n",
       "5. 'Township.x'\n",
       "6. 'TaxDistrict.x'\n",
       "7. 'CountyClassification'\n",
       "8. 'ZipClassification'\n",
       "9. 'TaxClassification'\n",
       "10. 'TownshipClassification'\n",
       "11. 'Cluster'\n",
       "12. 'SaleID'\n",
       "13. 'County.y'\n",
       "14. 'Township.y'\n",
       "15. 'TaxDistrict.y'\n",
       "16. 'PropertyClass'\n",
       "17. 'PostedAV'\n",
       "18. 'CurrentAV'\n",
       "19. 'SalePrice'\n",
       "20. 'PostedSaleRatio'\n",
       "21. 'SaleRatio'\n",
       "22. 'PostedExplanation'\n",
       "23. 'Explanation'\n",
       "24. 'Reclassified'\n",
       "\n",
       "\n"
      ],
      "text/plain": [
       " [1] \"X\"                      \"ParcelNumber\"           \"Zip\"                   \n",
       " [4] \"County.x\"               \"Township.x\"             \"TaxDistrict.x\"         \n",
       " [7] \"CountyClassification\"   \"ZipClassification\"      \"TaxClassification\"     \n",
       "[10] \"TownshipClassification\" \"Cluster\"                \"SaleID\"                \n",
       "[13] \"County.y\"               \"Township.y\"             \"TaxDistrict.y\"         \n",
       "[16] \"PropertyClass\"          \"PostedAV\"               \"CurrentAV\"             \n",
       "[19] \"SalePrice\"              \"PostedSaleRatio\"        \"SaleRatio\"             \n",
       "[22] \"PostedExplanation\"      \"Explanation\"            \"Reclassified\"          "
      ]
     },
     "metadata": {},
     "output_type": "display_data"
    }
   ],
   "source": [
    "colnames(inner_join(classifications23,exc23,by=c('ParcelNumber'='ParcelNumber'),relationship = 'many-to-many'))"
   ]
  },
  {
   "cell_type": "code",
   "execution_count": 31,
   "id": "7cc9d9f6-ea62-41aa-9e6e-af46cae22218",
   "metadata": {
    "scrolled": true
   },
   "outputs": [],
   "source": [
    "counties = unique(wkbk23$County)\n",
    "clusters = unique(classifications23$Cluster)\n",
    "types = c('Industrial Vacant','Industrial Improved','Commercial Vacant','Commercial Improved',\n",
    "          'Residential Vacant','Residential Improved')\n",
    "aggressive = c('AV DOES NOT REFLECT MARKET VALUE','MULTI PARCEL SALE','INVESTMENT/RENTAL','SOLD AS IS',\n",
    "               'INSUFFICIENT TIME ON MARKET','VACANT LAND','APARTMENT','LEASE','BUILDING PERMIT',\n",
    "               'NOT ENOUGH SALES FOR TRENDING')\n",
    "moderate = c('AV DOES NOT REFLECT MARKET VALUE','MULTI PARCEL SALE','SOLD AS IS','INSUFFICIENT TIME ON MARKET',\n",
    "              'VACANT LAND','BUILDING PERMIT','NOT ENOUGH SALES FOR TRENDING')\n",
    "agdfs = list(ag22,ag23,ag24)\n",
    "resultdf = data.frame(\n",
    "    County = character(),\n",
    "    Type = character(),\n",
    "    Grouping = character(),\n",
    "    Median = numeric(),\n",
    "    COD = numeric(),\n",
    "    COV = numeric(),\n",
    "    PRD = numeric(),\n",
    "    PRB = numeric(),\n",
    "    Sales = numeric()\n",
    ")\n",
    "ratiostudyscript = function(mapping_list,type) {\n",
    "    if (type == 'original') {\n",
    "        posted = FALSE\n",
    "        for(county in counties) {\n",
    "            df = rat23[rat23$County == county,]\n",
    "            for(type in types) {\n",
    "                if (grepl('Vacant',type)) {\n",
    "                    posted = TRUE\n",
    "                } else {\n",
    "                    posted = FALSE\n",
    "                }\n",
    "                if(type == 'Commercial Vacant') {\n",
    "                    sales = df[df$PropertyClass == 400,]\n",
    "                    sales = sales[!is.na(sales$SaleID),]\n",
    "                }\n",
    "                if(type == 'Commercial Improved') {    \n",
    "                    sales = df[df$PropertyClass > 400 & df$PropertyClass < 500,]\n",
    "                    sales = sales[!is.na(sales$SaleID),]\n",
    "                }\n",
    "                if(type == 'Industrial Vacant') {\n",
    "                    sales = df[df$PropertyClass == 300,]\n",
    "                    sales = sales[!is.na(sales$SaleID),]\n",
    "                }\n",
    "                if(type == 'Industrial Improved') {\n",
    "                    sales = df[df$PropertyClass > 300 & df$PropertyClass < 400,]\n",
    "                    sales = sales[!is.na(sales$SaleID),]\n",
    "                }\n",
    "                if(type == 'Residential Vacant') {\n",
    "                    sales = df[df$PropertyClass >= 500 & df$PropertyClass < 510,]\n",
    "                    sales = sales[!is.na(sales$SaleID),]\n",
    "                }\n",
    "                if(type == 'Residential Improved') {\n",
    "                    sales = df[df$PropertyClass >= 510 & df$PropertyClass < 600,]\n",
    "                    sales = sales[!is.na(sales$SaleID),]\n",
    "                }\n",
    "                sales = sales[!is.na(sales$SaleID),]\n",
    "                numsales = nrow(sales)\n",
    "                if(numsales < 5){\n",
    "                    median = NA\n",
    "                    cod = NA\n",
    "                    cov = NA\n",
    "                    prd = NA\n",
    "                    prb = NA\n",
    "                } else {\n",
    "                    if (posted) {\n",
    "                        median = round(median(sales$PostedSaleRatio,na.rm=TRUE),2)\n",
    "                        prd = round(prd(sales$PostedAV,sales$SalePrice,sales$PostedSaleRatio),2)\n",
    "                        prb = round(prb(sales$SalePrice,sales$PostedSaleRatio),4)\n",
    "                        cod = round(cod(sales$PostedSaleRatio),2)\n",
    "                        cov = round(cov(sales$PostedSaleRatio),2)\n",
    "                    } else {\n",
    "                        median = round(median(sales$SaleRatio,na.rm=TRUE),2)\n",
    "                        prd = round(prd(sales$CurrentAV,sales$SalePrice,sales$SaleRatio),2)\n",
    "                        prb = round(prb(sales$SalePrice,sales$SaleRatio),4)\n",
    "                        cod = round(cod(sales$SaleRatio),2)\n",
    "                        cov = round(cov(sales$SaleRatio),2)\n",
    "                    }\n",
    "                }\n",
    "                newdata = data.frame(\n",
    "                    County = county,\n",
    "                    Type = type,\n",
    "                    Grouping = 'Countywide',\n",
    "                    Median = median,\n",
    "                    COD = cod,\n",
    "                    COV = cov,\n",
    "                    PRD = prd,\n",
    "                    PRB = prb,\n",
    "                    Sales = numsales\n",
    "                )\n",
    "                resultdf = rbind(resultdf,newdata)\n",
    "                mapcheck = paste0(county,\" \",type)\n",
    "                if (length(mapping_list[mapcheck][[1]]) > 0) {\n",
    "                    for (i in (1:length(mapping_list[mapcheck][[1]]))) {\n",
    "                        group = unlist(mapping_list[mapcheck][[1]][i])\n",
    "                        groupdf = sales[sales$Township %in% as.character(group),]\n",
    "                        numsales = nrow(groupdf)\n",
    "                        if(numsales < 5){\n",
    "                            median = NA\n",
    "                            cod = NA\n",
    "                            cov = NA\n",
    "                            prd = NA\n",
    "                            prb = NA\n",
    "                        } else {\n",
    "                            if (posted) {\n",
    "                                median = round(median(groupdf$PostedSaleRatio,na.rm=TRUE),2)\n",
    "                                prd = round(prd(groupdf$PostedAV,groupdf$SalePrice,groupdf$PostedSaleRatio),2)\n",
    "                                prb = round(prb(groupdf$SalePrice,groupdf$PostedSaleRatio),4)\n",
    "                                cod = round(cod(groupdf$PostedSaleRatio),2)\n",
    "                                cov = round(cov(groupdf$PostedSaleRatio),2)\n",
    "                            } else {\n",
    "                                median = round(median(groupdf$SaleRatio,na.rm=TRUE),2)\n",
    "                                prd = round(prd(groupdf$CurrentAV,groupdf$SalePrice,groupdf$SaleRatio),2)\n",
    "                                prb = round(prb(groupdf$SalePrice,groupdf$SaleRatio),4)\n",
    "                                cod = round(cod(groupdf$SaleRatio),2)\n",
    "                                cov = round(cov(groupdf$SaleRatio),2)\n",
    "                            }\n",
    "                        }\n",
    "                        newdata = data.frame(\n",
    "                            County = county,\n",
    "                            Type = type,\n",
    "                            Grouping = group[1],\n",
    "                            Median = median,\n",
    "                            COD = cod,\n",
    "                            COV = cov,\n",
    "                            PRD = prd,\n",
    "                            PRB = prb,\n",
    "                            Sales = numsales\n",
    "                            )\n",
    "                            resultdf = rbind(resultdf,newdata)\n",
    "                    }\n",
    "                }\n",
    "            }\n",
    "        }\n",
    "    }\n",
    "    if (type == 'aggressive') {\n",
    "        posted = FALSE\n",
    "        for(county in counties) {\n",
    "            df2 = rat23[rat23$County == county,1:11]\n",
    "            orig_size = nrow(df2)\n",
    "            df2$PostedExplanation = 'FROM RATIO STUDY'\n",
    "            df2$Explanation = 'FROM RATIO STUDY'\n",
    "            df3 = exc23[exc23$County == county,1:13]\n",
    "            df3 = df3[df3$Explanation %in% aggressive,]\n",
    "            df = rbind(df2,df3)\n",
    "            for(type in types) {\n",
    "                if (grepl('Vacant',type)) {\n",
    "                    posted = TRUE\n",
    "                    mad_x = median(abs(df$PostedSaleRatio - 1), na.rm = TRUE)\n",
    "                    mod_z <- 0.6745 * (df$PostedSaleRatio - 1) / mad_x\n",
    "                } else {\n",
    "                    posted = FALSE\n",
    "                    mad_x = median(abs(df$SaleRatio - 1), na.rm = TRUE)\n",
    "                    mod_z <- 0.6745 * (df$SaleRatio - 1) / mad_x\n",
    "                }\n",
    "                threshold <- quantile(abs(mod_z), 0.9, na.rm = TRUE)\n",
    "                threshnum = 0.9\n",
    "                outlierdf <- df[abs(mod_z) <= threshold, ]\n",
    "                while (nrow(outlierdf) < orig_size && threshnum < 1) {\n",
    "                    threshnum <- threshnum + 0.01\n",
    "                    threshold <- quantile(abs(mod_z), threshnum, na.rm = TRUE)\n",
    "                    outlierdf <- df[abs(mod_z) <= threshold, ]\n",
    "                }\n",
    "                if(type == 'Commercial Vacant') {\n",
    "                    sales = outlierdf[outlierdf$PropertyClass == 400,]\n",
    "                }\n",
    "                if(type == 'Commercial Improved') {    \n",
    "                    sales = outlierdf[outlierdf$PropertyClass > 400 & outlierdf$PropertyClass < 500,]\n",
    "                }\n",
    "                if(type == 'Industrial Vacant') {\n",
    "                    sales = outlierdf[outlierdf$PropertyClass == 300,]\n",
    "                }\n",
    "                if(type == 'Industrial Improved') {\n",
    "                    sales = outlierdf[outlierdf$PropertyClass > 300 & outlierdf$PropertyClass < 400,]\n",
    "                }\n",
    "                if(type == 'Residential Vacant') {\n",
    "                    sales = outlierdf[outlierdf$PropertyClass >= 500 & outlierdf$PropertyClass < 510,]\n",
    "                }\n",
    "                if(type == 'Residential Improved') {\n",
    "                    sales = outlierdf[outlierdf$PropertyClass >= 510 & outlierdf$PropertyClass < 600,]\n",
    "                }\n",
    "                sales = sales[!is.na(sales$SaleID),]\n",
    "                numsales = nrow(sales)\n",
    "                if(numsales < 5){\n",
    "                    median = NA\n",
    "                    cod = NA\n",
    "                    cov = NA\n",
    "                    prd = NA\n",
    "                    prb = NA\n",
    "                } else {\n",
    "                    if (posted) {\n",
    "                        median = round(median(sales$PostedSaleRatio,na.rm=TRUE),2)\n",
    "                        prd = round(prd(sales$PostedAV,sales$SalePrice,sales$PostedSaleRatio),2)\n",
    "                        prb = round(prb(sales$SalePrice,sales$PostedSaleRatio),4)\n",
    "                        cod = round(cod(sales$PostedSaleRatio),2)\n",
    "                        cov = round(cov(sales$PostedSaleRatio),2)\n",
    "                    } else {\n",
    "                        median = round(median(sales$SaleRatio,na.rm=TRUE),2)\n",
    "                        prd = round(prd(sales$CurrentAV,sales$SalePrice,sales$SaleRatio),2)\n",
    "                        prb = round(prb(sales$SalePrice,sales$SaleRatio),4)\n",
    "                        cod = round(cod(sales$SaleRatio),2)\n",
    "                        cov = round(cov(sales$SaleRatio),2)\n",
    "                    }\n",
    "                }\n",
    "                newdata = data.frame(\n",
    "                    County = county,\n",
    "                    Type = type,\n",
    "                    Grouping = 'Countywide',\n",
    "                    Median = median,\n",
    "                    COD = cod,\n",
    "                    COV = cov,\n",
    "                    PRD = prd,\n",
    "                    PRB = prb,\n",
    "                    Sales = numsales\n",
    "                )\n",
    "                resultdf = rbind(resultdf,newdata)\n",
    "                mapcheck = paste0(county,\" \",type)\n",
    "                if (length(mapping_list[mapcheck][[1]]) > 0) {\n",
    "                    for (i in (1:length(mapping_list[mapcheck][[1]]))) {\n",
    "                        group = unlist(mapping_list[mapcheck][[1]][i])\n",
    "                        groupdf = sales[sales$Township %in% as.character(group),]\n",
    "                        numsales = nrow(groupdf)\n",
    "                        if(numsales < 5){\n",
    "                            median = NA\n",
    "                            cod = NA\n",
    "                            cov = NA\n",
    "                            prd = NA\n",
    "                            prb = NA\n",
    "                        } else {\n",
    "                            if (posted) {\n",
    "                                median = round(median(groupdf$PostedSaleRatio,na.rm=TRUE),2)\n",
    "                                prd = round(prd(groupdf$PostedAV,groupdf$SalePrice,groupdf$PostedSaleRatio),2)\n",
    "                                prb = round(prb(groupdf$SalePrice,groupdf$PostedSaleRatio),4)\n",
    "                                cod = round(cod(groupdf$PostedSaleRatio),2)\n",
    "                                cov = round(cov(groupdf$PostedSaleRatio),2)\n",
    "                            } else {\n",
    "                                median = round(median(groupdf$SaleRatio,na.rm=TRUE),2)\n",
    "                                prd = round(prd(groupdf$CurrentAV,groupdf$SalePrice,groupdf$SaleRatio),2)\n",
    "                                prb = round(prb(groupdf$SalePrice,groupdf$SaleRatio),4)\n",
    "                                cod = round(cod(groupdf$SaleRatio),2)\n",
    "                                cov = round(cov(groupdf$SaleRatio),2)\n",
    "                            }\n",
    "                        }\n",
    "                        newdata = data.frame(\n",
    "                            County = county,\n",
    "                            Type = type,\n",
    "                            Grouping = group[1],\n",
    "                            Median = median,\n",
    "                            COD = cod,\n",
    "                            COV = cov,\n",
    "                            PRD = prd,\n",
    "                            PRB = prb,\n",
    "                            Sales = numsales\n",
    "                            )\n",
    "                            resultdf = rbind(resultdf,newdata)\n",
    "                    }\n",
    "                }\n",
    "            }\n",
    "        }\n",
    "    }\n",
    "    if (type == 'moderate') {\n",
    "        posted = FALSE\n",
    "        for(county in counties) {\n",
    "            df2 = rat23[rat23$County == county,1:11]\n",
    "            orig_size = nrow(df2)\n",
    "            df2$PostedExplanation = 'FROM RATIO STUDY'\n",
    "            df2$Explanation = 'FROM RATIO STUDY'\n",
    "            df3 = exc23[exc23$County == county,1:13]\n",
    "            df3 = df3[df3$Explanation %in% moderate,]\n",
    "            df = rbind(df2,df3)\n",
    "            for(type in types) {\n",
    "                if (grepl('Vacant',type)) {\n",
    "                    posted = TRUE\n",
    "                    mad_x = median(abs(df$PostedSaleRatio - 1), na.rm = TRUE)\n",
    "                    mod_z <- 0.6745 * (df$PostedSaleRatio - 1) / mad_x\n",
    "                } else {\n",
    "                    posted = FALSE\n",
    "                    mad_x = median(abs(df$SaleRatio - 1), na.rm = TRUE)\n",
    "                    mod_z <- 0.6745 * (df$SaleRatio - 1) / mad_x\n",
    "                }\n",
    "                threshold <- quantile(abs(mod_z), 0.9, na.rm = TRUE)\n",
    "                threshnum = 0.9\n",
    "                outlierdf <- df[abs(mod_z) <= threshold, ]\n",
    "                while (nrow(outlierdf) < orig_size && threshnum < 1) {\n",
    "                    threshnum <- threshnum + 0.01\n",
    "                    threshold <- quantile(abs(mod_z), threshnum, na.rm = TRUE)\n",
    "                    outlierdf <- df[abs(mod_z) <= threshold, ]\n",
    "                }\n",
    "                if(type == 'Commercial Vacant') {\n",
    "                    sales = outlierdf[outlierdf$PropertyClass == 400,]\n",
    "                }\n",
    "                if(type == 'Commercial Improved') {    \n",
    "                    sales = outlierdf[outlierdf$PropertyClass > 400 & outlierdf$PropertyClass < 500,]\n",
    "                }\n",
    "                if(type == 'Industrial Vacant') {\n",
    "                    sales = outlierdf[outlierdf$PropertyClass == 300,]\n",
    "                }\n",
    "                if(type == 'Industrial Improved') {\n",
    "                    sales = outlierdf[outlierdf$PropertyClass > 300 & outlierdf$PropertyClass < 400,]\n",
    "                }\n",
    "                if(type == 'Residential Vacant') {\n",
    "                    sales = outlierdf[outlierdf$PropertyClass >= 500 & outlierdf$PropertyClass < 510,]\n",
    "                }\n",
    "                if(type == 'Residential Improved') {\n",
    "                    sales = outlierdf[outlierdf$PropertyClass >= 510 & outlierdf$PropertyClass < 600,]\n",
    "                }\n",
    "                sales = sales[!is.na(sales$SaleID),]\n",
    "                numsales = nrow(sales)\n",
    "                if(numsales < 5){\n",
    "                    median = NA\n",
    "                    cod = NA\n",
    "                    cov = NA\n",
    "                    prd = NA\n",
    "                    prb = NA\n",
    "                } else {\n",
    "                    if (posted) {\n",
    "                        median = round(median(sales$PostedSaleRatio,na.rm=TRUE),2)\n",
    "                        prd = round(prd(sales$PostedAV,sales$SalePrice,sales$PostedSaleRatio),2)\n",
    "                        prb = round(prb(sales$SalePrice,sales$PostedSaleRatio),4)\n",
    "                        cod = round(cod(sales$PostedSaleRatio),2)\n",
    "                        cov = round(cov(sales$PostedSaleRatio),2)\n",
    "                    } else {\n",
    "                        median = round(median(sales$SaleRatio,na.rm=TRUE),2)\n",
    "                        prd = round(prd(sales$CurrentAV,sales$SalePrice,sales$SaleRatio),2)\n",
    "                        prb = round(prb(sales$SalePrice,sales$SaleRatio),4)\n",
    "                        cod = round(cod(sales$SaleRatio),2)\n",
    "                        cov = round(cov(sales$SaleRatio),2)\n",
    "                    }\n",
    "                }\n",
    "                newdata = data.frame(\n",
    "                    County = county,\n",
    "                    Type = type,\n",
    "                    Grouping = 'Countywide',\n",
    "                    Median = median,\n",
    "                    COD = cod,\n",
    "                    COV = cov,\n",
    "                    PRD = prd,\n",
    "                    PRB = prb,\n",
    "                    Sales = numsales\n",
    "                )\n",
    "                resultdf = rbind(resultdf,newdata)\n",
    "                mapcheck = paste0(county,\" \",type)\n",
    "                if (length(mapping_list[mapcheck][[1]]) > 0) {\n",
    "                    for (i in (1:length(mapping_list[mapcheck][[1]]))) {\n",
    "                        group = unlist(mapping_list[mapcheck][[1]][i])\n",
    "                        groupdf = sales[sales$Township %in% as.character(group),]\n",
    "                        numsales = nrow(groupdf)\n",
    "                        if(numsales < 5){\n",
    "                            median = NA\n",
    "                            cod = NA\n",
    "                            cov = NA\n",
    "                            prd = NA\n",
    "                            prb = NA\n",
    "                        } else {\n",
    "                            if (posted) {\n",
    "                                median = round(median(groupdf$PostedSaleRatio,na.rm=TRUE),2)\n",
    "                                prd = round(prd(groupdf$PostedAV,groupdf$SalePrice,groupdf$PostedSaleRatio),2)\n",
    "                                prb = round(prb(groupdf$SalePrice,groupdf$PostedSaleRatio),4)\n",
    "                                cod = round(cod(groupdf$PostedSaleRatio),2)\n",
    "                                cov = round(cov(groupdf$PostedSaleRatio),2)\n",
    "                            } else {\n",
    "                                median = round(median(groupdf$SaleRatio,na.rm=TRUE),2)\n",
    "                                prd = round(prd(groupdf$CurrentAV,groupdf$SalePrice,groupdf$SaleRatio),2)\n",
    "                                prb = round(prb(groupdf$SalePrice,groupdf$SaleRatio),4)\n",
    "                                cod = round(cod(groupdf$SaleRatio),2)\n",
    "                                cov = round(cov(groupdf$SaleRatio),2)\n",
    "                            }\n",
    "                        }\n",
    "                        newdata = data.frame(\n",
    "                            County = county,\n",
    "                            Type = type,\n",
    "                            Grouping = group[1],\n",
    "                            Median = median,\n",
    "                            COD = cod,\n",
    "                            COV = cov,\n",
    "                            PRD = prd,\n",
    "                            PRB = prb,\n",
    "                            Sales = numsales\n",
    "                            )\n",
    "                            resultdf = rbind(resultdf,newdata)\n",
    "                    }\n",
    "                }\n",
    "            }\n",
    "        }\n",
    "    }\n",
    "    if (type == 'grouped_aggressive') {\n",
    "        posted = FALSE\n",
    "        df2 = inner_join(classifications23,rat23,by=c('ParcelNumber'='ParcelNumber'),relationship = 'many-to-many')\n",
    "        for(cluster in clusters) {\n",
    "            df4 = df2[df2$Cluster == cluster,2:21]\n",
    "            orig_size = nrow(df4)\n",
    "            df4$PostedExplanation = 'FROM RATIO STUDY'\n",
    "            df4$Explanation = 'FROM RATIO STUDY'\n",
    "            df3 = inner_join(classifications23,exc23,by=c('ParcelNumber'='ParcelNumber'),relationship = 'many-to-many')\n",
    "            df3 = df3[df3$Cluster == cluster,2:23]\n",
    "            df3 = df3[df3$Explanation %in% aggressive,]\n",
    "            df = rbind(df4,df3)\n",
    "            for(type in types) {\n",
    "                if (grepl('Vacant',type)) {\n",
    "                    posted = TRUE\n",
    "                    mad_x = median(abs(df$PostedSaleRatio - 1), na.rm = TRUE)\n",
    "                    mod_z <- 0.6745 * (df$PostedSaleRatio - 1) / mad_x\n",
    "                } else {\n",
    "                    posted = FALSE\n",
    "                    mad_x = median(abs(df$SaleRatio - 1), na.rm = TRUE)\n",
    "                    mod_z <- 0.6745 * (df$SaleRatio - 1) / mad_x\n",
    "                }\n",
    "                threshold <- quantile(abs(mod_z), 0.9, na.rm = TRUE)\n",
    "                threshnum = 0.9\n",
    "                outlierdf <- df[abs(mod_z) <= threshold, ]\n",
    "                while (nrow(outlierdf) < orig_size && threshnum < 1) {\n",
    "                    threshnum <- threshnum + 0.01\n",
    "                    threshold <- quantile(abs(mod_z), threshnum, na.rm = TRUE)\n",
    "                    outlierdf <- df[abs(mod_z) <= threshold, ]\n",
    "                }\n",
    "                if(type == 'Commercial Vacant') {\n",
    "                    sales = outlierdf[outlierdf$PropertyClass == 400,]\n",
    "                }\n",
    "                if(type == 'Commercial Improved') {    \n",
    "                    sales = outlierdf[outlierdf$PropertyClass > 400 & outlierdf$PropertyClass < 500,]\n",
    "                }\n",
    "                if(type == 'Industrial Vacant') {\n",
    "                    sales = outlierdf[outlierdf$PropertyClass == 300,]\n",
    "                }\n",
    "                if(type == 'Industrial Improved') {\n",
    "                    sales = outlierdf[outlierdf$PropertyClass > 300 & outlierdf$PropertyClass < 400,]\n",
    "                }\n",
    "                if(type == 'Residential Vacant') {\n",
    "                    sales = outlierdf[outlierdf$PropertyClass >= 500 & outlierdf$PropertyClass < 510,]\n",
    "                }\n",
    "                if(type == 'Residential Improved') {\n",
    "                    sales = outlierdf[outlierdf$PropertyClass >= 510 & outlierdf$PropertyClass < 600,]\n",
    "                }\n",
    "                sales = sales[!is.na(sales$SaleID),]\n",
    "                numsales = nrow(sales)\n",
    "                if(numsales < 5){\n",
    "                    median = NA\n",
    "                    cod = NA\n",
    "                    cov = NA\n",
    "                    prd = NA\n",
    "                    prb = NA\n",
    "                } else {\n",
    "                    if (posted) {\n",
    "                        median = round(median(sales$PostedSaleRatio,na.rm=TRUE),2)\n",
    "                        prd = round(prd(sales$PostedAV,sales$SalePrice,sales$PostedSaleRatio),2)\n",
    "                        prb = round(prb(sales$SalePrice,sales$PostedSaleRatio),4)\n",
    "                        cod = round(cod(sales$PostedSaleRatio),2)\n",
    "                        cov = round(cov(sales$PostedSaleRatio),2)\n",
    "                    } else {\n",
    "                        median = round(median(sales$SaleRatio,na.rm=TRUE),2)\n",
    "                        prd = round(prd(sales$CurrentAV,sales$SalePrice,sales$SaleRatio),2)\n",
    "                        prb = round(prb(sales$SalePrice,sales$SaleRatio),4)\n",
    "                        cod = round(cod(sales$SaleRatio),2)\n",
    "                        cov = round(cov(sales$SaleRatio),2)\n",
    "                    }\n",
    "                }\n",
    "                newdata = data.frame(\n",
    "                    County = paste(unique(sales$County.x), collapse = \", \"),\n",
    "                    Type = type,\n",
    "                    Grouping = cluster,\n",
    "                    Median = median,\n",
    "                    COD = cod,\n",
    "                    COV = cov,\n",
    "                    PRD = prd,\n",
    "                    PRB = prb,\n",
    "                    Sales = numsales\n",
    "                )\n",
    "                resultdf = rbind(resultdf,newdata)\n",
    "            }\n",
    "        }\n",
    "    }\n",
    "    if (type == 'grouped_moderate') {\n",
    "        posted = FALSE\n",
    "        df2 = inner_join(classifications23,rat23,by=c('ParcelNumber'='ParcelNumber'),relationship = 'many-to-many')\n",
    "        for(cluster in clusters) {\n",
    "            df4 = df2[df2$Cluster == cluster,2:21]\n",
    "            orig_size = nrow(df4)\n",
    "            df4$PostedExplanation = 'FROM RATIO STUDY'\n",
    "            df4$Explanation = 'FROM RATIO STUDY'\n",
    "            df3 = inner_join(classifications23,exc23,by=c('ParcelNumber'='ParcelNumber'),relationship = 'many-to-many')\n",
    "            df3 = df3[df3$Cluster == cluster,2:23]\n",
    "            df3 = df3[df3$Explanation %in% moderate,]\n",
    "            df = rbind(df4,df3)\n",
    "            for(type in types) {\n",
    "                if (grepl('Vacant',type)) {\n",
    "                    posted = TRUE\n",
    "                    mad_x = median(abs(df$PostedSaleRatio - 1), na.rm = TRUE)\n",
    "                    mod_z <- 0.6745 * (df$PostedSaleRatio - 1) / mad_x\n",
    "                } else {\n",
    "                    posted = FALSE\n",
    "                    mad_x = median(abs(df$SaleRatio - 1), na.rm = TRUE)\n",
    "                    mod_z <- 0.6745 * (df$SaleRatio - 1) / mad_x\n",
    "                }\n",
    "                threshold <- quantile(abs(mod_z), 0.9, na.rm = TRUE)\n",
    "                threshnum = 0.9\n",
    "                outlierdf <- df[abs(mod_z) <= threshold, ]\n",
    "                while (nrow(outlierdf) < orig_size && threshnum < 1) {\n",
    "                    threshnum <- threshnum + 0.01\n",
    "                    threshold <- quantile(abs(mod_z), threshnum, na.rm = TRUE)\n",
    "                    outlierdf <- df[abs(mod_z) <= threshold, ]\n",
    "                }\n",
    "                if(type == 'Commercial Vacant') {\n",
    "                    sales = outlierdf[outlierdf$PropertyClass == 400,]\n",
    "                }\n",
    "                if(type == 'Commercial Improved') {    \n",
    "                    sales = outlierdf[outlierdf$PropertyClass > 400 & outlierdf$PropertyClass < 500,]\n",
    "                }\n",
    "                if(type == 'Industrial Vacant') {\n",
    "                    sales = outlierdf[outlierdf$PropertyClass == 300,]\n",
    "                }\n",
    "                if(type == 'Industrial Improved') {\n",
    "                    sales = outlierdf[outlierdf$PropertyClass > 300 & outlierdf$PropertyClass < 400,]\n",
    "                }\n",
    "                if(type == 'Residential Vacant') {\n",
    "                    sales = outlierdf[outlierdf$PropertyClass >= 500 & outlierdf$PropertyClass < 510,]\n",
    "                }\n",
    "                if(type == 'Residential Improved') {\n",
    "                    sales = outlierdf[outlierdf$PropertyClass >= 510 & outlierdf$PropertyClass < 600,]\n",
    "                }\n",
    "                sales = sales[!is.na(sales$SaleID),]\n",
    "                numsales = nrow(sales)\n",
    "                if(numsales < 5){\n",
    "                    median = NA\n",
    "                    cod = NA\n",
    "                    cov = NA\n",
    "                    prd = NA\n",
    "                    prb = NA\n",
    "                } else {\n",
    "                    if (posted) {\n",
    "                        median = round(median(sales$PostedSaleRatio,na.rm=TRUE),2)\n",
    "                        prd = round(prd(sales$PostedAV,sales$SalePrice,sales$PostedSaleRatio),2)\n",
    "                        prb = round(prb(sales$SalePrice,sales$PostedSaleRatio),4)\n",
    "                        cod = round(cod(sales$PostedSaleRatio),2)\n",
    "                        cov = round(cov(sales$PostedSaleRatio),2)\n",
    "                    } else {\n",
    "                        median = round(median(sales$SaleRatio,na.rm=TRUE),2)\n",
    "                        prd = round(prd(sales$CurrentAV,sales$SalePrice,sales$SaleRatio),2)\n",
    "                        prb = round(prb(sales$SalePrice,sales$SaleRatio),4)\n",
    "                        cod = round(cod(sales$SaleRatio),2)\n",
    "                        cov = round(cov(sales$SaleRatio),2)\n",
    "                    }\n",
    "                }\n",
    "                newdata = data.frame(\n",
    "                    County = paste(unique(sales$County.x), collapse = \", \"),\n",
    "                    Type = type,\n",
    "                    Grouping = cluster,\n",
    "                    Median = median,\n",
    "                    COD = cod,\n",
    "                    COV = cov,\n",
    "                    PRD = prd,\n",
    "                    PRB = prb,\n",
    "                    Sales = numsales\n",
    "                )\n",
    "                resultdf = rbind(resultdf,newdata)\n",
    "            }\n",
    "        }\n",
    "    }\n",
    "    if (type == 'grouped_original') {\n",
    "        posted = FALSE\n",
    "        df2 = inner_join(classifications23,rat23,by=c('ParcelNumber'='ParcelNumber'),relationship = 'many-to-many')\n",
    "        for(cluster in clusters) {\n",
    "            df = df2[df2$Cluster == cluster, ]\n",
    "            for(type in types) {\n",
    "                if (grepl('Vacant',type)) {\n",
    "                    posted = TRUE\n",
    "                    mad_x = median(abs(df$PostedSaleRatio - 1), na.rm = TRUE)\n",
    "                    mod_z <- 0.6745 * (df$PostedSaleRatio - 1) / mad_x\n",
    "                } else {\n",
    "                    posted = FALSE\n",
    "                    mad_x = median(abs(df$SaleRatio - 1), na.rm = TRUE)\n",
    "                    mod_z <- 0.6745 * (df$SaleRatio - 1) / mad_x\n",
    "                }\n",
    "                outlierdf <- df\n",
    "                if(type == 'Commercial Vacant') {\n",
    "                    sales = outlierdf[outlierdf$PropertyClass == 400,]\n",
    "                }\n",
    "                if(type == 'Commercial Improved') {    \n",
    "                    sales = outlierdf[outlierdf$PropertyClass > 400 & outlierdf$PropertyClass < 500,]\n",
    "                }\n",
    "                if(type == 'Industrial Vacant') {\n",
    "                    sales = outlierdf[outlierdf$PropertyClass == 300,]\n",
    "                }\n",
    "                if(type == 'Industrial Improved') {\n",
    "                    sales = outlierdf[outlierdf$PropertyClass > 300 & outlierdf$PropertyClass < 400,]\n",
    "                }\n",
    "                if(type == 'Residential Vacant') {\n",
    "                    sales = outlierdf[outlierdf$PropertyClass >= 500 & outlierdf$PropertyClass < 510,]\n",
    "                }\n",
    "                if(type == 'Residential Improved') {\n",
    "                    sales = outlierdf[outlierdf$PropertyClass >= 510 & outlierdf$PropertyClass < 600,]\n",
    "                }\n",
    "                sales = sales[!is.na(sales$SaleID),]\n",
    "                numsales = nrow(sales)\n",
    "                if(numsales < 5){\n",
    "                    median = NA\n",
    "                    cod = NA\n",
    "                    cov = NA\n",
    "                    prd = NA\n",
    "                    prb = NA\n",
    "                } else {\n",
    "                    if (posted) {\n",
    "                        median = round(median(sales$PostedSaleRatio,na.rm=TRUE),2)\n",
    "                        prd = round(prd(sales$PostedAV,sales$SalePrice,sales$PostedSaleRatio),2)\n",
    "                        prb = round(prb(sales$SalePrice,sales$PostedSaleRatio),4)\n",
    "                        cod = round(cod(sales$PostedSaleRatio),2)\n",
    "                        cov = round(cov(sales$PostedSaleRatio),2)\n",
    "                    } else {\n",
    "                        median = round(median(sales$SaleRatio,na.rm=TRUE),2)\n",
    "                        prd = round(prd(sales$CurrentAV,sales$SalePrice,sales$SaleRatio),2)\n",
    "                        prb = round(prb(sales$SalePrice,sales$SaleRatio),4)\n",
    "                        cod = round(cod(sales$SaleRatio),2)\n",
    "                        cov = round(cov(sales$SaleRatio),2)\n",
    "                    }\n",
    "                }\n",
    "                newdata = data.frame(\n",
    "                    County = paste(unique(sales$County.x), collapse = \", \"),\n",
    "                    Type = type,\n",
    "                    Grouping = cluster,\n",
    "                    Median = median,\n",
    "                    COD = cod,\n",
    "                    COV = cov,\n",
    "                    PRD = prd,\n",
    "                    PRB = prb,\n",
    "                    Sales = numsales\n",
    "                )\n",
    "                resultdf = rbind(resultdf,newdata)\n",
    "            }\n",
    "        }\n",
    "    }\n",
    "    if (type == 'ag') {\n",
    "        for (agdf in agdfs) {\n",
    "            sales = agdf\n",
    "            sales = sales[!is.na(sales$SaleID),]\n",
    "            numsales = nrow(sales)\n",
    "            if(numsales < 5){\n",
    "                median = NA\n",
    "                cod = NA\n",
    "                cov = NA\n",
    "                prd = NA\n",
    "                prb = NA\n",
    "            } else {\n",
    "                median = round(median(sales$SaleRatio,na.rm=TRUE),2)\n",
    "                prd = round(prd(sales$TotalAV,sales$SalePrice,sales$SaleRatio),2)\n",
    "                prb = round(prb(sales$SalePrice,sales$SaleRatio),4)\n",
    "                cod = round(cod(sales$SaleRatio),2)\n",
    "                cov = round(cov(sales$SaleRatio),2)\n",
    "            }\n",
    "            if (identical(ag22,agdf)) {\n",
    "                type = 'AG22'\n",
    "            } else if (identical(ag23,agdf)) {\n",
    "                type = 'AG23'\n",
    "            } else {\n",
    "                type = 'AG24'\n",
    "            }\n",
    "            newdata = data.frame(\n",
    "                County = 'Statewide',\n",
    "                Type = type,\n",
    "                Grouping = 'Statewide',\n",
    "                Median = median,\n",
    "                COD = cod,\n",
    "                COV = cov,\n",
    "                PRD = prd,\n",
    "                PRB = prb,\n",
    "                Sales = numsales\n",
    "            )\n",
    "            resultdf = rbind(resultdf,newdata)\n",
    "            for (county in counties) {\n",
    "                sales = agdf[agdf$County == county,]\n",
    "                sales = sales[!is.na(sales$SaleID),]\n",
    "                numsales = nrow(sales)\n",
    "                if(numsales < 5){\n",
    "                    median = NA\n",
    "                    cod = NA\n",
    "                    cov = NA\n",
    "                    prd = NA\n",
    "                    prb = NA\n",
    "                } else {\n",
    "                    median = round(median(sales$SaleRatio,na.rm=TRUE),2)\n",
    "                    prd = round(prd(sales$TotalAV,sales$SalePrice,sales$SaleRatio),2)\n",
    "                    prb = round(prb(sales$SalePrice,sales$SaleRatio),4)\n",
    "                    cod = round(cod(sales$SaleRatio),2)\n",
    "                    cov = round(cov(sales$SaleRatio),2)\n",
    "                }\n",
    "                newdata = data.frame(\n",
    "                    County = county,\n",
    "                    Type = type,\n",
    "                    Grouping = 'Countywide',\n",
    "                    Median = median,\n",
    "                    COD = cod,\n",
    "                    COV = cov,\n",
    "                    PRD = prd,\n",
    "                    PRB = prb,\n",
    "                    Sales = numsales\n",
    "                )\n",
    "                resultdf = rbind(resultdf,newdata)\n",
    "            }            \n",
    "        }\n",
    "    }\n",
    "    return(resultdf)\n",
    "}\n"
   ]
  },
  {
   "cell_type": "code",
   "execution_count": 33,
   "id": "1a04428c-e6b2-48ec-a48c-f1e6db42a501",
   "metadata": {},
   "outputs": [
    {
     "data": {
      "text/html": [
       "<table class=\"dataframe\">\n",
       "<caption>A data.frame: 6 x 9</caption>\n",
       "<thead>\n",
       "\t<tr><th></th><th scope=col>County</th><th scope=col>Type</th><th scope=col>Grouping</th><th scope=col>Median</th><th scope=col>COD</th><th scope=col>COV</th><th scope=col>PRD</th><th scope=col>PRB</th><th scope=col>Sales</th></tr>\n",
       "\t<tr><th></th><th scope=col>&lt;chr&gt;</th><th scope=col>&lt;chr&gt;</th><th scope=col>&lt;int&gt;</th><th scope=col>&lt;dbl&gt;</th><th scope=col>&lt;dbl&gt;</th><th scope=col>&lt;dbl&gt;</th><th scope=col>&lt;dbl&gt;</th><th scope=col>&lt;dbl&gt;</th><th scope=col>&lt;int&gt;</th></tr>\n",
       "</thead>\n",
       "<tbody>\n",
       "\t<tr><th scope=row>1</th><td>Elkhart, Kosciusko, Lagrange                                                                                                                     </td><td>Industrial Vacant   </td><td>2</td><td>  NA</td><td>   NA</td><td>   NA</td><td>  NA</td><td>NA</td><td>   3</td></tr>\n",
       "\t<tr><th scope=row>df_sp</th><td>Allen, Blackford, Delaware, Elkhart, Kosciusko, Lagrange, Wells                                                                                  </td><td>Industrial Improved </td><td>2</td><td>0.73</td><td>24.90</td><td>29.17</td><td>1.14</td><td> 0</td><td>  18</td></tr>\n",
       "\t<tr><th scope=row>11</th><td>Allen, Kosciusko, Lagrange                                                                                                                       </td><td>Commercial Vacant   </td><td>2</td><td>  NA</td><td>   NA</td><td>   NA</td><td>  NA</td><td>NA</td><td>   4</td></tr>\n",
       "\t<tr><th scope=row>df_sp1</th><td>Adams, Blackford, Delaware, Elkhart, Grant, Huntington, Jay, Kosciusko, Lagrange, Noble, Wabash, Wells                                           </td><td>Commercial Improved </td><td>2</td><td>0.94</td><td>23.41</td><td>71.08</td><td>1.08</td><td> 0</td><td> 133</td></tr>\n",
       "\t<tr><th scope=row>df_sp2</th><td>Adams, Allen, Blackford, Delaware, Huntington, Jay, Kosciusko, Lagrange, Noble, Wells                                                            </td><td>Residential Vacant  </td><td>2</td><td>0.96</td><td>19.17</td><td>39.03</td><td>1.01</td><td> 0</td><td> 102</td></tr>\n",
       "\t<tr><th scope=row>df_sp3</th><td>Adams, Dekalb, Elkhart, Huntington, Jay, Noble, Steuben, Wells, Allen, Blackford, Delaware, Grant, Kosciusko, Lagrange, Madison, Randolph, Wabash</td><td>Residential Improved</td><td>2</td><td>0.96</td><td>13.69</td><td>40.33</td><td>1.03</td><td> 0</td><td>5318</td></tr>\n",
       "</tbody>\n",
       "</table>\n"
      ],
      "text/latex": [
       "A data.frame: 6 x 9\n",
       "\\begin{tabular}{r|lllllllll}\n",
       "  & County & Type & Grouping & Median & COD & COV & PRD & PRB & Sales\\\\\n",
       "  & <chr> & <chr> & <int> & <dbl> & <dbl> & <dbl> & <dbl> & <dbl> & <int>\\\\\n",
       "\\hline\n",
       "\t1 & Elkhart, Kosciusko, Lagrange                                                                                                                      & Industrial Vacant    & 2 &   NA &    NA &    NA &   NA & NA &    3\\\\\n",
       "\tdf\\_sp & Allen, Blackford, Delaware, Elkhart, Kosciusko, Lagrange, Wells                                                                                   & Industrial Improved  & 2 & 0.73 & 24.90 & 29.17 & 1.14 &  0 &   18\\\\\n",
       "\t11 & Allen, Kosciusko, Lagrange                                                                                                                        & Commercial Vacant    & 2 &   NA &    NA &    NA &   NA & NA &    4\\\\\n",
       "\tdf\\_sp1 & Adams, Blackford, Delaware, Elkhart, Grant, Huntington, Jay, Kosciusko, Lagrange, Noble, Wabash, Wells                                            & Commercial Improved  & 2 & 0.94 & 23.41 & 71.08 & 1.08 &  0 &  133\\\\\n",
       "\tdf\\_sp2 & Adams, Allen, Blackford, Delaware, Huntington, Jay, Kosciusko, Lagrange, Noble, Wells                                                             & Residential Vacant   & 2 & 0.96 & 19.17 & 39.03 & 1.01 &  0 &  102\\\\\n",
       "\tdf\\_sp3 & Adams, Dekalb, Elkhart, Huntington, Jay, Noble, Steuben, Wells, Allen, Blackford, Delaware, Grant, Kosciusko, Lagrange, Madison, Randolph, Wabash & Residential Improved & 2 & 0.96 & 13.69 & 40.33 & 1.03 &  0 & 5318\\\\\n",
       "\\end{tabular}\n"
      ],
      "text/markdown": [
       "\n",
       "A data.frame: 6 x 9\n",
       "\n",
       "| <!--/--> | County &lt;chr&gt; | Type &lt;chr&gt; | Grouping &lt;int&gt; | Median &lt;dbl&gt; | COD &lt;dbl&gt; | COV &lt;dbl&gt; | PRD &lt;dbl&gt; | PRB &lt;dbl&gt; | Sales &lt;int&gt; |\n",
       "|---|---|---|---|---|---|---|---|---|---|\n",
       "| 1 | Elkhart, Kosciusko, Lagrange                                                                                                                      | Industrial Vacant    | 2 |   NA |    NA |    NA |   NA | NA |    3 |\n",
       "| df_sp | Allen, Blackford, Delaware, Elkhart, Kosciusko, Lagrange, Wells                                                                                   | Industrial Improved  | 2 | 0.73 | 24.90 | 29.17 | 1.14 |  0 |   18 |\n",
       "| 11 | Allen, Kosciusko, Lagrange                                                                                                                        | Commercial Vacant    | 2 |   NA |    NA |    NA |   NA | NA |    4 |\n",
       "| df_sp1 | Adams, Blackford, Delaware, Elkhart, Grant, Huntington, Jay, Kosciusko, Lagrange, Noble, Wabash, Wells                                            | Commercial Improved  | 2 | 0.94 | 23.41 | 71.08 | 1.08 |  0 |  133 |\n",
       "| df_sp2 | Adams, Allen, Blackford, Delaware, Huntington, Jay, Kosciusko, Lagrange, Noble, Wells                                                             | Residential Vacant   | 2 | 0.96 | 19.17 | 39.03 | 1.01 |  0 |  102 |\n",
       "| df_sp3 | Adams, Dekalb, Elkhart, Huntington, Jay, Noble, Steuben, Wells, Allen, Blackford, Delaware, Grant, Kosciusko, Lagrange, Madison, Randolph, Wabash | Residential Improved | 2 | 0.96 | 13.69 | 40.33 | 1.03 |  0 | 5318 |\n",
       "\n"
      ],
      "text/plain": [
       "       County                                                                                                                                           \n",
       "1      Elkhart, Kosciusko, Lagrange                                                                                                                     \n",
       "df_sp  Allen, Blackford, Delaware, Elkhart, Kosciusko, Lagrange, Wells                                                                                  \n",
       "11     Allen, Kosciusko, Lagrange                                                                                                                       \n",
       "df_sp1 Adams, Blackford, Delaware, Elkhart, Grant, Huntington, Jay, Kosciusko, Lagrange, Noble, Wabash, Wells                                           \n",
       "df_sp2 Adams, Allen, Blackford, Delaware, Huntington, Jay, Kosciusko, Lagrange, Noble, Wells                                                            \n",
       "df_sp3 Adams, Dekalb, Elkhart, Huntington, Jay, Noble, Steuben, Wells, Allen, Blackford, Delaware, Grant, Kosciusko, Lagrange, Madison, Randolph, Wabash\n",
       "       Type                 Grouping Median COD   COV   PRD  PRB Sales\n",
       "1      Industrial Vacant    2          NA      NA    NA   NA NA     3 \n",
       "df_sp  Industrial Improved  2        0.73   24.90 29.17 1.14  0    18 \n",
       "11     Commercial Vacant    2          NA      NA    NA   NA NA     4 \n",
       "df_sp1 Commercial Improved  2        0.94   23.41 71.08 1.08  0   133 \n",
       "df_sp2 Residential Vacant   2        0.96   19.17 39.03 1.01  0   102 \n",
       "df_sp3 Residential Improved 2        0.96   13.69 40.33 1.03  0  5318 "
      ]
     },
     "metadata": {},
     "output_type": "display_data"
    }
   ],
   "source": [
    "#gresult = ratiostudyscript(mapping_list,'grouped_moderate')\n",
    "ogresult = ratiostudyscript(mapping_list,'grouped_original')\n",
    "order = c('Marion','Hamilton','Johnson','Hancock','Boone','Tipton','Clinton','Lake','Porter','Tippecanoe','Laporte','Benton','White',\n",
    "          'Pulaski','Starke','Jasper','Newton','Marshall','Fulton','Cass','Carroll','Howard','Warren','Allen','Elkhart','St. Joseph',\n",
    "          'Kosciusko','Whitley','Noble','Steuben','Dekalb','Lagrange','Adams','Miami','Wabash','Huntington','Wells','Vanderburgh',\n",
    "          'Monroe','Hendricks','Vigo','Warrick','Morgan','Clay','Owen','Greene','Martin','Daviess','Knox','Pike','Gibson','Posey',\n",
    "          'Spencer','Dubois','Sullivan','Putnam','Parke','Vermillion','Perry','Lawrence','Montgomery','Fountain','Orange','Crawford',\n",
    "          'Clark','Delaware','Madison','Bartholomew','Floyd','Wayne','Fayette','Union','Franklin','Decatur','Dearborn','Ripley','Ohio',\n",
    "          'Switzerland','Jefferson','Jennings','Scott','Harrison','Henry','Rush','Jackson','Shelby','Brown','Washington','Randolph',\n",
    "          'Jay','Blackford','Grant'\n",
    "         )\n",
    "\n",
    "#ogresult$County <- factor(ogresult$County, levels = order)\n",
    "#ogresult = ogresult[order(ogresult$County), ]\n",
    "head(ogresult)\n",
    "#sample_n(agresult[agresult$Type == 'Residential Improved',],5)\n",
    "#agresult[agresult$Type == 'Residential Improved',]"
   ]
  },
  {
   "cell_type": "code",
   "execution_count": 67,
   "id": "c026d975-1e5e-4fe6-a2f7-5073708de4c6",
   "metadata": {},
   "outputs": [],
   "source": [
    "write.csv(ogresult,'Countywide_Original.csv')"
   ]
  },
  {
   "cell_type": "code",
   "execution_count": 28,
   "id": "0c26beec-1b9d-4e5d-b4ea-82a7574ff4c8",
   "metadata": {},
   "outputs": [
    {
     "data": {
      "text/html": [
       "122926"
      ],
      "text/latex": [
       "122926"
      ],
      "text/markdown": [
       "122926"
      ],
      "text/plain": [
       "[1] 122926"
      ]
     },
     "metadata": {},
     "output_type": "display_data"
    }
   ],
   "source": [
    "sum(agresult$Sales)"
   ]
  },
  {
   "cell_type": "code",
   "execution_count": 35,
   "id": "dbed9d97-5ec1-431b-b7a2-81a287a65e46",
   "metadata": {},
   "outputs": [
    {
     "data": {
      "text/html": [
       "91094"
      ],
      "text/latex": [
       "91094"
      ],
      "text/markdown": [
       "91094"
      ],
      "text/plain": [
       "[1] 91094"
      ]
     },
     "metadata": {},
     "output_type": "display_data"
    }
   ],
   "source": [
    "nrow(exc23)"
   ]
  },
  {
   "cell_type": "code",
   "execution_count": 117,
   "id": "6d967e93-2050-4aac-a0af-f94a8e11b13c",
   "metadata": {},
   "outputs": [],
   "source": [
    "write.csv(agresult,'Countywide_Ag.csv')"
   ]
  },
  {
   "cell_type": "code",
   "execution_count": 21,
   "id": "cfb66a3c-0541-44db-b8e9-608dabc84f33",
   "metadata": {},
   "outputs": [
    {
     "data": {
      "text/html": [
       "<table class=\"dataframe\">\n",
       "<caption>A data.frame: 6 x 10</caption>\n",
       "<thead>\n",
       "\t<tr><th></th><th scope=col>County</th><th scope=col>Type</th><th scope=col>Grouping</th><th scope=col>Median</th><th scope=col>COD</th><th scope=col>COV</th><th scope=col>PRD</th><th scope=col>PRB</th><th scope=col>Sales</th><th scope=col>Added</th></tr>\n",
       "\t<tr><th></th><th scope=col>&lt;fct&gt;</th><th scope=col>&lt;chr&gt;</th><th scope=col>&lt;chr&gt;</th><th scope=col>&lt;dbl&gt;</th><th scope=col>&lt;dbl&gt;</th><th scope=col>&lt;dbl&gt;</th><th scope=col>&lt;dbl&gt;</th><th scope=col>&lt;dbl&gt;</th><th scope=col>&lt;int&gt;</th><th scope=col>&lt;chr&gt;</th></tr>\n",
       "</thead>\n",
       "<tbody>\n",
       "\t<tr><th scope=row>df_sp656</th><td>Marion</td><td>Industrial Vacant  </td><td>Countywide</td><td>0.97</td><td>12.33</td><td>16.91</td><td>0.97</td><td>0</td><td> 6</td><td>Original</td></tr>\n",
       "\t<tr><th scope=row>df_sp657</th><td>Marion</td><td>Industrial Improved</td><td>Countywide</td><td>0.94</td><td>10.09</td><td>13.94</td><td>1.04</td><td>0</td><td>28</td><td>Original</td></tr>\n",
       "\t<tr><th scope=row>df_sp658</th><td>Marion</td><td>Industrial Improved</td><td>Center    </td><td>0.94</td><td>11.35</td><td>15.81</td><td>1.03</td><td>0</td><td>17</td><td>Original</td></tr>\n",
       "\t<tr><th scope=row>df_sp659</th><td>Marion</td><td>Industrial Improved</td><td>Decatur   </td><td>0.91</td><td> 5.97</td><td> 9.10</td><td>1.02</td><td>0</td><td> 5</td><td>Original</td></tr>\n",
       "\t<tr><th scope=row>df_sp660</th><td>Marion</td><td>Industrial Improved</td><td>Warren    </td><td>0.97</td><td> 8.70</td><td>10.45</td><td>0.99</td><td>0</td><td> 6</td><td>Original</td></tr>\n",
       "\t<tr><th scope=row>df_sp661</th><td>Marion</td><td>Commercial Vacant  </td><td>Countywide</td><td>0.99</td><td>15.21</td><td>19.67</td><td>1.04</td><td>0</td><td>13</td><td>Original</td></tr>\n",
       "</tbody>\n",
       "</table>\n"
      ],
      "text/latex": [
       "A data.frame: 6 x 10\n",
       "\\begin{tabular}{r|llllllllll}\n",
       "  & County & Type & Grouping & Median & COD & COV & PRD & PRB & Sales & Added\\\\\n",
       "  & <fct> & <chr> & <chr> & <dbl> & <dbl> & <dbl> & <dbl> & <dbl> & <int> & <chr>\\\\\n",
       "\\hline\n",
       "\tdf\\_sp656 & Marion & Industrial Vacant   & Countywide & 0.97 & 12.33 & 16.91 & 0.97 & 0 &  6 & Original\\\\\n",
       "\tdf\\_sp657 & Marion & Industrial Improved & Countywide & 0.94 & 10.09 & 13.94 & 1.04 & 0 & 28 & Original\\\\\n",
       "\tdf\\_sp658 & Marion & Industrial Improved & Center     & 0.94 & 11.35 & 15.81 & 1.03 & 0 & 17 & Original\\\\\n",
       "\tdf\\_sp659 & Marion & Industrial Improved & Decatur    & 0.91 &  5.97 &  9.10 & 1.02 & 0 &  5 & Original\\\\\n",
       "\tdf\\_sp660 & Marion & Industrial Improved & Warren     & 0.97 &  8.70 & 10.45 & 0.99 & 0 &  6 & Original\\\\\n",
       "\tdf\\_sp661 & Marion & Commercial Vacant   & Countywide & 0.99 & 15.21 & 19.67 & 1.04 & 0 & 13 & Original\\\\\n",
       "\\end{tabular}\n"
      ],
      "text/markdown": [
       "\n",
       "A data.frame: 6 x 10\n",
       "\n",
       "| <!--/--> | County &lt;fct&gt; | Type &lt;chr&gt; | Grouping &lt;chr&gt; | Median &lt;dbl&gt; | COD &lt;dbl&gt; | COV &lt;dbl&gt; | PRD &lt;dbl&gt; | PRB &lt;dbl&gt; | Sales &lt;int&gt; | Added &lt;chr&gt; |\n",
       "|---|---|---|---|---|---|---|---|---|---|---|\n",
       "| df_sp656 | Marion | Industrial Vacant   | Countywide | 0.97 | 12.33 | 16.91 | 0.97 | 0 |  6 | Original |\n",
       "| df_sp657 | Marion | Industrial Improved | Countywide | 0.94 | 10.09 | 13.94 | 1.04 | 0 | 28 | Original |\n",
       "| df_sp658 | Marion | Industrial Improved | Center     | 0.94 | 11.35 | 15.81 | 1.03 | 0 | 17 | Original |\n",
       "| df_sp659 | Marion | Industrial Improved | Decatur    | 0.91 |  5.97 |  9.10 | 1.02 | 0 |  5 | Original |\n",
       "| df_sp660 | Marion | Industrial Improved | Warren     | 0.97 |  8.70 | 10.45 | 0.99 | 0 |  6 | Original |\n",
       "| df_sp661 | Marion | Commercial Vacant   | Countywide | 0.99 | 15.21 | 19.67 | 1.04 | 0 | 13 | Original |\n",
       "\n"
      ],
      "text/plain": [
       "         County Type                Grouping   Median COD   COV   PRD  PRB\n",
       "df_sp656 Marion Industrial Vacant   Countywide 0.97   12.33 16.91 0.97 0  \n",
       "df_sp657 Marion Industrial Improved Countywide 0.94   10.09 13.94 1.04 0  \n",
       "df_sp658 Marion Industrial Improved Center     0.94   11.35 15.81 1.03 0  \n",
       "df_sp659 Marion Industrial Improved Decatur    0.91    5.97  9.10 1.02 0  \n",
       "df_sp660 Marion Industrial Improved Warren     0.97    8.70 10.45 0.99 0  \n",
       "df_sp661 Marion Commercial Vacant   Countywide 0.99   15.21 19.67 1.04 0  \n",
       "         Sales Added   \n",
       "df_sp656  6    Original\n",
       "df_sp657 28    Original\n",
       "df_sp658 17    Original\n",
       "df_sp659  5    Original\n",
       "df_sp660  6    Original\n",
       "df_sp661 13    Original"
      ]
     },
     "metadata": {},
     "output_type": "display_data"
    }
   ],
   "source": [
    "ogresult$Added = 'Original'\n",
    "head(ogresult)"
   ]
  },
  {
   "cell_type": "code",
   "execution_count": 22,
   "id": "0bc9abe7-516d-45e7-ae35-8e25f395ccc7",
   "metadata": {},
   "outputs": [],
   "source": [
    "agresult = ratiostudyscript(mapping_list,'aggressive')\n",
    "order = c('Marion','Hamilton','Johnson','Hancock','Boone','Tipton','Clinton','Lake','Porter','Tippecanoe','Laporte','Benton','White',\n",
    "          'Pulaski','Starke','Jasper','Newton','Marshall','Fulton','Cass','Carroll','Howard','Warren','Allen','Elkhart','St. Joseph',\n",
    "          'Kosciusko','Whitley','Noble','Steuben','Dekalb','Lagrange','Adams','Miami','Wabash','Huntington','Wells','Vanderburgh',\n",
    "          'Monroe','Hendricks','Vigo','Warrick','Morgan','Clay','Owen','Greene','Martin','Daviess','Knox','Pike','Gibson','Posey',\n",
    "          'Spencer','Dubois','Sullivan','Putnam','Parke','Vermillion','Perry','Lawrence','Montgomery','Fountain','Orange','Crawford',\n",
    "          'Clark','Delaware','Madison','Bartholomew','Floyd','Wayne','Fayette','Union','Franklin','Decatur','Dearborn','Ripley','Ohio',\n",
    "          'Switzerland','Jefferson','Jennings','Scott','Harrison','Henry','Rush','Jackson','Shelby','Brown','Washington','Randolph',\n",
    "          'Jay','Blackford','Grant'\n",
    "         )\n",
    "agresult$County <- factor(agresult$County, levels = order)\n",
    "\n",
    "# Now if you order the data frame by County:\n",
    "agresult = agresult[order(agresult$County), ]"
   ]
  },
  {
   "cell_type": "code",
   "execution_count": 23,
   "id": "66868904-02d2-4c01-a116-774c361ea8ea",
   "metadata": {},
   "outputs": [
    {
     "data": {
      "text/html": [
       "<table class=\"dataframe\">\n",
       "<caption>A data.frame: 6 x 10</caption>\n",
       "<thead>\n",
       "\t<tr><th></th><th scope=col>County</th><th scope=col>Type</th><th scope=col>Grouping</th><th scope=col>Median</th><th scope=col>COD</th><th scope=col>COV</th><th scope=col>PRD</th><th scope=col>PRB</th><th scope=col>Sales</th><th scope=col>Added</th></tr>\n",
       "\t<tr><th></th><th scope=col>&lt;fct&gt;</th><th scope=col>&lt;chr&gt;</th><th scope=col>&lt;chr&gt;</th><th scope=col>&lt;dbl&gt;</th><th scope=col>&lt;dbl&gt;</th><th scope=col>&lt;dbl&gt;</th><th scope=col>&lt;dbl&gt;</th><th scope=col>&lt;dbl&gt;</th><th scope=col>&lt;int&gt;</th><th scope=col>&lt;chr&gt;</th></tr>\n",
       "</thead>\n",
       "<tbody>\n",
       "\t<tr><th scope=row>df_sp696</th><td>Marion</td><td>Industrial Vacant  </td><td>Countywide</td><td>0.94</td><td>32.06</td><td>55.51</td><td>2.49</td><td>0</td><td> 9</td><td>Aggressive</td></tr>\n",
       "\t<tr><th scope=row>df_sp697</th><td>Marion</td><td>Industrial Improved</td><td>Countywide</td><td>0.60</td><td>43.54</td><td>47.52</td><td>1.13</td><td>0</td><td>70</td><td>Aggressive</td></tr>\n",
       "\t<tr><th scope=row>df_sp698</th><td>Marion</td><td>Industrial Improved</td><td>Center    </td><td>0.56</td><td>45.02</td><td>48.11</td><td>1.24</td><td>0</td><td>41</td><td>Aggressive</td></tr>\n",
       "\t<tr><th scope=row>df_sp699</th><td>Marion</td><td>Industrial Improved</td><td>Decatur   </td><td>0.53</td><td>44.61</td><td>51.86</td><td>1.00</td><td>0</td><td>13</td><td>Aggressive</td></tr>\n",
       "\t<tr><th scope=row>df_sp700</th><td>Marion</td><td>Industrial Improved</td><td>Warren    </td><td>0.73</td><td>35.11</td><td>42.19</td><td>1.19</td><td>0</td><td>16</td><td>Aggressive</td></tr>\n",
       "\t<tr><th scope=row>df_sp701</th><td>Marion</td><td>Commercial Vacant  </td><td>Countywide</td><td>0.45</td><td>94.54</td><td>91.73</td><td>9.86</td><td>0</td><td>36</td><td>Aggressive</td></tr>\n",
       "</tbody>\n",
       "</table>\n"
      ],
      "text/latex": [
       "A data.frame: 6 x 10\n",
       "\\begin{tabular}{r|llllllllll}\n",
       "  & County & Type & Grouping & Median & COD & COV & PRD & PRB & Sales & Added\\\\\n",
       "  & <fct> & <chr> & <chr> & <dbl> & <dbl> & <dbl> & <dbl> & <dbl> & <int> & <chr>\\\\\n",
       "\\hline\n",
       "\tdf\\_sp696 & Marion & Industrial Vacant   & Countywide & 0.94 & 32.06 & 55.51 & 2.49 & 0 &  9 & Aggressive\\\\\n",
       "\tdf\\_sp697 & Marion & Industrial Improved & Countywide & 0.60 & 43.54 & 47.52 & 1.13 & 0 & 70 & Aggressive\\\\\n",
       "\tdf\\_sp698 & Marion & Industrial Improved & Center     & 0.56 & 45.02 & 48.11 & 1.24 & 0 & 41 & Aggressive\\\\\n",
       "\tdf\\_sp699 & Marion & Industrial Improved & Decatur    & 0.53 & 44.61 & 51.86 & 1.00 & 0 & 13 & Aggressive\\\\\n",
       "\tdf\\_sp700 & Marion & Industrial Improved & Warren     & 0.73 & 35.11 & 42.19 & 1.19 & 0 & 16 & Aggressive\\\\\n",
       "\tdf\\_sp701 & Marion & Commercial Vacant   & Countywide & 0.45 & 94.54 & 91.73 & 9.86 & 0 & 36 & Aggressive\\\\\n",
       "\\end{tabular}\n"
      ],
      "text/markdown": [
       "\n",
       "A data.frame: 6 x 10\n",
       "\n",
       "| <!--/--> | County &lt;fct&gt; | Type &lt;chr&gt; | Grouping &lt;chr&gt; | Median &lt;dbl&gt; | COD &lt;dbl&gt; | COV &lt;dbl&gt; | PRD &lt;dbl&gt; | PRB &lt;dbl&gt; | Sales &lt;int&gt; | Added &lt;chr&gt; |\n",
       "|---|---|---|---|---|---|---|---|---|---|---|\n",
       "| df_sp696 | Marion | Industrial Vacant   | Countywide | 0.94 | 32.06 | 55.51 | 2.49 | 0 |  9 | Aggressive |\n",
       "| df_sp697 | Marion | Industrial Improved | Countywide | 0.60 | 43.54 | 47.52 | 1.13 | 0 | 70 | Aggressive |\n",
       "| df_sp698 | Marion | Industrial Improved | Center     | 0.56 | 45.02 | 48.11 | 1.24 | 0 | 41 | Aggressive |\n",
       "| df_sp699 | Marion | Industrial Improved | Decatur    | 0.53 | 44.61 | 51.86 | 1.00 | 0 | 13 | Aggressive |\n",
       "| df_sp700 | Marion | Industrial Improved | Warren     | 0.73 | 35.11 | 42.19 | 1.19 | 0 | 16 | Aggressive |\n",
       "| df_sp701 | Marion | Commercial Vacant   | Countywide | 0.45 | 94.54 | 91.73 | 9.86 | 0 | 36 | Aggressive |\n",
       "\n"
      ],
      "text/plain": [
       "         County Type                Grouping   Median COD   COV   PRD  PRB\n",
       "df_sp696 Marion Industrial Vacant   Countywide 0.94   32.06 55.51 2.49 0  \n",
       "df_sp697 Marion Industrial Improved Countywide 0.60   43.54 47.52 1.13 0  \n",
       "df_sp698 Marion Industrial Improved Center     0.56   45.02 48.11 1.24 0  \n",
       "df_sp699 Marion Industrial Improved Decatur    0.53   44.61 51.86 1.00 0  \n",
       "df_sp700 Marion Industrial Improved Warren     0.73   35.11 42.19 1.19 0  \n",
       "df_sp701 Marion Commercial Vacant   Countywide 0.45   94.54 91.73 9.86 0  \n",
       "         Sales Added     \n",
       "df_sp696  9    Aggressive\n",
       "df_sp697 70    Aggressive\n",
       "df_sp698 41    Aggressive\n",
       "df_sp699 13    Aggressive\n",
       "df_sp700 16    Aggressive\n",
       "df_sp701 36    Aggressive"
      ]
     },
     "metadata": {},
     "output_type": "display_data"
    }
   ],
   "source": [
    "agresult$Added = 'Aggressive'\n",
    "head(agresult)"
   ]
  },
  {
   "cell_type": "code",
   "execution_count": 24,
   "id": "fc717142-3f78-481a-a202-1ca26fee864b",
   "metadata": {},
   "outputs": [],
   "source": [
    "modresult = ratiostudyscript(mapping_list,'moderate')\n",
    "order = c('Marion','Hamilton','Johnson','Hancock','Boone','Tipton','Clinton','Lake','Porter','Tippecanoe','Laporte','Benton','White',\n",
    "          'Pulaski','Starke','Jasper','Newton','Marshall','Fulton','Cass','Carroll','Howard','Warren','Allen','Elkhart','St. Joseph',\n",
    "          'Kosciusko','Whitley','Noble','Steuben','Dekalb','Lagrange','Adams','Miami','Wabash','Huntington','Wells','Vanderburgh',\n",
    "          'Monroe','Hendricks','Vigo','Warrick','Morgan','Clay','Owen','Greene','Martin','Daviess','Knox','Pike','Gibson','Posey',\n",
    "          'Spencer','Dubois','Sullivan','Putnam','Parke','Vermillion','Perry','Lawrence','Montgomery','Fountain','Orange','Crawford',\n",
    "          'Clark','Delaware','Madison','Bartholomew','Floyd','Wayne','Fayette','Union','Franklin','Decatur','Dearborn','Ripley','Ohio',\n",
    "          'Switzerland','Jefferson','Jennings','Scott','Harrison','Henry','Rush','Jackson','Shelby','Brown','Washington','Randolph',\n",
    "          'Jay','Blackford','Grant'\n",
    "         )\n",
    "modresult$County <- factor(modresult$County, levels = order)\n",
    "\n",
    "# Now if you order the data frame by County:\n",
    "modresult = modresult[order(modresult$County), ]"
   ]
  },
  {
   "cell_type": "code",
   "execution_count": 25,
   "id": "9b785505-8f27-4563-8d9c-0d3fc01fa7b1",
   "metadata": {},
   "outputs": [
    {
     "data": {
      "text/html": [
       "<table class=\"dataframe\">\n",
       "<caption>A data.frame: 6 x 10</caption>\n",
       "<thead>\n",
       "\t<tr><th></th><th scope=col>County</th><th scope=col>Type</th><th scope=col>Grouping</th><th scope=col>Median</th><th scope=col>COD</th><th scope=col>COV</th><th scope=col>PRD</th><th scope=col>PRB</th><th scope=col>Sales</th><th scope=col>Added</th></tr>\n",
       "\t<tr><th></th><th scope=col>&lt;fct&gt;</th><th scope=col>&lt;chr&gt;</th><th scope=col>&lt;chr&gt;</th><th scope=col>&lt;dbl&gt;</th><th scope=col>&lt;dbl&gt;</th><th scope=col>&lt;dbl&gt;</th><th scope=col>&lt;dbl&gt;</th><th scope=col>&lt;dbl&gt;</th><th scope=col>&lt;int&gt;</th><th scope=col>&lt;chr&gt;</th></tr>\n",
       "</thead>\n",
       "<tbody>\n",
       "\t<tr><th scope=row>df_sp667</th><td>Marion</td><td>Industrial Vacant  </td><td>Countywide</td><td>0.96</td><td> 6.80</td><td>11.93</td><td>1.02</td><td>0</td><td> 5</td><td>Moderate</td></tr>\n",
       "\t<tr><th scope=row>df_sp668</th><td>Marion</td><td>Industrial Improved</td><td>Countywide</td><td>0.94</td><td> 9.15</td><td>12.19</td><td>1.04</td><td>0</td><td>27</td><td>Moderate</td></tr>\n",
       "\t<tr><th scope=row>df_sp669</th><td>Marion</td><td>Industrial Improved</td><td>Center    </td><td>0.94</td><td> 9.83</td><td>13.22</td><td>1.02</td><td>0</td><td>16</td><td>Moderate</td></tr>\n",
       "\t<tr><th scope=row>df_sp670</th><td>Marion</td><td>Industrial Improved</td><td>Decatur   </td><td>0.91</td><td> 5.97</td><td> 9.10</td><td>1.02</td><td>0</td><td> 5</td><td>Moderate</td></tr>\n",
       "\t<tr><th scope=row>df_sp671</th><td>Marion</td><td>Industrial Improved</td><td>Warren    </td><td>0.97</td><td> 8.70</td><td>10.45</td><td>0.99</td><td>0</td><td> 6</td><td>Moderate</td></tr>\n",
       "\t<tr><th scope=row>df_sp672</th><td>Marion</td><td>Commercial Vacant  </td><td>Countywide</td><td>0.99</td><td>15.21</td><td>19.67</td><td>1.04</td><td>0</td><td>13</td><td>Moderate</td></tr>\n",
       "</tbody>\n",
       "</table>\n"
      ],
      "text/latex": [
       "A data.frame: 6 x 10\n",
       "\\begin{tabular}{r|llllllllll}\n",
       "  & County & Type & Grouping & Median & COD & COV & PRD & PRB & Sales & Added\\\\\n",
       "  & <fct> & <chr> & <chr> & <dbl> & <dbl> & <dbl> & <dbl> & <dbl> & <int> & <chr>\\\\\n",
       "\\hline\n",
       "\tdf\\_sp667 & Marion & Industrial Vacant   & Countywide & 0.96 &  6.80 & 11.93 & 1.02 & 0 &  5 & Moderate\\\\\n",
       "\tdf\\_sp668 & Marion & Industrial Improved & Countywide & 0.94 &  9.15 & 12.19 & 1.04 & 0 & 27 & Moderate\\\\\n",
       "\tdf\\_sp669 & Marion & Industrial Improved & Center     & 0.94 &  9.83 & 13.22 & 1.02 & 0 & 16 & Moderate\\\\\n",
       "\tdf\\_sp670 & Marion & Industrial Improved & Decatur    & 0.91 &  5.97 &  9.10 & 1.02 & 0 &  5 & Moderate\\\\\n",
       "\tdf\\_sp671 & Marion & Industrial Improved & Warren     & 0.97 &  8.70 & 10.45 & 0.99 & 0 &  6 & Moderate\\\\\n",
       "\tdf\\_sp672 & Marion & Commercial Vacant   & Countywide & 0.99 & 15.21 & 19.67 & 1.04 & 0 & 13 & Moderate\\\\\n",
       "\\end{tabular}\n"
      ],
      "text/markdown": [
       "\n",
       "A data.frame: 6 x 10\n",
       "\n",
       "| <!--/--> | County &lt;fct&gt; | Type &lt;chr&gt; | Grouping &lt;chr&gt; | Median &lt;dbl&gt; | COD &lt;dbl&gt; | COV &lt;dbl&gt; | PRD &lt;dbl&gt; | PRB &lt;dbl&gt; | Sales &lt;int&gt; | Added &lt;chr&gt; |\n",
       "|---|---|---|---|---|---|---|---|---|---|---|\n",
       "| df_sp667 | Marion | Industrial Vacant   | Countywide | 0.96 |  6.80 | 11.93 | 1.02 | 0 |  5 | Moderate |\n",
       "| df_sp668 | Marion | Industrial Improved | Countywide | 0.94 |  9.15 | 12.19 | 1.04 | 0 | 27 | Moderate |\n",
       "| df_sp669 | Marion | Industrial Improved | Center     | 0.94 |  9.83 | 13.22 | 1.02 | 0 | 16 | Moderate |\n",
       "| df_sp670 | Marion | Industrial Improved | Decatur    | 0.91 |  5.97 |  9.10 | 1.02 | 0 |  5 | Moderate |\n",
       "| df_sp671 | Marion | Industrial Improved | Warren     | 0.97 |  8.70 | 10.45 | 0.99 | 0 |  6 | Moderate |\n",
       "| df_sp672 | Marion | Commercial Vacant   | Countywide | 0.99 | 15.21 | 19.67 | 1.04 | 0 | 13 | Moderate |\n",
       "\n"
      ],
      "text/plain": [
       "         County Type                Grouping   Median COD   COV   PRD  PRB\n",
       "df_sp667 Marion Industrial Vacant   Countywide 0.96    6.80 11.93 1.02 0  \n",
       "df_sp668 Marion Industrial Improved Countywide 0.94    9.15 12.19 1.04 0  \n",
       "df_sp669 Marion Industrial Improved Center     0.94    9.83 13.22 1.02 0  \n",
       "df_sp670 Marion Industrial Improved Decatur    0.91    5.97  9.10 1.02 0  \n",
       "df_sp671 Marion Industrial Improved Warren     0.97    8.70 10.45 0.99 0  \n",
       "df_sp672 Marion Commercial Vacant   Countywide 0.99   15.21 19.67 1.04 0  \n",
       "         Sales Added   \n",
       "df_sp667  5    Moderate\n",
       "df_sp668 27    Moderate\n",
       "df_sp669 16    Moderate\n",
       "df_sp670  5    Moderate\n",
       "df_sp671  6    Moderate\n",
       "df_sp672 13    Moderate"
      ]
     },
     "metadata": {},
     "output_type": "display_data"
    }
   ],
   "source": [
    "modresult$Added = 'Moderate'\n",
    "head(modresult)"
   ]
  },
  {
   "cell_type": "code",
   "execution_count": 26,
   "id": "81f3f06c-c7f3-44b6-912c-c4ffdb1c2e0d",
   "metadata": {},
   "outputs": [
    {
     "data": {
      "text/html": [
       "<table class=\"dataframe\">\n",
       "<caption>A data.frame: 6 x 10</caption>\n",
       "<thead>\n",
       "\t<tr><th></th><th scope=col>County</th><th scope=col>Type</th><th scope=col>Grouping</th><th scope=col>Median</th><th scope=col>COD</th><th scope=col>COV</th><th scope=col>PRD</th><th scope=col>PRB</th><th scope=col>Sales</th><th scope=col>Added</th></tr>\n",
       "\t<tr><th></th><th scope=col>&lt;fct&gt;</th><th scope=col>&lt;chr&gt;</th><th scope=col>&lt;chr&gt;</th><th scope=col>&lt;dbl&gt;</th><th scope=col>&lt;dbl&gt;</th><th scope=col>&lt;dbl&gt;</th><th scope=col>&lt;dbl&gt;</th><th scope=col>&lt;dbl&gt;</th><th scope=col>&lt;int&gt;</th><th scope=col>&lt;chr&gt;</th></tr>\n",
       "</thead>\n",
       "<tbody>\n",
       "\t<tr><th scope=row>df_sp656</th><td>Marion</td><td>Industrial Vacant  </td><td>Countywide</td><td>0.97</td><td>12.33</td><td>16.91</td><td>0.97</td><td>0</td><td> 6</td><td>Original</td></tr>\n",
       "\t<tr><th scope=row>df_sp657</th><td>Marion</td><td>Industrial Improved</td><td>Countywide</td><td>0.94</td><td>10.09</td><td>13.94</td><td>1.04</td><td>0</td><td>28</td><td>Original</td></tr>\n",
       "\t<tr><th scope=row>df_sp658</th><td>Marion</td><td>Industrial Improved</td><td>Center    </td><td>0.94</td><td>11.35</td><td>15.81</td><td>1.03</td><td>0</td><td>17</td><td>Original</td></tr>\n",
       "\t<tr><th scope=row>df_sp659</th><td>Marion</td><td>Industrial Improved</td><td>Decatur   </td><td>0.91</td><td> 5.97</td><td> 9.10</td><td>1.02</td><td>0</td><td> 5</td><td>Original</td></tr>\n",
       "\t<tr><th scope=row>df_sp660</th><td>Marion</td><td>Industrial Improved</td><td>Warren    </td><td>0.97</td><td> 8.70</td><td>10.45</td><td>0.99</td><td>0</td><td> 6</td><td>Original</td></tr>\n",
       "\t<tr><th scope=row>df_sp661</th><td>Marion</td><td>Commercial Vacant  </td><td>Countywide</td><td>0.99</td><td>15.21</td><td>19.67</td><td>1.04</td><td>0</td><td>13</td><td>Original</td></tr>\n",
       "</tbody>\n",
       "</table>\n"
      ],
      "text/latex": [
       "A data.frame: 6 x 10\n",
       "\\begin{tabular}{r|llllllllll}\n",
       "  & County & Type & Grouping & Median & COD & COV & PRD & PRB & Sales & Added\\\\\n",
       "  & <fct> & <chr> & <chr> & <dbl> & <dbl> & <dbl> & <dbl> & <dbl> & <int> & <chr>\\\\\n",
       "\\hline\n",
       "\tdf\\_sp656 & Marion & Industrial Vacant   & Countywide & 0.97 & 12.33 & 16.91 & 0.97 & 0 &  6 & Original\\\\\n",
       "\tdf\\_sp657 & Marion & Industrial Improved & Countywide & 0.94 & 10.09 & 13.94 & 1.04 & 0 & 28 & Original\\\\\n",
       "\tdf\\_sp658 & Marion & Industrial Improved & Center     & 0.94 & 11.35 & 15.81 & 1.03 & 0 & 17 & Original\\\\\n",
       "\tdf\\_sp659 & Marion & Industrial Improved & Decatur    & 0.91 &  5.97 &  9.10 & 1.02 & 0 &  5 & Original\\\\\n",
       "\tdf\\_sp660 & Marion & Industrial Improved & Warren     & 0.97 &  8.70 & 10.45 & 0.99 & 0 &  6 & Original\\\\\n",
       "\tdf\\_sp661 & Marion & Commercial Vacant   & Countywide & 0.99 & 15.21 & 19.67 & 1.04 & 0 & 13 & Original\\\\\n",
       "\\end{tabular}\n"
      ],
      "text/markdown": [
       "\n",
       "A data.frame: 6 x 10\n",
       "\n",
       "| <!--/--> | County &lt;fct&gt; | Type &lt;chr&gt; | Grouping &lt;chr&gt; | Median &lt;dbl&gt; | COD &lt;dbl&gt; | COV &lt;dbl&gt; | PRD &lt;dbl&gt; | PRB &lt;dbl&gt; | Sales &lt;int&gt; | Added &lt;chr&gt; |\n",
       "|---|---|---|---|---|---|---|---|---|---|---|\n",
       "| df_sp656 | Marion | Industrial Vacant   | Countywide | 0.97 | 12.33 | 16.91 | 0.97 | 0 |  6 | Original |\n",
       "| df_sp657 | Marion | Industrial Improved | Countywide | 0.94 | 10.09 | 13.94 | 1.04 | 0 | 28 | Original |\n",
       "| df_sp658 | Marion | Industrial Improved | Center     | 0.94 | 11.35 | 15.81 | 1.03 | 0 | 17 | Original |\n",
       "| df_sp659 | Marion | Industrial Improved | Decatur    | 0.91 |  5.97 |  9.10 | 1.02 | 0 |  5 | Original |\n",
       "| df_sp660 | Marion | Industrial Improved | Warren     | 0.97 |  8.70 | 10.45 | 0.99 | 0 |  6 | Original |\n",
       "| df_sp661 | Marion | Commercial Vacant   | Countywide | 0.99 | 15.21 | 19.67 | 1.04 | 0 | 13 | Original |\n",
       "\n"
      ],
      "text/plain": [
       "         County Type                Grouping   Median COD   COV   PRD  PRB\n",
       "df_sp656 Marion Industrial Vacant   Countywide 0.97   12.33 16.91 0.97 0  \n",
       "df_sp657 Marion Industrial Improved Countywide 0.94   10.09 13.94 1.04 0  \n",
       "df_sp658 Marion Industrial Improved Center     0.94   11.35 15.81 1.03 0  \n",
       "df_sp659 Marion Industrial Improved Decatur    0.91    5.97  9.10 1.02 0  \n",
       "df_sp660 Marion Industrial Improved Warren     0.97    8.70 10.45 0.99 0  \n",
       "df_sp661 Marion Commercial Vacant   Countywide 0.99   15.21 19.67 1.04 0  \n",
       "         Sales Added   \n",
       "df_sp656  6    Original\n",
       "df_sp657 28    Original\n",
       "df_sp658 17    Original\n",
       "df_sp659  5    Original\n",
       "df_sp660  6    Original\n",
       "df_sp661 13    Original"
      ]
     },
     "metadata": {},
     "output_type": "display_data"
    }
   ],
   "source": [
    "results = rbind(ogresult,modresult,agresult)\n",
    "cresults = results[results$Grouping == 'Countywide',]\n",
    "gresults = results[results$Grouping != 'Countywide',]\n",
    "head(results)"
   ]
  },
  {
   "cell_type": "code",
   "execution_count": 27,
   "id": "cf8fc49a-4605-459c-9df5-0fb65e850ba6",
   "metadata": {},
   "outputs": [
    {
     "data": {
      "text/html": [
       "<table class=\"dataframe\">\n",
       "<caption>A data.frame: 6 x 10</caption>\n",
       "<thead>\n",
       "\t<tr><th></th><th scope=col>County</th><th scope=col>Type</th><th scope=col>Grouping</th><th scope=col>Median</th><th scope=col>COD</th><th scope=col>COV</th><th scope=col>PRD</th><th scope=col>PRB</th><th scope=col>Sales</th><th scope=col>Added</th></tr>\n",
       "\t<tr><th></th><th scope=col>&lt;fct&gt;</th><th scope=col>&lt;chr&gt;</th><th scope=col>&lt;chr&gt;</th><th scope=col>&lt;dbl&gt;</th><th scope=col>&lt;dbl&gt;</th><th scope=col>&lt;dbl&gt;</th><th scope=col>&lt;dbl&gt;</th><th scope=col>&lt;dbl&gt;</th><th scope=col>&lt;int&gt;</th><th scope=col>&lt;fct&gt;</th></tr>\n",
       "</thead>\n",
       "<tbody>\n",
       "\t<tr><th scope=row>df_sp656</th><td>Marion</td><td>Industrial Vacant   </td><td>Countywide</td><td>0.97</td><td>12.33</td><td>16.91</td><td>0.97</td><td>0</td><td>    6</td><td>Original</td></tr>\n",
       "\t<tr><th scope=row>df_sp657</th><td>Marion</td><td>Industrial Improved </td><td>Countywide</td><td>0.94</td><td>10.09</td><td>13.94</td><td>1.04</td><td>0</td><td>   28</td><td>Original</td></tr>\n",
       "\t<tr><th scope=row>df_sp661</th><td>Marion</td><td>Commercial Vacant   </td><td>Countywide</td><td>0.99</td><td>15.21</td><td>19.67</td><td>1.04</td><td>0</td><td>   13</td><td>Original</td></tr>\n",
       "\t<tr><th scope=row>df_sp662</th><td>Marion</td><td>Commercial Improved </td><td>Countywide</td><td>0.94</td><td>14.80</td><td>18.97</td><td>1.00</td><td>0</td><td>  199</td><td>Original</td></tr>\n",
       "\t<tr><th scope=row>df_sp672</th><td>Marion</td><td>Residential Vacant  </td><td>Countywide</td><td>0.94</td><td>14.75</td><td>22.57</td><td>1.01</td><td>0</td><td>  168</td><td>Original</td></tr>\n",
       "\t<tr><th scope=row>df_sp682</th><td>Marion</td><td>Residential Improved</td><td>Countywide</td><td>0.95</td><td>13.54</td><td>36.33</td><td>1.03</td><td>0</td><td>16878</td><td>Original</td></tr>\n",
       "</tbody>\n",
       "</table>\n"
      ],
      "text/latex": [
       "A data.frame: 6 x 10\n",
       "\\begin{tabular}{r|llllllllll}\n",
       "  & County & Type & Grouping & Median & COD & COV & PRD & PRB & Sales & Added\\\\\n",
       "  & <fct> & <chr> & <chr> & <dbl> & <dbl> & <dbl> & <dbl> & <dbl> & <int> & <fct>\\\\\n",
       "\\hline\n",
       "\tdf\\_sp656 & Marion & Industrial Vacant    & Countywide & 0.97 & 12.33 & 16.91 & 0.97 & 0 &     6 & Original\\\\\n",
       "\tdf\\_sp657 & Marion & Industrial Improved  & Countywide & 0.94 & 10.09 & 13.94 & 1.04 & 0 &    28 & Original\\\\\n",
       "\tdf\\_sp661 & Marion & Commercial Vacant    & Countywide & 0.99 & 15.21 & 19.67 & 1.04 & 0 &    13 & Original\\\\\n",
       "\tdf\\_sp662 & Marion & Commercial Improved  & Countywide & 0.94 & 14.80 & 18.97 & 1.00 & 0 &   199 & Original\\\\\n",
       "\tdf\\_sp672 & Marion & Residential Vacant   & Countywide & 0.94 & 14.75 & 22.57 & 1.01 & 0 &   168 & Original\\\\\n",
       "\tdf\\_sp682 & Marion & Residential Improved & Countywide & 0.95 & 13.54 & 36.33 & 1.03 & 0 & 16878 & Original\\\\\n",
       "\\end{tabular}\n"
      ],
      "text/markdown": [
       "\n",
       "A data.frame: 6 x 10\n",
       "\n",
       "| <!--/--> | County &lt;fct&gt; | Type &lt;chr&gt; | Grouping &lt;chr&gt; | Median &lt;dbl&gt; | COD &lt;dbl&gt; | COV &lt;dbl&gt; | PRD &lt;dbl&gt; | PRB &lt;dbl&gt; | Sales &lt;int&gt; | Added &lt;fct&gt; |\n",
       "|---|---|---|---|---|---|---|---|---|---|---|\n",
       "| df_sp656 | Marion | Industrial Vacant    | Countywide | 0.97 | 12.33 | 16.91 | 0.97 | 0 |     6 | Original |\n",
       "| df_sp657 | Marion | Industrial Improved  | Countywide | 0.94 | 10.09 | 13.94 | 1.04 | 0 |    28 | Original |\n",
       "| df_sp661 | Marion | Commercial Vacant    | Countywide | 0.99 | 15.21 | 19.67 | 1.04 | 0 |    13 | Original |\n",
       "| df_sp662 | Marion | Commercial Improved  | Countywide | 0.94 | 14.80 | 18.97 | 1.00 | 0 |   199 | Original |\n",
       "| df_sp672 | Marion | Residential Vacant   | Countywide | 0.94 | 14.75 | 22.57 | 1.01 | 0 |   168 | Original |\n",
       "| df_sp682 | Marion | Residential Improved | Countywide | 0.95 | 13.54 | 36.33 | 1.03 | 0 | 16878 | Original |\n",
       "\n"
      ],
      "text/plain": [
       "         County Type                 Grouping   Median COD   COV   PRD  PRB\n",
       "df_sp656 Marion Industrial Vacant    Countywide 0.97   12.33 16.91 0.97 0  \n",
       "df_sp657 Marion Industrial Improved  Countywide 0.94   10.09 13.94 1.04 0  \n",
       "df_sp661 Marion Commercial Vacant    Countywide 0.99   15.21 19.67 1.04 0  \n",
       "df_sp662 Marion Commercial Improved  Countywide 0.94   14.80 18.97 1.00 0  \n",
       "df_sp672 Marion Residential Vacant   Countywide 0.94   14.75 22.57 1.01 0  \n",
       "df_sp682 Marion Residential Improved Countywide 0.95   13.54 36.33 1.03 0  \n",
       "         Sales Added   \n",
       "df_sp656     6 Original\n",
       "df_sp657    28 Original\n",
       "df_sp661    13 Original\n",
       "df_sp662   199 Original\n",
       "df_sp672   168 Original\n",
       "df_sp682 16878 Original"
      ]
     },
     "metadata": {},
     "output_type": "display_data"
    },
    {
     "name": "stderr",
     "output_type": "stream",
     "text": [
      "Warning message:\n",
      "\"\u001b[1m\u001b[22mRemoved 775 rows containing non-finite outside the scale range\n",
      "(`stat_boxplot()`).\"\n"
     ]
    },
    {
     "data": {
      "image/png": "[encoded data removed]",
      "text/plain": [
       "plot without title"
      ]
     },
     "metadata": {
      "image/png": {
       "height": 480,
       "width": 720
      }
     },
     "output_type": "display_data"
    }
   ],
   "source": [
    "library(ggplot2)\n",
    "library(dplyr)\n",
    "options(repr.plot.width = 12, repr.plot.height = 8)  # Set width and height in inches\n",
    "cresults$Added <- factor(cresults$Added, levels = c(\"Original\", \"Moderate\", \"Aggressive\"))\n",
    "head(cresults)\n",
    "# Create boxplot using ggplot\n",
    "ggplot(cresults, aes(x = Type, y = Median, fill = Added)) +\n",
    "  geom_boxplot() +\n",
    "  theme_minimal() +\n",
    "  labs(title = \"Boxplots of Median Distribution by Ratio Study Type\",\n",
    "       x = \"Ratio Study Type\",\n",
    "       y = \"Countywide Median Ratio\",\n",
    "       fill = \"Ratio Study Approach\") +\n",
    " geom_hline(yintercept = 1,color='red') +\n",
    "geom_hline(yintercept = 0.9,linetype = 'dashed',color='red') +\n",
    "geom_hline(yintercept = 1.1,linetype = 'dashed',color='red') +\n",
    "  theme(axis.text.x = element_text(angle = 45, hjust = 1))  # Rotate x-axis labels\n",
    "\n"
   ]
  },
  {
   "cell_type": "code",
   "execution_count": 28,
   "id": "34c258ef-041b-46c2-9a9d-700157c8e44a",
   "metadata": {},
   "outputs": [
    {
     "data": {
      "text/html": [
       "<table class=\"dataframe\">\n",
       "<caption>A data.frame: 6 x 10</caption>\n",
       "<thead>\n",
       "\t<tr><th></th><th scope=col>County</th><th scope=col>Type</th><th scope=col>Grouping</th><th scope=col>Median</th><th scope=col>COD</th><th scope=col>COV</th><th scope=col>PRD</th><th scope=col>PRB</th><th scope=col>Sales</th><th scope=col>Added</th></tr>\n",
       "\t<tr><th></th><th scope=col>&lt;fct&gt;</th><th scope=col>&lt;chr&gt;</th><th scope=col>&lt;chr&gt;</th><th scope=col>&lt;dbl&gt;</th><th scope=col>&lt;dbl&gt;</th><th scope=col>&lt;dbl&gt;</th><th scope=col>&lt;dbl&gt;</th><th scope=col>&lt;dbl&gt;</th><th scope=col>&lt;int&gt;</th><th scope=col>&lt;fct&gt;</th></tr>\n",
       "</thead>\n",
       "<tbody>\n",
       "\t<tr><th scope=row>df_sp656</th><td>Marion</td><td>Industrial Vacant   </td><td>Countywide</td><td>0.97</td><td>12.33</td><td>16.91</td><td>0.97</td><td>0</td><td>    6</td><td>Original</td></tr>\n",
       "\t<tr><th scope=row>df_sp657</th><td>Marion</td><td>Industrial Improved </td><td>Countywide</td><td>0.94</td><td>10.09</td><td>13.94</td><td>1.04</td><td>0</td><td>   28</td><td>Original</td></tr>\n",
       "\t<tr><th scope=row>df_sp661</th><td>Marion</td><td>Commercial Vacant   </td><td>Countywide</td><td>0.99</td><td>15.21</td><td>19.67</td><td>1.04</td><td>0</td><td>   13</td><td>Original</td></tr>\n",
       "\t<tr><th scope=row>df_sp662</th><td>Marion</td><td>Commercial Improved </td><td>Countywide</td><td>0.94</td><td>14.80</td><td>18.97</td><td>1.00</td><td>0</td><td>  199</td><td>Original</td></tr>\n",
       "\t<tr><th scope=row>df_sp672</th><td>Marion</td><td>Residential Vacant  </td><td>Countywide</td><td>0.94</td><td>14.75</td><td>22.57</td><td>1.01</td><td>0</td><td>  168</td><td>Original</td></tr>\n",
       "\t<tr><th scope=row>df_sp682</th><td>Marion</td><td>Residential Improved</td><td>Countywide</td><td>0.95</td><td>13.54</td><td>36.33</td><td>1.03</td><td>0</td><td>16878</td><td>Original</td></tr>\n",
       "</tbody>\n",
       "</table>\n"
      ],
      "text/latex": [
       "A data.frame: 6 x 10\n",
       "\\begin{tabular}{r|llllllllll}\n",
       "  & County & Type & Grouping & Median & COD & COV & PRD & PRB & Sales & Added\\\\\n",
       "  & <fct> & <chr> & <chr> & <dbl> & <dbl> & <dbl> & <dbl> & <dbl> & <int> & <fct>\\\\\n",
       "\\hline\n",
       "\tdf\\_sp656 & Marion & Industrial Vacant    & Countywide & 0.97 & 12.33 & 16.91 & 0.97 & 0 &     6 & Original\\\\\n",
       "\tdf\\_sp657 & Marion & Industrial Improved  & Countywide & 0.94 & 10.09 & 13.94 & 1.04 & 0 &    28 & Original\\\\\n",
       "\tdf\\_sp661 & Marion & Commercial Vacant    & Countywide & 0.99 & 15.21 & 19.67 & 1.04 & 0 &    13 & Original\\\\\n",
       "\tdf\\_sp662 & Marion & Commercial Improved  & Countywide & 0.94 & 14.80 & 18.97 & 1.00 & 0 &   199 & Original\\\\\n",
       "\tdf\\_sp672 & Marion & Residential Vacant   & Countywide & 0.94 & 14.75 & 22.57 & 1.01 & 0 &   168 & Original\\\\\n",
       "\tdf\\_sp682 & Marion & Residential Improved & Countywide & 0.95 & 13.54 & 36.33 & 1.03 & 0 & 16878 & Original\\\\\n",
       "\\end{tabular}\n"
      ],
      "text/markdown": [
       "\n",
       "A data.frame: 6 x 10\n",
       "\n",
       "| <!--/--> | County &lt;fct&gt; | Type &lt;chr&gt; | Grouping &lt;chr&gt; | Median &lt;dbl&gt; | COD &lt;dbl&gt; | COV &lt;dbl&gt; | PRD &lt;dbl&gt; | PRB &lt;dbl&gt; | Sales &lt;int&gt; | Added &lt;fct&gt; |\n",
       "|---|---|---|---|---|---|---|---|---|---|---|\n",
       "| df_sp656 | Marion | Industrial Vacant    | Countywide | 0.97 | 12.33 | 16.91 | 0.97 | 0 |     6 | Original |\n",
       "| df_sp657 | Marion | Industrial Improved  | Countywide | 0.94 | 10.09 | 13.94 | 1.04 | 0 |    28 | Original |\n",
       "| df_sp661 | Marion | Commercial Vacant    | Countywide | 0.99 | 15.21 | 19.67 | 1.04 | 0 |    13 | Original |\n",
       "| df_sp662 | Marion | Commercial Improved  | Countywide | 0.94 | 14.80 | 18.97 | 1.00 | 0 |   199 | Original |\n",
       "| df_sp672 | Marion | Residential Vacant   | Countywide | 0.94 | 14.75 | 22.57 | 1.01 | 0 |   168 | Original |\n",
       "| df_sp682 | Marion | Residential Improved | Countywide | 0.95 | 13.54 | 36.33 | 1.03 | 0 | 16878 | Original |\n",
       "\n"
      ],
      "text/plain": [
       "         County Type                 Grouping   Median COD   COV   PRD  PRB\n",
       "df_sp656 Marion Industrial Vacant    Countywide 0.97   12.33 16.91 0.97 0  \n",
       "df_sp657 Marion Industrial Improved  Countywide 0.94   10.09 13.94 1.04 0  \n",
       "df_sp661 Marion Commercial Vacant    Countywide 0.99   15.21 19.67 1.04 0  \n",
       "df_sp662 Marion Commercial Improved  Countywide 0.94   14.80 18.97 1.00 0  \n",
       "df_sp672 Marion Residential Vacant   Countywide 0.94   14.75 22.57 1.01 0  \n",
       "df_sp682 Marion Residential Improved Countywide 0.95   13.54 36.33 1.03 0  \n",
       "         Sales Added   \n",
       "df_sp656     6 Original\n",
       "df_sp657    28 Original\n",
       "df_sp661    13 Original\n",
       "df_sp662   199 Original\n",
       "df_sp672   168 Original\n",
       "df_sp682 16878 Original"
      ]
     },
     "metadata": {},
     "output_type": "display_data"
    },
    {
     "name": "stderr",
     "output_type": "stream",
     "text": [
      "Warning message:\n",
      "\"\u001b[1m\u001b[22mRemoved 801 rows containing non-finite outside the scale range\n",
      "(`stat_boxplot()`).\"\n"
     ]
    },
    {
     "data": {
      "image/png": "[encoded data removed]",
      "text/plain": [
       "plot without title"
      ]
     },
     "metadata": {
      "image/png": {
       "height": 480,
       "width": 720
      }
     },
     "output_type": "display_data"
    }
   ],
   "source": [
    "library(ggplot2)\n",
    "library(dplyr)\n",
    "\n",
    "cresults$Added <- factor(cresults$Added, levels = c(\"Original\", \"Moderate\", \"Aggressive\"))\n",
    "head(cresults)\n",
    "# Create boxplot using ggplot\n",
    "ggplot(cresults, aes(x = Type, y = COD, fill = Added)) +\n",
    "  geom_boxplot() +\n",
    "  theme_minimal() +\n",
    "ylim(0,100) +\n",
    "  labs(title = \"Boxplots of COD Distribution by Ratio Study Type\",\n",
    "       x = \"Ratio Study Type\",\n",
    "       y = \"Countywide COD\",\n",
    "       fill = \"Ratio Study Approach\") +\n",
    "geom_hline(yintercept = 20,linetype = 'dashed',color='red') +\n",
    "  theme(axis.text.x = element_text(angle = 45, hjust = 1))  # Rotate x-axis labels"
   ]
  },
  {
   "cell_type": "code",
   "execution_count": 29,
   "id": "be9ecdf9-59a5-4a0b-9491-e9618a8e4baa",
   "metadata": {},
   "outputs": [
    {
     "data": {
      "text/html": [
       "<table class=\"dataframe\">\n",
       "<caption>A data.frame: 6 x 10</caption>\n",
       "<thead>\n",
       "\t<tr><th></th><th scope=col>County</th><th scope=col>Type</th><th scope=col>Grouping</th><th scope=col>Median</th><th scope=col>COD</th><th scope=col>COV</th><th scope=col>PRD</th><th scope=col>PRB</th><th scope=col>Sales</th><th scope=col>Added</th></tr>\n",
       "\t<tr><th></th><th scope=col>&lt;fct&gt;</th><th scope=col>&lt;chr&gt;</th><th scope=col>&lt;chr&gt;</th><th scope=col>&lt;dbl&gt;</th><th scope=col>&lt;dbl&gt;</th><th scope=col>&lt;dbl&gt;</th><th scope=col>&lt;dbl&gt;</th><th scope=col>&lt;dbl&gt;</th><th scope=col>&lt;int&gt;</th><th scope=col>&lt;fct&gt;</th></tr>\n",
       "</thead>\n",
       "<tbody>\n",
       "\t<tr><th scope=row>df_sp656</th><td>Marion</td><td>Industrial Vacant   </td><td>Countywide</td><td>0.97</td><td>12.33</td><td>16.91</td><td>0.97</td><td>0</td><td>    6</td><td>Original</td></tr>\n",
       "\t<tr><th scope=row>df_sp657</th><td>Marion</td><td>Industrial Improved </td><td>Countywide</td><td>0.94</td><td>10.09</td><td>13.94</td><td>1.04</td><td>0</td><td>   28</td><td>Original</td></tr>\n",
       "\t<tr><th scope=row>df_sp661</th><td>Marion</td><td>Commercial Vacant   </td><td>Countywide</td><td>0.99</td><td>15.21</td><td>19.67</td><td>1.04</td><td>0</td><td>   13</td><td>Original</td></tr>\n",
       "\t<tr><th scope=row>df_sp662</th><td>Marion</td><td>Commercial Improved </td><td>Countywide</td><td>0.94</td><td>14.80</td><td>18.97</td><td>1.00</td><td>0</td><td>  199</td><td>Original</td></tr>\n",
       "\t<tr><th scope=row>df_sp672</th><td>Marion</td><td>Residential Vacant  </td><td>Countywide</td><td>0.94</td><td>14.75</td><td>22.57</td><td>1.01</td><td>0</td><td>  168</td><td>Original</td></tr>\n",
       "\t<tr><th scope=row>df_sp682</th><td>Marion</td><td>Residential Improved</td><td>Countywide</td><td>0.95</td><td>13.54</td><td>36.33</td><td>1.03</td><td>0</td><td>16878</td><td>Original</td></tr>\n",
       "</tbody>\n",
       "</table>\n"
      ],
      "text/latex": [
       "A data.frame: 6 x 10\n",
       "\\begin{tabular}{r|llllllllll}\n",
       "  & County & Type & Grouping & Median & COD & COV & PRD & PRB & Sales & Added\\\\\n",
       "  & <fct> & <chr> & <chr> & <dbl> & <dbl> & <dbl> & <dbl> & <dbl> & <int> & <fct>\\\\\n",
       "\\hline\n",
       "\tdf\\_sp656 & Marion & Industrial Vacant    & Countywide & 0.97 & 12.33 & 16.91 & 0.97 & 0 &     6 & Original\\\\\n",
       "\tdf\\_sp657 & Marion & Industrial Improved  & Countywide & 0.94 & 10.09 & 13.94 & 1.04 & 0 &    28 & Original\\\\\n",
       "\tdf\\_sp661 & Marion & Commercial Vacant    & Countywide & 0.99 & 15.21 & 19.67 & 1.04 & 0 &    13 & Original\\\\\n",
       "\tdf\\_sp662 & Marion & Commercial Improved  & Countywide & 0.94 & 14.80 & 18.97 & 1.00 & 0 &   199 & Original\\\\\n",
       "\tdf\\_sp672 & Marion & Residential Vacant   & Countywide & 0.94 & 14.75 & 22.57 & 1.01 & 0 &   168 & Original\\\\\n",
       "\tdf\\_sp682 & Marion & Residential Improved & Countywide & 0.95 & 13.54 & 36.33 & 1.03 & 0 & 16878 & Original\\\\\n",
       "\\end{tabular}\n"
      ],
      "text/markdown": [
       "\n",
       "A data.frame: 6 x 10\n",
       "\n",
       "| <!--/--> | County &lt;fct&gt; | Type &lt;chr&gt; | Grouping &lt;chr&gt; | Median &lt;dbl&gt; | COD &lt;dbl&gt; | COV &lt;dbl&gt; | PRD &lt;dbl&gt; | PRB &lt;dbl&gt; | Sales &lt;int&gt; | Added &lt;fct&gt; |\n",
       "|---|---|---|---|---|---|---|---|---|---|---|\n",
       "| df_sp656 | Marion | Industrial Vacant    | Countywide | 0.97 | 12.33 | 16.91 | 0.97 | 0 |     6 | Original |\n",
       "| df_sp657 | Marion | Industrial Improved  | Countywide | 0.94 | 10.09 | 13.94 | 1.04 | 0 |    28 | Original |\n",
       "| df_sp661 | Marion | Commercial Vacant    | Countywide | 0.99 | 15.21 | 19.67 | 1.04 | 0 |    13 | Original |\n",
       "| df_sp662 | Marion | Commercial Improved  | Countywide | 0.94 | 14.80 | 18.97 | 1.00 | 0 |   199 | Original |\n",
       "| df_sp672 | Marion | Residential Vacant   | Countywide | 0.94 | 14.75 | 22.57 | 1.01 | 0 |   168 | Original |\n",
       "| df_sp682 | Marion | Residential Improved | Countywide | 0.95 | 13.54 | 36.33 | 1.03 | 0 | 16878 | Original |\n",
       "\n"
      ],
      "text/plain": [
       "         County Type                 Grouping   Median COD   COV   PRD  PRB\n",
       "df_sp656 Marion Industrial Vacant    Countywide 0.97   12.33 16.91 0.97 0  \n",
       "df_sp657 Marion Industrial Improved  Countywide 0.94   10.09 13.94 1.04 0  \n",
       "df_sp661 Marion Commercial Vacant    Countywide 0.99   15.21 19.67 1.04 0  \n",
       "df_sp662 Marion Commercial Improved  Countywide 0.94   14.80 18.97 1.00 0  \n",
       "df_sp672 Marion Residential Vacant   Countywide 0.94   14.75 22.57 1.01 0  \n",
       "df_sp682 Marion Residential Improved Countywide 0.95   13.54 36.33 1.03 0  \n",
       "         Sales Added   \n",
       "df_sp656     6 Original\n",
       "df_sp657    28 Original\n",
       "df_sp661    13 Original\n",
       "df_sp662   199 Original\n",
       "df_sp672   168 Original\n",
       "df_sp682 16878 Original"
      ]
     },
     "metadata": {},
     "output_type": "display_data"
    },
    {
     "name": "stderr",
     "output_type": "stream",
     "text": [
      "Warning message:\n",
      "\"\u001b[1m\u001b[22mRemoved 872 rows containing non-finite outside the scale range\n",
      "(`stat_boxplot()`).\"\n"
     ]
    },
    {
     "data": {
      "image/png": "[encoded data removed]",
      "text/plain": [
       "plot without title"
      ]
     },
     "metadata": {
      "image/png": {
       "height": 480,
       "width": 720
      }
     },
     "output_type": "display_data"
    }
   ],
   "source": [
    "library(ggplot2)\n",
    "library(dplyr)\n",
    "\n",
    "cresults$Added <- factor(cresults$Added, levels = c(\"Original\", \"Moderate\", \"Aggressive\"))\n",
    "head(cresults)\n",
    "# Create boxplot using ggplot\n",
    "ggplot(cresults, aes(x = Type, y = PRD, fill = Added)) +\n",
    "  geom_boxplot() +\n",
    "  theme_minimal() +\n",
    "ylim(0.7,1.3) + \n",
    "  labs(title = \"Boxplots of PRD Distribution by Ratio Study Type\",\n",
    "       x = \"Ratio Study Type\",\n",
    "       y = \"Countywide PRD\",\n",
    "       fill = \"Ratio Study Approach\") +\n",
    "geom_hline(yintercept = 1,color='red') +\n",
    "geom_hline(yintercept = 0.98,linetype = 'dashed',color='red') +\n",
    "geom_hline(yintercept = 1.03,linetype = 'dashed',color='red') +\n",
    "  theme(axis.text.x = element_text(angle = 45, hjust = 1))  # Rotate x-axis labels"
   ]
  },
  {
   "cell_type": "code",
   "execution_count": 30,
   "id": "47538887-5e19-4399-9539-25951b185af0",
   "metadata": {},
   "outputs": [
    {
     "data": {
      "text/html": [
       "<table class=\"dataframe\">\n",
       "<caption>A data.frame: 6 x 11</caption>\n",
       "<thead>\n",
       "\t<tr><th></th><th scope=col>County</th><th scope=col>Type</th><th scope=col>Grouping</th><th scope=col>Median</th><th scope=col>COD</th><th scope=col>COV</th><th scope=col>PRD</th><th scope=col>PRB</th><th scope=col>Sales</th><th scope=col>Added</th><th scope=col>AddedSales</th></tr>\n",
       "\t<tr><th></th><th scope=col>&lt;fct&gt;</th><th scope=col>&lt;chr&gt;</th><th scope=col>&lt;chr&gt;</th><th scope=col>&lt;dbl&gt;</th><th scope=col>&lt;dbl&gt;</th><th scope=col>&lt;dbl&gt;</th><th scope=col>&lt;dbl&gt;</th><th scope=col>&lt;dbl&gt;</th><th scope=col>&lt;int&gt;</th><th scope=col>&lt;fct&gt;</th><th scope=col>&lt;dbl&gt;</th></tr>\n",
       "</thead>\n",
       "<tbody>\n",
       "\t<tr><th scope=row>df_sp6671</th><td>Marion  </td><td>Industrial Vacant   </td><td>Countywide</td><td>0.96</td><td> 6.80</td><td>11.93</td><td>1.02</td><td>0</td><td>    5</td><td>Moderate</td><td>-14.285714</td></tr>\n",
       "\t<tr><th scope=row>df_sp6681</th><td>Marion  </td><td>Industrial Improved </td><td>Countywide</td><td>0.94</td><td> 9.15</td><td>12.19</td><td>1.04</td><td>0</td><td>   27</td><td>Moderate</td><td> -3.448276</td></tr>\n",
       "\t<tr><th scope=row>df_sp6731</th><td>Marion  </td><td>Commercial Improved </td><td>Countywide</td><td>0.94</td><td>12.12</td><td>14.62</td><td>1.00</td><td>0</td><td>  182</td><td>Moderate</td><td> -8.500000</td></tr>\n",
       "\t<tr><th scope=row>df_sp6831</th><td>Marion  </td><td>Residential Vacant  </td><td>Countywide</td><td>0.94</td><td>11.16</td><td>13.48</td><td>1.00</td><td>0</td><td>  153</td><td>Moderate</td><td> -8.875740</td></tr>\n",
       "\t<tr><th scope=row>df_sp6921</th><td>Marion  </td><td>Residential Improved</td><td>Countywide</td><td>0.95</td><td> 9.66</td><td>12.27</td><td>1.01</td><td>0</td><td>16232</td><td>Moderate</td><td> -3.827241</td></tr>\n",
       "\t<tr><th scope=row>df_sp3351</th><td>Hamilton</td><td>Commercial Vacant   </td><td>Countywide</td><td>1.00</td><td> 5.12</td><td> 9.71</td><td>0.99</td><td>0</td><td>   15</td><td>Moderate</td><td> -5.882353</td></tr>\n",
       "</tbody>\n",
       "</table>\n"
      ],
      "text/latex": [
       "A data.frame: 6 x 11\n",
       "\\begin{tabular}{r|lllllllllll}\n",
       "  & County & Type & Grouping & Median & COD & COV & PRD & PRB & Sales & Added & AddedSales\\\\\n",
       "  & <fct> & <chr> & <chr> & <dbl> & <dbl> & <dbl> & <dbl> & <dbl> & <int> & <fct> & <dbl>\\\\\n",
       "\\hline\n",
       "\tdf\\_sp6671 & Marion   & Industrial Vacant    & Countywide & 0.96 &  6.80 & 11.93 & 1.02 & 0 &     5 & Moderate & -14.285714\\\\\n",
       "\tdf\\_sp6681 & Marion   & Industrial Improved  & Countywide & 0.94 &  9.15 & 12.19 & 1.04 & 0 &    27 & Moderate &  -3.448276\\\\\n",
       "\tdf\\_sp6731 & Marion   & Commercial Improved  & Countywide & 0.94 & 12.12 & 14.62 & 1.00 & 0 &   182 & Moderate &  -8.500000\\\\\n",
       "\tdf\\_sp6831 & Marion   & Residential Vacant   & Countywide & 0.94 & 11.16 & 13.48 & 1.00 & 0 &   153 & Moderate &  -8.875740\\\\\n",
       "\tdf\\_sp6921 & Marion   & Residential Improved & Countywide & 0.95 &  9.66 & 12.27 & 1.01 & 0 & 16232 & Moderate &  -3.827241\\\\\n",
       "\tdf\\_sp3351 & Hamilton & Commercial Vacant    & Countywide & 1.00 &  5.12 &  9.71 & 0.99 & 0 &    15 & Moderate &  -5.882353\\\\\n",
       "\\end{tabular}\n"
      ],
      "text/markdown": [
       "\n",
       "A data.frame: 6 x 11\n",
       "\n",
       "| <!--/--> | County &lt;fct&gt; | Type &lt;chr&gt; | Grouping &lt;chr&gt; | Median &lt;dbl&gt; | COD &lt;dbl&gt; | COV &lt;dbl&gt; | PRD &lt;dbl&gt; | PRB &lt;dbl&gt; | Sales &lt;int&gt; | Added &lt;fct&gt; | AddedSales &lt;dbl&gt; |\n",
       "|---|---|---|---|---|---|---|---|---|---|---|---|\n",
       "| df_sp6671 | Marion   | Industrial Vacant    | Countywide | 0.96 |  6.80 | 11.93 | 1.02 | 0 |     5 | Moderate | -14.285714 |\n",
       "| df_sp6681 | Marion   | Industrial Improved  | Countywide | 0.94 |  9.15 | 12.19 | 1.04 | 0 |    27 | Moderate |  -3.448276 |\n",
       "| df_sp6731 | Marion   | Commercial Improved  | Countywide | 0.94 | 12.12 | 14.62 | 1.00 | 0 |   182 | Moderate |  -8.500000 |\n",
       "| df_sp6831 | Marion   | Residential Vacant   | Countywide | 0.94 | 11.16 | 13.48 | 1.00 | 0 |   153 | Moderate |  -8.875740 |\n",
       "| df_sp6921 | Marion   | Residential Improved | Countywide | 0.95 |  9.66 | 12.27 | 1.01 | 0 | 16232 | Moderate |  -3.827241 |\n",
       "| df_sp3351 | Hamilton | Commercial Vacant    | Countywide | 1.00 |  5.12 |  9.71 | 0.99 | 0 |    15 | Moderate |  -5.882353 |\n",
       "\n"
      ],
      "text/plain": [
       "          County   Type                 Grouping   Median COD   COV   PRD  PRB\n",
       "df_sp6671 Marion   Industrial Vacant    Countywide 0.96    6.80 11.93 1.02 0  \n",
       "df_sp6681 Marion   Industrial Improved  Countywide 0.94    9.15 12.19 1.04 0  \n",
       "df_sp6731 Marion   Commercial Improved  Countywide 0.94   12.12 14.62 1.00 0  \n",
       "df_sp6831 Marion   Residential Vacant   Countywide 0.94   11.16 13.48 1.00 0  \n",
       "df_sp6921 Marion   Residential Improved Countywide 0.95    9.66 12.27 1.01 0  \n",
       "df_sp3351 Hamilton Commercial Vacant    Countywide 1.00    5.12  9.71 0.99 0  \n",
       "          Sales Added    AddedSales\n",
       "df_sp6671     5 Moderate -14.285714\n",
       "df_sp6681    27 Moderate  -3.448276\n",
       "df_sp6731   182 Moderate  -8.500000\n",
       "df_sp6831   153 Moderate  -8.875740\n",
       "df_sp6921 16232 Moderate  -3.827241\n",
       "df_sp3351    15 Moderate  -5.882353"
      ]
     },
     "metadata": {},
     "output_type": "display_data"
    },
    {
     "name": "stderr",
     "output_type": "stream",
     "text": [
      "Warning message:\n",
      "\"\u001b[1m\u001b[22mRemoved 36 rows containing non-finite outside the scale range\n",
      "(`stat_boxplot()`).\"\n"
     ]
    },
    {
     "data": {
      "image/png": "[encoded data removed]",
      "text/plain": [
       "plot without title"
      ]
     },
     "metadata": {
      "image/png": {
       "height": 480,
       "width": 720
      }
     },
     "output_type": "display_data"
    }
   ],
   "source": [
    "library(ggplot2)\n",
    "library(dplyr)\n",
    "\n",
    "cresults$AddedSales = 0\n",
    "for (i in (1:nrow(cresults))) {\n",
    "    ogsale = ogresult[ogresult$County == cresults[i,]$County & ogresult$Type == cresults[i,]$Type & ogresult$Grouping == 'Countywide',]\n",
    "    cresults[i,]$AddedSales = (cresults[i,]$Sales - ogsale$Sales) / (ogsale$Sales + 1) * 100\n",
    "}\n",
    "cresults = cresults[cresults$AddedSales != 0,]\n",
    "cresults$Added <- factor(cresults$Added, levels = c(\"Original\", \"Moderate\", \"Aggressive\"))\n",
    "head(cresults)\n",
    "# Create boxplot using ggplot\n",
    "ggplot(cresults, aes(x = Type, y = AddedSales, fill = Added)) +\n",
    "  geom_boxplot() +\n",
    "  theme_minimal() +\n",
    "ylim(-100,500) +\n",
    "  labs(title = \"Boxplots of % Sales Added by Ratio Study Type\",\n",
    "       x = \"Ratio Study Type\",\n",
    "       y = \"Countywide % Sales Added\",\n",
    "       fill = \"Ratio Study Approach\") +\n",
    "  theme(axis.text.x = element_text(angle = 45, hjust = 1))  # Rotate x-axis labels"
   ]
  },
  {
   "cell_type": "code",
   "execution_count": 31,
   "id": "745f91d0-b3cf-47d4-932e-fbfe4ce949f8",
   "metadata": {},
   "outputs": [],
   "source": [
    "ratcimp = rat23[rat23$PropertyClass < 500 & rat23$PropertyClass > 400,1:10]\n",
    "exccimp = exc23[exc23$PropertyClass < 500 & exc23$PropertyClass > 400 & exc23$Explanation %in% aggressive,1:10]\n",
    "cimp = rbind(ratcimp,exccimp)"
   ]
  },
  {
   "cell_type": "code",
   "execution_count": 32,
   "id": "684f006a-49cf-49b2-8c58-04fddd96090e",
   "metadata": {},
   "outputs": [
    {
     "data": {
      "text/plain": [
       "\n",
       "401 499 447 429 420 430 442 419 455 425 403 454 480 456 431 402 481 444 450 452 \n",
       "559 534 520 469 396 177 174 137 120 115 103  98  91  72  71  69  67  41  38  34 \n",
       "410 453 415 422 411 421 428 440 449 426 439 412 435 441 416 451 409 464 448 465 \n",
       " 26  23  22  20  19  17  17  15  15  14  14  12  12  12   9   6   5   5   4   4 \n",
       "445 460 463 482 490 427 467 498 424 434 443 462 \n",
       "  3   3   3   3   3   2   2   2   1   1   1   1 "
      ]
     },
     "metadata": {},
     "output_type": "display_data"
    }
   ],
   "source": [
    "sort(table(cimp$PropertyClass), decreasing = TRUE)"
   ]
  },
  {
   "cell_type": "code",
   "execution_count": 33,
   "id": "2bcb8629-a961-4900-a98d-6a3d9daeb787",
   "metadata": {},
   "outputs": [
    {
     "data": {
      "text/html": [
       "<table class=\"dataframe\">\n",
       "<caption>A tibble: 15 x 4</caption>\n",
       "<thead>\n",
       "\t<tr><th scope=col>PropertyClass</th><th scope=col>SaleRatio</th><th scope=col>Count</th><th scope=col>Influence</th></tr>\n",
       "\t<tr><th scope=col>&lt;int&gt;</th><th scope=col>&lt;dbl&gt;</th><th scope=col>&lt;int&gt;</th><th scope=col>&lt;dbl&gt;</th></tr>\n",
       "</thead>\n",
       "<tbody>\n",
       "\t<tr><td>499</td><td>0.8925000</td><td>534</td><td>13.664604</td></tr>\n",
       "\t<tr><td>403</td><td>0.4877018</td><td>103</td><td>12.560514</td></tr>\n",
       "\t<tr><td>401</td><td>0.9223810</td><td>559</td><td>10.328267</td></tr>\n",
       "\t<tr><td>420</td><td>0.8947917</td><td>396</td><td> 9.917282</td></tr>\n",
       "\t<tr><td>429</td><td>0.9176000</td><td>469</td><td> 9.199143</td></tr>\n",
       "\t<tr><td>447</td><td>0.9305980</td><td>520</td><td> 8.590578</td></tr>\n",
       "\t<tr><td>425</td><td>0.8258065</td><td>115</td><td> 4.768450</td></tr>\n",
       "\t<tr><td>454</td><td>0.7963945</td><td> 98</td><td> 4.749663</td></tr>\n",
       "\t<tr><td>456</td><td>0.7300701</td><td> 72</td><td> 4.626268</td></tr>\n",
       "\t<tr><td>442</td><td>0.9038922</td><td>174</td><td> 3.980661</td></tr>\n",
       "\t<tr><td>455</td><td>0.8617799</td><td>120</td><td> 3.948206</td></tr>\n",
       "\t<tr><td>481</td><td>0.7648750</td><td> 67</td><td> 3.749911</td></tr>\n",
       "\t<tr><td>431</td><td>0.7903529</td><td> 71</td><td> 3.543190</td></tr>\n",
       "\t<tr><td>402</td><td>0.7974803</td><td> 69</td><td> 3.326317</td></tr>\n",
       "\t<tr><td>480</td><td>0.8483333</td><td> 91</td><td> 3.285329</td></tr>\n",
       "</tbody>\n",
       "</table>\n"
      ],
      "text/latex": [
       "A tibble: 15 x 4\n",
       "\\begin{tabular}{llll}\n",
       " PropertyClass & SaleRatio & Count & Influence\\\\\n",
       " <int> & <dbl> & <int> & <dbl>\\\\\n",
       "\\hline\n",
       "\t 499 & 0.8925000 & 534 & 13.664604\\\\\n",
       "\t 403 & 0.4877018 & 103 & 12.560514\\\\\n",
       "\t 401 & 0.9223810 & 559 & 10.328267\\\\\n",
       "\t 420 & 0.8947917 & 396 &  9.917282\\\\\n",
       "\t 429 & 0.9176000 & 469 &  9.199143\\\\\n",
       "\t 447 & 0.9305980 & 520 &  8.590578\\\\\n",
       "\t 425 & 0.8258065 & 115 &  4.768450\\\\\n",
       "\t 454 & 0.7963945 &  98 &  4.749663\\\\\n",
       "\t 456 & 0.7300701 &  72 &  4.626268\\\\\n",
       "\t 442 & 0.9038922 & 174 &  3.980661\\\\\n",
       "\t 455 & 0.8617799 & 120 &  3.948206\\\\\n",
       "\t 481 & 0.7648750 &  67 &  3.749911\\\\\n",
       "\t 431 & 0.7903529 &  71 &  3.543190\\\\\n",
       "\t 402 & 0.7974803 &  69 &  3.326317\\\\\n",
       "\t 480 & 0.8483333 &  91 &  3.285329\\\\\n",
       "\\end{tabular}\n"
      ],
      "text/markdown": [
       "\n",
       "A tibble: 15 x 4\n",
       "\n",
       "| PropertyClass &lt;int&gt; | SaleRatio &lt;dbl&gt; | Count &lt;int&gt; | Influence &lt;dbl&gt; |\n",
       "|---|---|---|---|\n",
       "| 499 | 0.8925000 | 534 | 13.664604 |\n",
       "| 403 | 0.4877018 | 103 | 12.560514 |\n",
       "| 401 | 0.9223810 | 559 | 10.328267 |\n",
       "| 420 | 0.8947917 | 396 |  9.917282 |\n",
       "| 429 | 0.9176000 | 469 |  9.199143 |\n",
       "| 447 | 0.9305980 | 520 |  8.590578 |\n",
       "| 425 | 0.8258065 | 115 |  4.768450 |\n",
       "| 454 | 0.7963945 |  98 |  4.749663 |\n",
       "| 456 | 0.7300701 |  72 |  4.626268 |\n",
       "| 442 | 0.9038922 | 174 |  3.980661 |\n",
       "| 455 | 0.8617799 | 120 |  3.948206 |\n",
       "| 481 | 0.7648750 |  67 |  3.749911 |\n",
       "| 431 | 0.7903529 |  71 |  3.543190 |\n",
       "| 402 | 0.7974803 |  69 |  3.326317 |\n",
       "| 480 | 0.8483333 |  91 |  3.285329 |\n",
       "\n"
      ],
      "text/plain": [
       "   PropertyClass SaleRatio Count Influence\n",
       "1  499           0.8925000 534   13.664604\n",
       "2  403           0.4877018 103   12.560514\n",
       "3  401           0.9223810 559   10.328267\n",
       "4  420           0.8947917 396    9.917282\n",
       "5  429           0.9176000 469    9.199143\n",
       "6  447           0.9305980 520    8.590578\n",
       "7  425           0.8258065 115    4.768450\n",
       "8  454           0.7963945  98    4.749663\n",
       "9  456           0.7300701  72    4.626268\n",
       "10 442           0.9038922 174    3.980661\n",
       "11 455           0.8617799 120    3.948206\n",
       "12 481           0.7648750  67    3.749911\n",
       "13 431           0.7903529  71    3.543190\n",
       "14 402           0.7974803  69    3.326317\n",
       "15 480           0.8483333  91    3.285329"
      ]
     },
     "metadata": {},
     "output_type": "display_data"
    }
   ],
   "source": [
    "library(dplyr)\n",
    "cimp_class = cimp %>% \n",
    "group_by(PropertyClass) %>%\n",
    "summarise(PropertyClass = PropertyClass[1],SaleRatio = median(SaleRatio),Count = n(),Influence = (abs(1-SaleRatio) * (Count / nrow(cimp))) * 1000)\n",
    "head(cimp_class[order(-cimp_class$Influence),],15)"
   ]
  },
  {
   "cell_type": "code",
   "execution_count": 34,
   "id": "b4319f1c-a3e1-4514-a51c-ea66dfc7de29",
   "metadata": {},
   "outputs": [],
   "source": [
    "ratiimp = rat23[rat23$PropertyClass < 400 & rat23$PropertyClass > 300,1:10]\n",
    "exciimp = exc23[exc23$PropertyClass < 400 & exc23$PropertyClass > 300 & exc23$Explanation %in% aggressive,1:10]\n",
    "iimp = rbind(ratiimp,exciimp)"
   ]
  },
  {
   "cell_type": "code",
   "execution_count": 35,
   "id": "b73120f3-d11e-42fd-8148-66962549254a",
   "metadata": {},
   "outputs": [
    {
     "data": {
      "text/html": [
       "<table class=\"dataframe\">\n",
       "<caption>A tibble: 14 x 4</caption>\n",
       "<thead>\n",
       "\t<tr><th scope=col>PropertyClass</th><th scope=col>SaleRatio</th><th scope=col>Count</th><th scope=col>Influence</th></tr>\n",
       "\t<tr><th scope=col>&lt;int&gt;</th><th scope=col>&lt;dbl&gt;</th><th scope=col>&lt;int&gt;</th><th scope=col>&lt;dbl&gt;</th></tr>\n",
       "</thead>\n",
       "<tbody>\n",
       "\t<tr><td>350</td><td>0.7877143</td><td>145</td><td>66.1966206</td></tr>\n",
       "\t<tr><td>340</td><td>0.8475490</td><td>126</td><td>41.3092979</td></tr>\n",
       "\t<tr><td>370</td><td>0.8200000</td><td> 65</td><td>25.1612903</td></tr>\n",
       "\t<tr><td>360</td><td>0.7062502</td><td> 16</td><td>10.1075183</td></tr>\n",
       "\t<tr><td>310</td><td>0.4221818</td><td>  7</td><td> 8.6983382</td></tr>\n",
       "\t<tr><td>380</td><td>0.6056370</td><td>  4</td><td> 3.3923701</td></tr>\n",
       "\t<tr><td>399</td><td>0.9754386</td><td> 51</td><td> 2.6938314</td></tr>\n",
       "\t<tr><td>345</td><td>0.9026667</td><td>  9</td><td> 1.8838710</td></tr>\n",
       "\t<tr><td>320</td><td>0.7827863</td><td>  3</td><td> 1.4013785</td></tr>\n",
       "\t<tr><td>330</td><td>0.9191225</td><td>  8</td><td> 1.3914404</td></tr>\n",
       "\t<tr><td>346</td><td>0.9137191</td><td>  4</td><td> 0.7422009</td></tr>\n",
       "\t<tr><td>398</td><td>0.7949091</td><td>  1</td><td> 0.4410557</td></tr>\n",
       "\t<tr><td>390</td><td>0.9692015</td><td>  6</td><td> 0.3974006</td></tr>\n",
       "\t<tr><td> NA</td><td>       NA</td><td> 20</td><td>        NA</td></tr>\n",
       "</tbody>\n",
       "</table>\n"
      ],
      "text/latex": [
       "A tibble: 14 x 4\n",
       "\\begin{tabular}{llll}\n",
       " PropertyClass & SaleRatio & Count & Influence\\\\\n",
       " <int> & <dbl> & <int> & <dbl>\\\\\n",
       "\\hline\n",
       "\t 350 & 0.7877143 & 145 & 66.1966206\\\\\n",
       "\t 340 & 0.8475490 & 126 & 41.3092979\\\\\n",
       "\t 370 & 0.8200000 &  65 & 25.1612903\\\\\n",
       "\t 360 & 0.7062502 &  16 & 10.1075183\\\\\n",
       "\t 310 & 0.4221818 &   7 &  8.6983382\\\\\n",
       "\t 380 & 0.6056370 &   4 &  3.3923701\\\\\n",
       "\t 399 & 0.9754386 &  51 &  2.6938314\\\\\n",
       "\t 345 & 0.9026667 &   9 &  1.8838710\\\\\n",
       "\t 320 & 0.7827863 &   3 &  1.4013785\\\\\n",
       "\t 330 & 0.9191225 &   8 &  1.3914404\\\\\n",
       "\t 346 & 0.9137191 &   4 &  0.7422009\\\\\n",
       "\t 398 & 0.7949091 &   1 &  0.4410557\\\\\n",
       "\t 390 & 0.9692015 &   6 &  0.3974006\\\\\n",
       "\t  NA &        NA &  20 &         NA\\\\\n",
       "\\end{tabular}\n"
      ],
      "text/markdown": [
       "\n",
       "A tibble: 14 x 4\n",
       "\n",
       "| PropertyClass &lt;int&gt; | SaleRatio &lt;dbl&gt; | Count &lt;int&gt; | Influence &lt;dbl&gt; |\n",
       "|---|---|---|---|\n",
       "| 350 | 0.7877143 | 145 | 66.1966206 |\n",
       "| 340 | 0.8475490 | 126 | 41.3092979 |\n",
       "| 370 | 0.8200000 |  65 | 25.1612903 |\n",
       "| 360 | 0.7062502 |  16 | 10.1075183 |\n",
       "| 310 | 0.4221818 |   7 |  8.6983382 |\n",
       "| 380 | 0.6056370 |   4 |  3.3923701 |\n",
       "| 399 | 0.9754386 |  51 |  2.6938314 |\n",
       "| 345 | 0.9026667 |   9 |  1.8838710 |\n",
       "| 320 | 0.7827863 |   3 |  1.4013785 |\n",
       "| 330 | 0.9191225 |   8 |  1.3914404 |\n",
       "| 346 | 0.9137191 |   4 |  0.7422009 |\n",
       "| 398 | 0.7949091 |   1 |  0.4410557 |\n",
       "| 390 | 0.9692015 |   6 |  0.3974006 |\n",
       "|  NA |        NA |  20 |         NA |\n",
       "\n"
      ],
      "text/plain": [
       "   PropertyClass SaleRatio Count Influence \n",
       "1  350           0.7877143 145   66.1966206\n",
       "2  340           0.8475490 126   41.3092979\n",
       "3  370           0.8200000  65   25.1612903\n",
       "4  360           0.7062502  16   10.1075183\n",
       "5  310           0.4221818   7    8.6983382\n",
       "6  380           0.6056370   4    3.3923701\n",
       "7  399           0.9754386  51    2.6938314\n",
       "8  345           0.9026667   9    1.8838710\n",
       "9  320           0.7827863   3    1.4013785\n",
       "10 330           0.9191225   8    1.3914404\n",
       "11 346           0.9137191   4    0.7422009\n",
       "12 398           0.7949091   1    0.4410557\n",
       "13 390           0.9692015   6    0.3974006\n",
       "14  NA                  NA  20           NA"
      ]
     },
     "metadata": {},
     "output_type": "display_data"
    }
   ],
   "source": [
    "iimp_class = iimp %>% \n",
    "group_by(PropertyClass) %>%\n",
    "summarise(PropertyClass = PropertyClass[1],SaleRatio = median(SaleRatio),Count = n(),Influence = (abs(1-SaleRatio) * (Count / nrow(iimp))) * 1000)\n",
    "head(iimp_class[order(-iimp_class$Influence),],15)"
   ]
  },
  {
   "cell_type": "code",
   "execution_count": 36,
   "id": "14339582-23d6-48a1-beb2-01228fe218e7",
   "metadata": {},
   "outputs": [],
   "source": [
    "ratrimp = rat23[rat23$PropertyClass < 600 & rat23$PropertyClass > 509,1:10]\n",
    "excrimp = exc23[exc23$PropertyClass < 600 & exc23$PropertyClass > 509 & exc23$Explanation %in% aggressive,1:10]\n",
    "rimp = rbind(ratrimp,excrimp)"
   ]
  },
  {
   "cell_type": "code",
   "execution_count": 37,
   "id": "d222caa5-e804-4275-ad60-c2683f0110d1",
   "metadata": {},
   "outputs": [
    {
     "data": {
      "text/html": [
       "<table class=\"dataframe\">\n",
       "<caption>A tibble: 15 x 4</caption>\n",
       "<thead>\n",
       "\t<tr><th scope=col>PropertyClass</th><th scope=col>SaleRatio</th><th scope=col>Count</th><th scope=col>Influence</th></tr>\n",
       "\t<tr><th scope=col>&lt;int&gt;</th><th scope=col>&lt;dbl&gt;</th><th scope=col>&lt;int&gt;</th><th scope=col>&lt;dbl&gt;</th></tr>\n",
       "</thead>\n",
       "<tbody>\n",
       "\t<tr><td>510</td><td>0.9463986</td><td>99616</td><td>42.857021401</td></tr>\n",
       "\t<tr><td>511</td><td>0.9360000</td><td>12495</td><td> 6.418492656</td></tr>\n",
       "\t<tr><td>550</td><td>0.9342481</td><td> 4990</td><td> 2.633452763</td></tr>\n",
       "\t<tr><td>520</td><td>0.9562500</td><td> 3135</td><td> 1.100860824</td></tr>\n",
       "\t<tr><td>599</td><td>0.8620489</td><td>  858</td><td> 0.950012724</td></tr>\n",
       "\t<tr><td>540</td><td>0.9347826</td><td>  999</td><td> 0.522932610</td></tr>\n",
       "\t<tr><td>541</td><td>0.9227586</td><td>  753</td><td> 0.466833282</td></tr>\n",
       "\t<tr><td>551</td><td>0.9078947</td><td>  293</td><td> 0.216605202</td></tr>\n",
       "\t<tr><td>512</td><td>0.9309270</td><td>  262</td><td> 0.145253379</td></tr>\n",
       "\t<tr><td>556</td><td>0.9686186</td><td>  368</td><td> 0.092690736</td></tr>\n",
       "\t<tr><td>521</td><td>0.9740260</td><td>  137</td><td> 0.028561213</td></tr>\n",
       "\t<tr><td>591</td><td>0.8981481</td><td>   28</td><td> 0.022889894</td></tr>\n",
       "\t<tr><td>590</td><td>0.7973856</td><td>   13</td><td> 0.021141239</td></tr>\n",
       "\t<tr><td>513</td><td>0.9414545</td><td>   39</td><td> 0.018326292</td></tr>\n",
       "\t<tr><td>530</td><td>0.9976000</td><td>  477</td><td> 0.009188538</td></tr>\n",
       "</tbody>\n",
       "</table>\n"
      ],
      "text/latex": [
       "A tibble: 15 x 4\n",
       "\\begin{tabular}{llll}\n",
       " PropertyClass & SaleRatio & Count & Influence\\\\\n",
       " <int> & <dbl> & <int> & <dbl>\\\\\n",
       "\\hline\n",
       "\t 510 & 0.9463986 & 99616 & 42.857021401\\\\\n",
       "\t 511 & 0.9360000 & 12495 &  6.418492656\\\\\n",
       "\t 550 & 0.9342481 &  4990 &  2.633452763\\\\\n",
       "\t 520 & 0.9562500 &  3135 &  1.100860824\\\\\n",
       "\t 599 & 0.8620489 &   858 &  0.950012724\\\\\n",
       "\t 540 & 0.9347826 &   999 &  0.522932610\\\\\n",
       "\t 541 & 0.9227586 &   753 &  0.466833282\\\\\n",
       "\t 551 & 0.9078947 &   293 &  0.216605202\\\\\n",
       "\t 512 & 0.9309270 &   262 &  0.145253379\\\\\n",
       "\t 556 & 0.9686186 &   368 &  0.092690736\\\\\n",
       "\t 521 & 0.9740260 &   137 &  0.028561213\\\\\n",
       "\t 591 & 0.8981481 &    28 &  0.022889894\\\\\n",
       "\t 590 & 0.7973856 &    13 &  0.021141239\\\\\n",
       "\t 513 & 0.9414545 &    39 &  0.018326292\\\\\n",
       "\t 530 & 0.9976000 &   477 &  0.009188538\\\\\n",
       "\\end{tabular}\n"
      ],
      "text/markdown": [
       "\n",
       "A tibble: 15 x 4\n",
       "\n",
       "| PropertyClass &lt;int&gt; | SaleRatio &lt;dbl&gt; | Count &lt;int&gt; | Influence &lt;dbl&gt; |\n",
       "|---|---|---|---|\n",
       "| 510 | 0.9463986 | 99616 | 42.857021401 |\n",
       "| 511 | 0.9360000 | 12495 |  6.418492656 |\n",
       "| 550 | 0.9342481 |  4990 |  2.633452763 |\n",
       "| 520 | 0.9562500 |  3135 |  1.100860824 |\n",
       "| 599 | 0.8620489 |   858 |  0.950012724 |\n",
       "| 540 | 0.9347826 |   999 |  0.522932610 |\n",
       "| 541 | 0.9227586 |   753 |  0.466833282 |\n",
       "| 551 | 0.9078947 |   293 |  0.216605202 |\n",
       "| 512 | 0.9309270 |   262 |  0.145253379 |\n",
       "| 556 | 0.9686186 |   368 |  0.092690736 |\n",
       "| 521 | 0.9740260 |   137 |  0.028561213 |\n",
       "| 591 | 0.8981481 |    28 |  0.022889894 |\n",
       "| 590 | 0.7973856 |    13 |  0.021141239 |\n",
       "| 513 | 0.9414545 |    39 |  0.018326292 |\n",
       "| 530 | 0.9976000 |   477 |  0.009188538 |\n",
       "\n"
      ],
      "text/plain": [
       "   PropertyClass SaleRatio Count Influence   \n",
       "1  510           0.9463986 99616 42.857021401\n",
       "2  511           0.9360000 12495  6.418492656\n",
       "3  550           0.9342481  4990  2.633452763\n",
       "4  520           0.9562500  3135  1.100860824\n",
       "5  599           0.8620489   858  0.950012724\n",
       "6  540           0.9347826   999  0.522932610\n",
       "7  541           0.9227586   753  0.466833282\n",
       "8  551           0.9078947   293  0.216605202\n",
       "9  512           0.9309270   262  0.145253379\n",
       "10 556           0.9686186   368  0.092690736\n",
       "11 521           0.9740260   137  0.028561213\n",
       "12 591           0.8981481    28  0.022889894\n",
       "13 590           0.7973856    13  0.021141239\n",
       "14 513           0.9414545    39  0.018326292\n",
       "15 530           0.9976000   477  0.009188538"
      ]
     },
     "metadata": {},
     "output_type": "display_data"
    }
   ],
   "source": [
    "rimp_class = rimp %>% \n",
    "group_by(PropertyClass) %>%\n",
    "summarise(PropertyClass = PropertyClass[1],SaleRatio = median(SaleRatio),Count = n(),Influence = (abs(1-SaleRatio) * (Count / nrow(rimp))) * 1000)\n",
    "head(rimp_class[order(-rimp_class$Influence),],15)"
   ]
  },
  {
   "cell_type": "code",
   "execution_count": 38,
   "id": "876784da-b6ed-4095-b8cc-ff47dac7c093",
   "metadata": {},
   "outputs": [],
   "source": [
    "ratrvac = rat23[rat23$PropertyClass < 510 & rat23$PropertyClass >= 500,1:10]\n",
    "excrvac = exc23[exc23$PropertyClass < 510 & exc23$PropertyClass >= 500 & exc23$Explanation %in% aggressive,1:10]\n",
    "rvac = rbind(ratrvac,excrvac)"
   ]
  },
  {
   "cell_type": "code",
   "execution_count": 39,
   "id": "d57bb018-0aad-49f3-af7c-0242feeb763c",
   "metadata": {},
   "outputs": [
    {
     "data": {
      "text/html": [
       "<table class=\"dataframe\">\n",
       "<caption>A tibble: 8 x 4</caption>\n",
       "<thead>\n",
       "\t<tr><th scope=col>PropertyClass</th><th scope=col>SaleRatio</th><th scope=col>Count</th><th scope=col>Influence</th></tr>\n",
       "\t<tr><th scope=col>&lt;int&gt;</th><th scope=col>&lt;dbl&gt;</th><th scope=col>&lt;int&gt;</th><th scope=col>&lt;dbl&gt;</th></tr>\n",
       "</thead>\n",
       "<tbody>\n",
       "\t<tr><td>500</td><td>0.9654545</td><td>6079</td><td>29.983126525</td></tr>\n",
       "\t<tr><td>501</td><td>0.8543216</td><td> 749</td><td>15.578684455</td></tr>\n",
       "\t<tr><td>509</td><td>0.2314286</td><td>  51</td><td> 5.596393897</td></tr>\n",
       "\t<tr><td>502</td><td>0.9176056</td><td>  61</td><td> 0.717597992</td></tr>\n",
       "\t<tr><td>504</td><td>0.8545617</td><td>   8</td><td> 0.166120304</td></tr>\n",
       "\t<tr><td>503</td><td>0.9895641</td><td>  28</td><td> 0.041719697</td></tr>\n",
       "\t<tr><td>505</td><td>0.9969314</td><td>   8</td><td> 0.003504931</td></tr>\n",
       "\t<tr><td> NA</td><td>       NA</td><td>  20</td><td>          NA</td></tr>\n",
       "</tbody>\n",
       "</table>\n"
      ],
      "text/latex": [
       "A tibble: 8 x 4\n",
       "\\begin{tabular}{llll}\n",
       " PropertyClass & SaleRatio & Count & Influence\\\\\n",
       " <int> & <dbl> & <int> & <dbl>\\\\\n",
       "\\hline\n",
       "\t 500 & 0.9654545 & 6079 & 29.983126525\\\\\n",
       "\t 501 & 0.8543216 &  749 & 15.578684455\\\\\n",
       "\t 509 & 0.2314286 &   51 &  5.596393897\\\\\n",
       "\t 502 & 0.9176056 &   61 &  0.717597992\\\\\n",
       "\t 504 & 0.8545617 &    8 &  0.166120304\\\\\n",
       "\t 503 & 0.9895641 &   28 &  0.041719697\\\\\n",
       "\t 505 & 0.9969314 &    8 &  0.003504931\\\\\n",
       "\t  NA &        NA &   20 &           NA\\\\\n",
       "\\end{tabular}\n"
      ],
      "text/markdown": [
       "\n",
       "A tibble: 8 x 4\n",
       "\n",
       "| PropertyClass &lt;int&gt; | SaleRatio &lt;dbl&gt; | Count &lt;int&gt; | Influence &lt;dbl&gt; |\n",
       "|---|---|---|---|\n",
       "| 500 | 0.9654545 | 6079 | 29.983126525 |\n",
       "| 501 | 0.8543216 |  749 | 15.578684455 |\n",
       "| 509 | 0.2314286 |   51 |  5.596393897 |\n",
       "| 502 | 0.9176056 |   61 |  0.717597992 |\n",
       "| 504 | 0.8545617 |    8 |  0.166120304 |\n",
       "| 503 | 0.9895641 |   28 |  0.041719697 |\n",
       "| 505 | 0.9969314 |    8 |  0.003504931 |\n",
       "|  NA |        NA |   20 |           NA |\n",
       "\n"
      ],
      "text/plain": [
       "  PropertyClass SaleRatio Count Influence   \n",
       "1 500           0.9654545 6079  29.983126525\n",
       "2 501           0.8543216  749  15.578684455\n",
       "3 509           0.2314286   51   5.596393897\n",
       "4 502           0.9176056   61   0.717597992\n",
       "5 504           0.8545617    8   0.166120304\n",
       "6 503           0.9895641   28   0.041719697\n",
       "7 505           0.9969314    8   0.003504931\n",
       "8  NA                  NA   20            NA"
      ]
     },
     "metadata": {},
     "output_type": "display_data"
    }
   ],
   "source": [
    "rvac_class = rvac %>% \n",
    "group_by(PropertyClass) %>%\n",
    "summarise(PropertyClass = PropertyClass[1],SaleRatio = median(SaleRatio),Count = n(),Influence = (abs(1-SaleRatio) * (Count / nrow(rvac))) * 1000)\n",
    "head(rvac_class[order(-rvac_class$Influence),],15)"
   ]
  },
  {
   "cell_type": "code",
   "execution_count": 40,
   "id": "dfc97353-e8b4-4c71-91c2-37b1a2b75e85",
   "metadata": {},
   "outputs": [],
   "source": [
    "pclassinfluence = rbind(rvac_class,rimp_class,iimp_class,cimp_class)"
   ]
  },
  {
   "cell_type": "code",
   "execution_count": 41,
   "id": "e60b801b-4996-47cc-ab50-33b219aceb3b",
   "metadata": {},
   "outputs": [
    {
     "data": {
      "text/html": [
       "<table class=\"dataframe\">\n",
       "<caption>A tibble: 15 x 4</caption>\n",
       "<thead>\n",
       "\t<tr><th scope=col>PropertyClass</th><th scope=col>SaleRatio</th><th scope=col>Count</th><th scope=col>Influence</th></tr>\n",
       "\t<tr><th scope=col>&lt;int&gt;</th><th scope=col>&lt;dbl&gt;</th><th scope=col>&lt;int&gt;</th><th scope=col>&lt;dbl&gt;</th></tr>\n",
       "</thead>\n",
       "<tbody>\n",
       "\t<tr><td>350</td><td>0.7877143</td><td>  145</td><td>66.196621</td></tr>\n",
       "\t<tr><td>510</td><td>0.9463986</td><td>99616</td><td>42.857021</td></tr>\n",
       "\t<tr><td>340</td><td>0.8475490</td><td>  126</td><td>41.309298</td></tr>\n",
       "\t<tr><td>500</td><td>0.9654545</td><td> 6079</td><td>29.983127</td></tr>\n",
       "\t<tr><td>370</td><td>0.8200000</td><td>   65</td><td>25.161290</td></tr>\n",
       "\t<tr><td>501</td><td>0.8543216</td><td>  749</td><td>15.578684</td></tr>\n",
       "\t<tr><td>499</td><td>0.8925000</td><td>  534</td><td>13.664604</td></tr>\n",
       "\t<tr><td>403</td><td>0.4877018</td><td>  103</td><td>12.560514</td></tr>\n",
       "\t<tr><td>401</td><td>0.9223810</td><td>  559</td><td>10.328267</td></tr>\n",
       "\t<tr><td>360</td><td>0.7062502</td><td>   16</td><td>10.107518</td></tr>\n",
       "\t<tr><td>420</td><td>0.8947917</td><td>  396</td><td> 9.917282</td></tr>\n",
       "\t<tr><td>429</td><td>0.9176000</td><td>  469</td><td> 9.199143</td></tr>\n",
       "\t<tr><td>310</td><td>0.4221818</td><td>    7</td><td> 8.698338</td></tr>\n",
       "\t<tr><td>447</td><td>0.9305980</td><td>  520</td><td> 8.590578</td></tr>\n",
       "\t<tr><td>511</td><td>0.9360000</td><td>12495</td><td> 6.418493</td></tr>\n",
       "</tbody>\n",
       "</table>\n"
      ],
      "text/latex": [
       "A tibble: 15 x 4\n",
       "\\begin{tabular}{llll}\n",
       " PropertyClass & SaleRatio & Count & Influence\\\\\n",
       " <int> & <dbl> & <int> & <dbl>\\\\\n",
       "\\hline\n",
       "\t 350 & 0.7877143 &   145 & 66.196621\\\\\n",
       "\t 510 & 0.9463986 & 99616 & 42.857021\\\\\n",
       "\t 340 & 0.8475490 &   126 & 41.309298\\\\\n",
       "\t 500 & 0.9654545 &  6079 & 29.983127\\\\\n",
       "\t 370 & 0.8200000 &    65 & 25.161290\\\\\n",
       "\t 501 & 0.8543216 &   749 & 15.578684\\\\\n",
       "\t 499 & 0.8925000 &   534 & 13.664604\\\\\n",
       "\t 403 & 0.4877018 &   103 & 12.560514\\\\\n",
       "\t 401 & 0.9223810 &   559 & 10.328267\\\\\n",
       "\t 360 & 0.7062502 &    16 & 10.107518\\\\\n",
       "\t 420 & 0.8947917 &   396 &  9.917282\\\\\n",
       "\t 429 & 0.9176000 &   469 &  9.199143\\\\\n",
       "\t 310 & 0.4221818 &     7 &  8.698338\\\\\n",
       "\t 447 & 0.9305980 &   520 &  8.590578\\\\\n",
       "\t 511 & 0.9360000 & 12495 &  6.418493\\\\\n",
       "\\end{tabular}\n"
      ],
      "text/markdown": [
       "\n",
       "A tibble: 15 x 4\n",
       "\n",
       "| PropertyClass &lt;int&gt; | SaleRatio &lt;dbl&gt; | Count &lt;int&gt; | Influence &lt;dbl&gt; |\n",
       "|---|---|---|---|\n",
       "| 350 | 0.7877143 |   145 | 66.196621 |\n",
       "| 510 | 0.9463986 | 99616 | 42.857021 |\n",
       "| 340 | 0.8475490 |   126 | 41.309298 |\n",
       "| 500 | 0.9654545 |  6079 | 29.983127 |\n",
       "| 370 | 0.8200000 |    65 | 25.161290 |\n",
       "| 501 | 0.8543216 |   749 | 15.578684 |\n",
       "| 499 | 0.8925000 |   534 | 13.664604 |\n",
       "| 403 | 0.4877018 |   103 | 12.560514 |\n",
       "| 401 | 0.9223810 |   559 | 10.328267 |\n",
       "| 360 | 0.7062502 |    16 | 10.107518 |\n",
       "| 420 | 0.8947917 |   396 |  9.917282 |\n",
       "| 429 | 0.9176000 |   469 |  9.199143 |\n",
       "| 310 | 0.4221818 |     7 |  8.698338 |\n",
       "| 447 | 0.9305980 |   520 |  8.590578 |\n",
       "| 511 | 0.9360000 | 12495 |  6.418493 |\n",
       "\n"
      ],
      "text/plain": [
       "   PropertyClass SaleRatio Count Influence\n",
       "1  350           0.7877143   145 66.196621\n",
       "2  510           0.9463986 99616 42.857021\n",
       "3  340           0.8475490   126 41.309298\n",
       "4  500           0.9654545  6079 29.983127\n",
       "5  370           0.8200000    65 25.161290\n",
       "6  501           0.8543216   749 15.578684\n",
       "7  499           0.8925000   534 13.664604\n",
       "8  403           0.4877018   103 12.560514\n",
       "9  401           0.9223810   559 10.328267\n",
       "10 360           0.7062502    16 10.107518\n",
       "11 420           0.8947917   396  9.917282\n",
       "12 429           0.9176000   469  9.199143\n",
       "13 310           0.4221818     7  8.698338\n",
       "14 447           0.9305980   520  8.590578\n",
       "15 511           0.9360000 12495  6.418493"
      ]
     },
     "metadata": {},
     "output_type": "display_data"
    }
   ],
   "source": [
    "head(pclassinfluence[order(-pclassinfluence$Influence),],15)"
   ]
  },
  {
   "cell_type": "code",
   "execution_count": 42,
   "id": "c91d9252-8500-4a35-8ce8-d920ef70a668",
   "metadata": {},
   "outputs": [],
   "source": [
    "ratx = rat23[,1:10]\n",
    "excx = exc23[exc23$Explanation %in% aggressive,c(1:10,12)]\n",
    "ratx$Explanation = 'ON RATIO STUDY'\n",
    "cx = rbind(ratx,excx)"
   ]
  },
  {
   "cell_type": "code",
   "execution_count": 43,
   "id": "91c44e3b-75a6-4481-a58e-2142240f4ee7",
   "metadata": {},
   "outputs": [
    {
     "data": {
      "text/html": [
       "<table class=\"dataframe\">\n",
       "<caption>A tibble: 11 x 4</caption>\n",
       "<thead>\n",
       "\t<tr><th scope=col>Explanation</th><th scope=col>SaleRatio</th><th scope=col>Count</th><th scope=col>Influence</th></tr>\n",
       "\t<tr><th scope=col>&lt;chr&gt;</th><th scope=col>&lt;dbl&gt;</th><th scope=col>&lt;int&gt;</th><th scope=col>&lt;dbl&gt;</th></tr>\n",
       "</thead>\n",
       "<tbody>\n",
       "\t<tr><td>ON RATIO STUDY                  </td><td>0.9448938</td><td>116833</td><td>47.0489028</td></tr>\n",
       "\t<tr><td>AV DOES NOT REFLECT MARKET VALUE</td><td>0.7668394</td><td>  3799</td><td> 6.4730395</td></tr>\n",
       "\t<tr><td>INVESTMENT/RENTAL               </td><td>0.9197044</td><td>  8013</td><td> 4.7018684</td></tr>\n",
       "\t<tr><td>INSUFFICIENT TIME ON MARKET     </td><td>1.2875000</td><td>  1485</td><td> 3.1199531</td></tr>\n",
       "\t<tr><td>NOT ENOUGH SALES FOR TRENDING   </td><td>0.8875835</td><td>  2184</td><td> 1.7941819</td></tr>\n",
       "\t<tr><td>SOLD AS IS                      </td><td>1.5982857</td><td>   384</td><td> 1.6788953</td></tr>\n",
       "\t<tr><td>VACANT LAND                     </td><td>0.9207547</td><td>  2617</td><td> 1.5155173</td></tr>\n",
       "\t<tr><td>MULTI PARCEL SALE               </td><td>0.8280000</td><td>   911</td><td> 1.1450662</td></tr>\n",
       "\t<tr><td>LEASE                           </td><td>0.4907691</td><td>   268</td><td> 0.9973172</td></tr>\n",
       "\t<tr><td>BUILDING PERMIT                 </td><td>0.7689231</td><td>   303</td><td> 0.5116618</td></tr>\n",
       "\t<tr><td>APARTMENT                       </td><td>0.5588929</td><td>    44</td><td> 0.1418341</td></tr>\n",
       "</tbody>\n",
       "</table>\n"
      ],
      "text/latex": [
       "A tibble: 11 x 4\n",
       "\\begin{tabular}{llll}\n",
       " Explanation & SaleRatio & Count & Influence\\\\\n",
       " <chr> & <dbl> & <int> & <dbl>\\\\\n",
       "\\hline\n",
       "\t ON RATIO STUDY                   & 0.9448938 & 116833 & 47.0489028\\\\\n",
       "\t AV DOES NOT REFLECT MARKET VALUE & 0.7668394 &   3799 &  6.4730395\\\\\n",
       "\t INVESTMENT/RENTAL                & 0.9197044 &   8013 &  4.7018684\\\\\n",
       "\t INSUFFICIENT TIME ON MARKET      & 1.2875000 &   1485 &  3.1199531\\\\\n",
       "\t NOT ENOUGH SALES FOR TRENDING    & 0.8875835 &   2184 &  1.7941819\\\\\n",
       "\t SOLD AS IS                       & 1.5982857 &    384 &  1.6788953\\\\\n",
       "\t VACANT LAND                      & 0.9207547 &   2617 &  1.5155173\\\\\n",
       "\t MULTI PARCEL SALE                & 0.8280000 &    911 &  1.1450662\\\\\n",
       "\t LEASE                            & 0.4907691 &    268 &  0.9973172\\\\\n",
       "\t BUILDING PERMIT                  & 0.7689231 &    303 &  0.5116618\\\\\n",
       "\t APARTMENT                        & 0.5588929 &     44 &  0.1418341\\\\\n",
       "\\end{tabular}\n"
      ],
      "text/markdown": [
       "\n",
       "A tibble: 11 x 4\n",
       "\n",
       "| Explanation &lt;chr&gt; | SaleRatio &lt;dbl&gt; | Count &lt;int&gt; | Influence &lt;dbl&gt; |\n",
       "|---|---|---|---|\n",
       "| ON RATIO STUDY                   | 0.9448938 | 116833 | 47.0489028 |\n",
       "| AV DOES NOT REFLECT MARKET VALUE | 0.7668394 |   3799 |  6.4730395 |\n",
       "| INVESTMENT/RENTAL                | 0.9197044 |   8013 |  4.7018684 |\n",
       "| INSUFFICIENT TIME ON MARKET      | 1.2875000 |   1485 |  3.1199531 |\n",
       "| NOT ENOUGH SALES FOR TRENDING    | 0.8875835 |   2184 |  1.7941819 |\n",
       "| SOLD AS IS                       | 1.5982857 |    384 |  1.6788953 |\n",
       "| VACANT LAND                      | 0.9207547 |   2617 |  1.5155173 |\n",
       "| MULTI PARCEL SALE                | 0.8280000 |    911 |  1.1450662 |\n",
       "| LEASE                            | 0.4907691 |    268 |  0.9973172 |\n",
       "| BUILDING PERMIT                  | 0.7689231 |    303 |  0.5116618 |\n",
       "| APARTMENT                        | 0.5588929 |     44 |  0.1418341 |\n",
       "\n"
      ],
      "text/plain": [
       "   Explanation                      SaleRatio Count  Influence \n",
       "1  ON RATIO STUDY                   0.9448938 116833 47.0489028\n",
       "2  AV DOES NOT REFLECT MARKET VALUE 0.7668394   3799  6.4730395\n",
       "3  INVESTMENT/RENTAL                0.9197044   8013  4.7018684\n",
       "4  INSUFFICIENT TIME ON MARKET      1.2875000   1485  3.1199531\n",
       "5  NOT ENOUGH SALES FOR TRENDING    0.8875835   2184  1.7941819\n",
       "6  SOLD AS IS                       1.5982857    384  1.6788953\n",
       "7  VACANT LAND                      0.9207547   2617  1.5155173\n",
       "8  MULTI PARCEL SALE                0.8280000    911  1.1450662\n",
       "9  LEASE                            0.4907691    268  0.9973172\n",
       "10 BUILDING PERMIT                  0.7689231    303  0.5116618\n",
       "11 APARTMENT                        0.5588929     44  0.1418341"
      ]
     },
     "metadata": {},
     "output_type": "display_data"
    }
   ],
   "source": [
    "excinf = cx %>% \n",
    "group_by(Explanation) %>%\n",
    "summarise(SaleRatio = median(SaleRatio),Count = n(),Influence = (abs(1-SaleRatio) * (Count / nrow(cx))) * 1000)\n",
    "head(excinf[order(-excinf$Influence),],15)"
   ]
  },
  {
   "cell_type": "code",
   "execution_count": 44,
   "id": "0342b7ad-6c5c-4524-9f79-05b0e74477c6",
   "metadata": {},
   "outputs": [
    {
     "data": {
      "text/html": [
       "<table class=\"dataframe\">\n",
       "<caption>A tibble: 10 x 5</caption>\n",
       "<thead>\n",
       "\t<tr><th scope=col>floor(SalePrice/10000)</th><th scope=col>SalePrice</th><th scope=col>SaleRatio</th><th scope=col>Count</th><th scope=col>Influence</th></tr>\n",
       "\t<tr><th scope=col>&lt;dbl&gt;</th><th scope=col>&lt;dbl&gt;</th><th scope=col>&lt;dbl&gt;</th><th scope=col>&lt;int&gt;</th><th scope=col>&lt;dbl&gt;</th></tr>\n",
       "</thead>\n",
       "<tbody>\n",
       "\t<tr><td> 0</td><td>     0</td><td>5.4666667</td><td> 483</td><td>17.315996</td></tr>\n",
       "\t<tr><td> 1</td><td> 10000</td><td>2.0315789</td><td> 871</td><td> 7.211696</td></tr>\n",
       "\t<tr><td> 2</td><td> 20000</td><td>1.4515306</td><td>1240</td><td> 4.493924</td></tr>\n",
       "\t<tr><td> 4</td><td> 40000</td><td>1.1576389</td><td>2008</td><td> 2.540644</td></tr>\n",
       "\t<tr><td> 3</td><td> 30000</td><td>1.1861905</td><td>1654</td><td> 2.471780</td></tr>\n",
       "\t<tr><td>15</td><td>150000</td><td>0.9328034</td><td>4300</td><td> 2.319169</td></tr>\n",
       "\t<tr><td>16</td><td>160000</td><td>0.9327273</td><td>4137</td><td> 2.233785</td></tr>\n",
       "\t<tr><td>13</td><td>130000</td><td>0.9307692</td><td>3894</td><td> 2.163774</td></tr>\n",
       "\t<tr><td>22</td><td>220000</td><td>0.9277273</td><td>3675</td><td> 2.131811</td></tr>\n",
       "\t<tr><td>18</td><td>180000</td><td>0.9338712</td><td>4015</td><td> 2.131046</td></tr>\n",
       "</tbody>\n",
       "</table>\n"
      ],
      "text/latex": [
       "A tibble: 10 x 5\n",
       "\\begin{tabular}{lllll}\n",
       " floor(SalePrice/10000) & SalePrice & SaleRatio & Count & Influence\\\\\n",
       " <dbl> & <dbl> & <dbl> & <int> & <dbl>\\\\\n",
       "\\hline\n",
       "\t  0 &      0 & 5.4666667 &  483 & 17.315996\\\\\n",
       "\t  1 &  10000 & 2.0315789 &  871 &  7.211696\\\\\n",
       "\t  2 &  20000 & 1.4515306 & 1240 &  4.493924\\\\\n",
       "\t  4 &  40000 & 1.1576389 & 2008 &  2.540644\\\\\n",
       "\t  3 &  30000 & 1.1861905 & 1654 &  2.471780\\\\\n",
       "\t 15 & 150000 & 0.9328034 & 4300 &  2.319169\\\\\n",
       "\t 16 & 160000 & 0.9327273 & 4137 &  2.233785\\\\\n",
       "\t 13 & 130000 & 0.9307692 & 3894 &  2.163774\\\\\n",
       "\t 22 & 220000 & 0.9277273 & 3675 &  2.131811\\\\\n",
       "\t 18 & 180000 & 0.9338712 & 4015 &  2.131046\\\\\n",
       "\\end{tabular}\n"
      ],
      "text/markdown": [
       "\n",
       "A tibble: 10 x 5\n",
       "\n",
       "| floor(SalePrice/10000) &lt;dbl&gt; | SalePrice &lt;dbl&gt; | SaleRatio &lt;dbl&gt; | Count &lt;int&gt; | Influence &lt;dbl&gt; |\n",
       "|---|---|---|---|---|\n",
       "|  0 |      0 | 5.4666667 |  483 | 17.315996 |\n",
       "|  1 |  10000 | 2.0315789 |  871 |  7.211696 |\n",
       "|  2 |  20000 | 1.4515306 | 1240 |  4.493924 |\n",
       "|  4 |  40000 | 1.1576389 | 2008 |  2.540644 |\n",
       "|  3 |  30000 | 1.1861905 | 1654 |  2.471780 |\n",
       "| 15 | 150000 | 0.9328034 | 4300 |  2.319169 |\n",
       "| 16 | 160000 | 0.9327273 | 4137 |  2.233785 |\n",
       "| 13 | 130000 | 0.9307692 | 3894 |  2.163774 |\n",
       "| 22 | 220000 | 0.9277273 | 3675 |  2.131811 |\n",
       "| 18 | 180000 | 0.9338712 | 4015 |  2.131046 |\n",
       "\n"
      ],
      "text/plain": [
       "   floor(SalePrice/10000) SalePrice SaleRatio Count Influence\n",
       "1   0                          0    5.4666667  483  17.315996\n",
       "2   1                      10000    2.0315789  871   7.211696\n",
       "3   2                      20000    1.4515306 1240   4.493924\n",
       "4   4                      40000    1.1576389 2008   2.540644\n",
       "5   3                      30000    1.1861905 1654   2.471780\n",
       "6  15                     150000    0.9328034 4300   2.319169\n",
       "7  16                     160000    0.9327273 4137   2.233785\n",
       "8  13                     130000    0.9307692 3894   2.163774\n",
       "9  22                     220000    0.9277273 3675   2.131811\n",
       "10 18                     180000    0.9338712 4015   2.131046"
      ]
     },
     "metadata": {},
     "output_type": "display_data"
    }
   ],
   "source": [
    "priceinf = rimp %>% \n",
    "group_by(floor(SalePrice / 10000)) %>%\n",
    "summarise(SalePrice = floor(SalePrice / 10000)[1] * 10000, SaleRatio = median(SaleRatio),Count = n(),Influence = (abs(1-SaleRatio) * (Count / nrow(rimp))) * 1000)\n",
    "head(priceinf[order(-priceinf$Influence),],10)"
   ]
  },
  {
   "cell_type": "code",
   "execution_count": 45,
   "id": "2da574b5-ace7-414d-9109-13e3f0e61b42",
   "metadata": {},
   "outputs": [
    {
     "data": {
      "text/html": [
       "<table class=\"dataframe\">\n",
       "<caption>A tibble: 10 x 5</caption>\n",
       "<thead>\n",
       "\t<tr><th scope=col>floor(SalePrice/10000)</th><th scope=col>SalePrice</th><th scope=col>SaleRatio</th><th scope=col>Count</th><th scope=col>Influence</th></tr>\n",
       "\t<tr><th scope=col>&lt;dbl&gt;</th><th scope=col>&lt;dbl&gt;</th><th scope=col>&lt;dbl&gt;</th><th scope=col>&lt;int&gt;</th><th scope=col>&lt;dbl&gt;</th></tr>\n",
       "</thead>\n",
       "<tbody>\n",
       "\t<tr><td>  0</td><td>      0</td><td>2.4418269</td><td> 22</td><td>7.550629</td></tr>\n",
       "\t<tr><td>150</td><td>1500000</td><td>0.3872425</td><td> 19</td><td>2.771338</td></tr>\n",
       "\t<tr><td> 95</td><td> 950000</td><td>0.4482632</td><td> 18</td><td>2.364024</td></tr>\n",
       "\t<tr><td>  1</td><td>  10000</td><td>1.2933333</td><td> 33</td><td>2.304213</td></tr>\n",
       "\t<tr><td> 15</td><td> 150000</td><td>0.9440000</td><td>153</td><td>2.039514</td></tr>\n",
       "\t<tr><td> 40</td><td> 400000</td><td>0.8605000</td><td> 61</td><td>2.025589</td></tr>\n",
       "\t<tr><td> 20</td><td> 200000</td><td>0.9065000</td><td> 85</td><td>1.891811</td></tr>\n",
       "\t<tr><td> 32</td><td> 320000</td><td>0.8615625</td><td> 57</td><td>1.878347</td></tr>\n",
       "\t<tr><td>130</td><td>1300000</td><td>0.2897692</td><td> 11</td><td>1.859685</td></tr>\n",
       "\t<tr><td> 10</td><td> 100000</td><td>0.9264286</td><td> 98</td><td>1.716258</td></tr>\n",
       "</tbody>\n",
       "</table>\n"
      ],
      "text/latex": [
       "A tibble: 10 x 5\n",
       "\\begin{tabular}{lllll}\n",
       " floor(SalePrice/10000) & SalePrice & SaleRatio & Count & Influence\\\\\n",
       " <dbl> & <dbl> & <dbl> & <int> & <dbl>\\\\\n",
       "\\hline\n",
       "\t   0 &       0 & 2.4418269 &  22 & 7.550629\\\\\n",
       "\t 150 & 1500000 & 0.3872425 &  19 & 2.771338\\\\\n",
       "\t  95 &  950000 & 0.4482632 &  18 & 2.364024\\\\\n",
       "\t   1 &   10000 & 1.2933333 &  33 & 2.304213\\\\\n",
       "\t  15 &  150000 & 0.9440000 & 153 & 2.039514\\\\\n",
       "\t  40 &  400000 & 0.8605000 &  61 & 2.025589\\\\\n",
       "\t  20 &  200000 & 0.9065000 &  85 & 1.891811\\\\\n",
       "\t  32 &  320000 & 0.8615625 &  57 & 1.878347\\\\\n",
       "\t 130 & 1300000 & 0.2897692 &  11 & 1.859685\\\\\n",
       "\t  10 &  100000 & 0.9264286 &  98 & 1.716258\\\\\n",
       "\\end{tabular}\n"
      ],
      "text/markdown": [
       "\n",
       "A tibble: 10 x 5\n",
       "\n",
       "| floor(SalePrice/10000) &lt;dbl&gt; | SalePrice &lt;dbl&gt; | SaleRatio &lt;dbl&gt; | Count &lt;int&gt; | Influence &lt;dbl&gt; |\n",
       "|---|---|---|---|---|\n",
       "|   0 |       0 | 2.4418269 |  22 | 7.550629 |\n",
       "| 150 | 1500000 | 0.3872425 |  19 | 2.771338 |\n",
       "|  95 |  950000 | 0.4482632 |  18 | 2.364024 |\n",
       "|   1 |   10000 | 1.2933333 |  33 | 2.304213 |\n",
       "|  15 |  150000 | 0.9440000 | 153 | 2.039514 |\n",
       "|  40 |  400000 | 0.8605000 |  61 | 2.025589 |\n",
       "|  20 |  200000 | 0.9065000 |  85 | 1.891811 |\n",
       "|  32 |  320000 | 0.8615625 |  57 | 1.878347 |\n",
       "| 130 | 1300000 | 0.2897692 |  11 | 1.859685 |\n",
       "|  10 |  100000 | 0.9264286 |  98 | 1.716258 |\n",
       "\n"
      ],
      "text/plain": [
       "   floor(SalePrice/10000) SalePrice SaleRatio Count Influence\n",
       "1    0                          0   2.4418269  22   7.550629 \n",
       "2  150                    1500000   0.3872425  19   2.771338 \n",
       "3   95                     950000   0.4482632  18   2.364024 \n",
       "4    1                      10000   1.2933333  33   2.304213 \n",
       "5   15                     150000   0.9440000 153   2.039514 \n",
       "6   40                     400000   0.8605000  61   2.025589 \n",
       "7   20                     200000   0.9065000  85   1.891811 \n",
       "8   32                     320000   0.8615625  57   1.878347 \n",
       "9  130                    1300000   0.2897692  11   1.859685 \n",
       "10  10                     100000   0.9264286  98   1.716258 "
      ]
     },
     "metadata": {},
     "output_type": "display_data"
    }
   ],
   "source": [
    "priceinf = cimp %>% \n",
    "group_by(floor(SalePrice / 10000)) %>%\n",
    "summarise(SalePrice = floor(SalePrice / 10000)[1] * 10000, SaleRatio = median(SaleRatio),Count = n(),Influence = (abs(1-SaleRatio) * (Count / nrow(cimp))) * 1000)\n",
    "head(priceinf[order(-priceinf$Influence),],10)"
   ]
  },
  {
   "cell_type": "code",
   "execution_count": 46,
   "id": "0f3392f2-c83a-4fff-9400-032a61684fc4",
   "metadata": {},
   "outputs": [
    {
     "data": {
      "text/html": [
       "<table class=\"dataframe\">\n",
       "<caption>A tibble: 10 x 5</caption>\n",
       "<thead>\n",
       "\t<tr><th scope=col>floor(SalePrice/10000)</th><th scope=col>SalePrice</th><th scope=col>SaleRatio</th><th scope=col>Count</th><th scope=col>Influence</th></tr>\n",
       "\t<tr><th scope=col>&lt;dbl&gt;</th><th scope=col>&lt;dbl&gt;</th><th scope=col>&lt;dbl&gt;</th><th scope=col>&lt;int&gt;</th><th scope=col>&lt;dbl&gt;</th></tr>\n",
       "</thead>\n",
       "<tbody>\n",
       "\t<tr><td>  1</td><td>  10000</td><td>5.8113158</td><td> 2</td><td>20.693831</td></tr>\n",
       "\t<tr><td> 61</td><td> 610000</td><td>6.1664781</td><td> 1</td><td>11.110706</td></tr>\n",
       "\t<tr><td> 60</td><td> 600000</td><td>0.4885000</td><td> 7</td><td> 7.700000</td></tr>\n",
       "\t<tr><td>150</td><td>1500000</td><td>0.6061333</td><td> 7</td><td> 5.929176</td></tr>\n",
       "\t<tr><td> 30</td><td> 300000</td><td>0.8200000</td><td>13</td><td> 5.032258</td></tr>\n",
       "\t<tr><td>100</td><td>1000000</td><td>0.7035000</td><td> 7</td><td> 4.463441</td></tr>\n",
       "\t<tr><td> 55</td><td> 550000</td><td>0.7949091</td><td> 9</td><td> 3.969501</td></tr>\n",
       "\t<tr><td> 25</td><td> 250000</td><td>0.8280000</td><td> 9</td><td> 3.329032</td></tr>\n",
       "\t<tr><td>120</td><td>1200000</td><td>0.6148333</td><td> 4</td><td> 3.313262</td></tr>\n",
       "\t<tr><td>200</td><td>2000000</td><td>0.4892500</td><td> 3</td><td> 3.295161</td></tr>\n",
       "</tbody>\n",
       "</table>\n"
      ],
      "text/latex": [
       "A tibble: 10 x 5\n",
       "\\begin{tabular}{lllll}\n",
       " floor(SalePrice/10000) & SalePrice & SaleRatio & Count & Influence\\\\\n",
       " <dbl> & <dbl> & <dbl> & <int> & <dbl>\\\\\n",
       "\\hline\n",
       "\t   1 &   10000 & 5.8113158 &  2 & 20.693831\\\\\n",
       "\t  61 &  610000 & 6.1664781 &  1 & 11.110706\\\\\n",
       "\t  60 &  600000 & 0.4885000 &  7 &  7.700000\\\\\n",
       "\t 150 & 1500000 & 0.6061333 &  7 &  5.929176\\\\\n",
       "\t  30 &  300000 & 0.8200000 & 13 &  5.032258\\\\\n",
       "\t 100 & 1000000 & 0.7035000 &  7 &  4.463441\\\\\n",
       "\t  55 &  550000 & 0.7949091 &  9 &  3.969501\\\\\n",
       "\t  25 &  250000 & 0.8280000 &  9 &  3.329032\\\\\n",
       "\t 120 & 1200000 & 0.6148333 &  4 &  3.313262\\\\\n",
       "\t 200 & 2000000 & 0.4892500 &  3 &  3.295161\\\\\n",
       "\\end{tabular}\n"
      ],
      "text/markdown": [
       "\n",
       "A tibble: 10 x 5\n",
       "\n",
       "| floor(SalePrice/10000) &lt;dbl&gt; | SalePrice &lt;dbl&gt; | SaleRatio &lt;dbl&gt; | Count &lt;int&gt; | Influence &lt;dbl&gt; |\n",
       "|---|---|---|---|---|\n",
       "|   1 |   10000 | 5.8113158 |  2 | 20.693831 |\n",
       "|  61 |  610000 | 6.1664781 |  1 | 11.110706 |\n",
       "|  60 |  600000 | 0.4885000 |  7 |  7.700000 |\n",
       "| 150 | 1500000 | 0.6061333 |  7 |  5.929176 |\n",
       "|  30 |  300000 | 0.8200000 | 13 |  5.032258 |\n",
       "| 100 | 1000000 | 0.7035000 |  7 |  4.463441 |\n",
       "|  55 |  550000 | 0.7949091 |  9 |  3.969501 |\n",
       "|  25 |  250000 | 0.8280000 |  9 |  3.329032 |\n",
       "| 120 | 1200000 | 0.6148333 |  4 |  3.313262 |\n",
       "| 200 | 2000000 | 0.4892500 |  3 |  3.295161 |\n",
       "\n"
      ],
      "text/plain": [
       "   floor(SalePrice/10000) SalePrice SaleRatio Count Influence\n",
       "1    1                      10000   5.8113158  2    20.693831\n",
       "2   61                     610000   6.1664781  1    11.110706\n",
       "3   60                     600000   0.4885000  7     7.700000\n",
       "4  150                    1500000   0.6061333  7     5.929176\n",
       "5   30                     300000   0.8200000 13     5.032258\n",
       "6  100                    1000000   0.7035000  7     4.463441\n",
       "7   55                     550000   0.7949091  9     3.969501\n",
       "8   25                     250000   0.8280000  9     3.329032\n",
       "9  120                    1200000   0.6148333  4     3.313262\n",
       "10 200                    2000000   0.4892500  3     3.295161"
      ]
     },
     "metadata": {},
     "output_type": "display_data"
    }
   ],
   "source": [
    "priceinf = iimp %>% \n",
    "group_by(floor(SalePrice / 10000)) %>%\n",
    "summarise(SalePrice = floor(SalePrice / 10000)[1] * 10000, SaleRatio = median(SaleRatio),Count = n(),Influence = (abs(1-SaleRatio) * (Count / nrow(iimp))) * 1000)\n",
    "head(priceinf[order(-priceinf$Influence),],10)"
   ]
  },
  {
   "cell_type": "code",
   "execution_count": 47,
   "id": "9fff056f-4fe0-4295-8740-7bad7e778749",
   "metadata": {},
   "outputs": [
    {
     "data": {
      "text/html": [
       "<table class=\"dataframe\">\n",
       "<caption>A tibble: 10 x 5</caption>\n",
       "<thead>\n",
       "\t<tr><th scope=col>floor(SalePrice/10000)</th><th scope=col>SalePrice</th><th scope=col>SaleRatio</th><th scope=col>Count</th><th scope=col>Influence</th></tr>\n",
       "\t<tr><th scope=col>&lt;dbl&gt;</th><th scope=col>&lt;dbl&gt;</th><th scope=col>&lt;dbl&gt;</th><th scope=col>&lt;int&gt;</th><th scope=col>&lt;dbl&gt;</th></tr>\n",
       "</thead>\n",
       "<tbody>\n",
       "\t<tr><td> 8</td><td> 80000</td><td>1.1880710</td><td>330</td><td>8.861140</td></tr>\n",
       "\t<tr><td> 2</td><td> 20000</td><td>0.9360000</td><td>641</td><td>5.857224</td></tr>\n",
       "\t<tr><td> 5</td><td> 50000</td><td>0.9200000</td><td>423</td><td>4.831525</td></tr>\n",
       "\t<tr><td> 1</td><td> 10000</td><td>0.9532710</td><td>687</td><td>4.583496</td></tr>\n",
       "\t<tr><td>16</td><td>160000</td><td>0.7060606</td><td> 78</td><td>3.273454</td></tr>\n",
       "\t<tr><td> 3</td><td> 30000</td><td>0.9666667</td><td>589</td><td>2.803160</td></tr>\n",
       "\t<tr><td>15</td><td>150000</td><td>0.8329489</td><td>104</td><td>2.480484</td></tr>\n",
       "\t<tr><td>20</td><td>200000</td><td>0.7474685</td><td> 62</td><td>2.235431</td></tr>\n",
       "\t<tr><td>14</td><td>140000</td><td>0.8467488</td><td> 86</td><td>1.881726</td></tr>\n",
       "\t<tr><td>21</td><td>210000</td><td>0.7632558</td><td> 51</td><td>1.723865</td></tr>\n",
       "</tbody>\n",
       "</table>\n"
      ],
      "text/latex": [
       "A tibble: 10 x 5\n",
       "\\begin{tabular}{lllll}\n",
       " floor(SalePrice/10000) & SalePrice & SaleRatio & Count & Influence\\\\\n",
       " <dbl> & <dbl> & <dbl> & <int> & <dbl>\\\\\n",
       "\\hline\n",
       "\t  8 &  80000 & 1.1880710 & 330 & 8.861140\\\\\n",
       "\t  2 &  20000 & 0.9360000 & 641 & 5.857224\\\\\n",
       "\t  5 &  50000 & 0.9200000 & 423 & 4.831525\\\\\n",
       "\t  1 &  10000 & 0.9532710 & 687 & 4.583496\\\\\n",
       "\t 16 & 160000 & 0.7060606 &  78 & 3.273454\\\\\n",
       "\t  3 &  30000 & 0.9666667 & 589 & 2.803160\\\\\n",
       "\t 15 & 150000 & 0.8329489 & 104 & 2.480484\\\\\n",
       "\t 20 & 200000 & 0.7474685 &  62 & 2.235431\\\\\n",
       "\t 14 & 140000 & 0.8467488 &  86 & 1.881726\\\\\n",
       "\t 21 & 210000 & 0.7632558 &  51 & 1.723865\\\\\n",
       "\\end{tabular}\n"
      ],
      "text/markdown": [
       "\n",
       "A tibble: 10 x 5\n",
       "\n",
       "| floor(SalePrice/10000) &lt;dbl&gt; | SalePrice &lt;dbl&gt; | SaleRatio &lt;dbl&gt; | Count &lt;int&gt; | Influence &lt;dbl&gt; |\n",
       "|---|---|---|---|---|\n",
       "|  8 |  80000 | 1.1880710 | 330 | 8.861140 |\n",
       "|  2 |  20000 | 0.9360000 | 641 | 5.857224 |\n",
       "|  5 |  50000 | 0.9200000 | 423 | 4.831525 |\n",
       "|  1 |  10000 | 0.9532710 | 687 | 4.583496 |\n",
       "| 16 | 160000 | 0.7060606 |  78 | 3.273454 |\n",
       "|  3 |  30000 | 0.9666667 | 589 | 2.803160 |\n",
       "| 15 | 150000 | 0.8329489 | 104 | 2.480484 |\n",
       "| 20 | 200000 | 0.7474685 |  62 | 2.235431 |\n",
       "| 14 | 140000 | 0.8467488 |  86 | 1.881726 |\n",
       "| 21 | 210000 | 0.7632558 |  51 | 1.723865 |\n",
       "\n"
      ],
      "text/plain": [
       "   floor(SalePrice/10000) SalePrice SaleRatio Count Influence\n",
       "1   8                      80000    1.1880710 330   8.861140 \n",
       "2   2                      20000    0.9360000 641   5.857224 \n",
       "3   5                      50000    0.9200000 423   4.831525 \n",
       "4   1                      10000    0.9532710 687   4.583496 \n",
       "5  16                     160000    0.7060606  78   3.273454 \n",
       "6   3                      30000    0.9666667 589   2.803160 \n",
       "7  15                     150000    0.8329489 104   2.480484 \n",
       "8  20                     200000    0.7474685  62   2.235431 \n",
       "9  14                     140000    0.8467488  86   1.881726 \n",
       "10 21                     210000    0.7632558  51   1.723865 "
      ]
     },
     "metadata": {},
     "output_type": "display_data"
    }
   ],
   "source": [
    "priceinf = rvac %>% \n",
    "group_by(floor(SalePrice / 10000)) %>%\n",
    "summarise(SalePrice = floor(SalePrice / 10000)[1] * 10000, SaleRatio = median(SaleRatio),Count = n(),Influence = (abs(1-SaleRatio) * (Count / nrow(rvac))) * 1000)\n",
    "head(priceinf[order(-priceinf$Influence),],10)"
   ]
  },
  {
   "cell_type": "code",
   "execution_count": 48,
   "id": "1a65603d-feba-442d-bfcc-6c21d5eb6fa4",
   "metadata": {},
   "outputs": [],
   "source": [
    "rat5 = rat23[rat23$PropertyClass == 509,]"
   ]
  },
  {
   "cell_type": "code",
   "execution_count": 49,
   "id": "54008fa0-1752-4c3c-9bdc-e7a48e668eb3",
   "metadata": {},
   "outputs": [
    {
     "data": {
      "text/plain": [
       "\n",
       "      Allen        Clay   Hendricks    Marshall      Martin      Porter \n",
       "          2           1           1           1           1           2 \n",
       "    Steuben Vanderburgh \n",
       "          1           5 "
      ]
     },
     "metadata": {},
     "output_type": "display_data"
    }
   ],
   "source": [
    "table(rat5$County)"
   ]
  },
  {
   "cell_type": "code",
   "execution_count": 50,
   "id": "07dd3741-45ad-4981-aaaa-cedba941b625",
   "metadata": {},
   "outputs": [],
   "source": [
    "exc5 = exc23[exc23$PropertyClass == 509,]"
   ]
  },
  {
   "cell_type": "code",
   "execution_count": 51,
   "id": "74ecda83-640f-48b0-bdca-6d3052d3d2d1",
   "metadata": {},
   "outputs": [
    {
     "data": {
      "text/plain": [
       "\n",
       "Bartholomew        Clay     Elkhart   Hendricks     Johnson     Laporte \n",
       "          3           3          11           2           4          13 \n",
       "   Lawrence    Marshall      Monroe      Orange      Porter     Steuben \n",
       "          5           3           2           1           4          57 \n",
       "Vanderburgh       Wayne \n",
       "         20           1 "
      ]
     },
     "metadata": {},
     "output_type": "display_data"
    }
   ],
   "source": [
    "table(exc5$County)"
   ]
  },
  {
   "cell_type": "code",
   "execution_count": 52,
   "id": "d82fe074-7fd2-47fa-9d7f-3c2212cb8c9c",
   "metadata": {},
   "outputs": [],
   "source": [
    "exc0 = exc23[exc23$PropertyClass < 500 & exc23$PropertyClass > 400 & exc23$Explanation %in% aggressive & exc23$SalePrice < 10000,]"
   ]
  },
  {
   "cell_type": "code",
   "execution_count": 53,
   "id": "acce059e-d398-4071-8788-92376b8f1b01",
   "metadata": {},
   "outputs": [
    {
     "data": {
      "text/plain": [
       "\n",
       "AV DOES NOT REFLECT MARKET VALUE      INSUFFICIENT TIME ON MARKET \n",
       "                               5                                2 \n",
       "               INVESTMENT/RENTAL                MULTI PARCEL SALE \n",
       "                               7                                1 \n",
       "   NOT ENOUGH SALES FOR TRENDING \n",
       "                               3 "
      ]
     },
     "metadata": {},
     "output_type": "display_data"
    }
   ],
   "source": [
    "table(exc0$Explanation)"
   ]
  },
  {
   "cell_type": "code",
   "execution_count": null,
   "id": "4bcf32ab-b1c0-44b6-896b-741009b3f486",
   "metadata": {},
   "outputs": [],
   "source": []
  }
 ],
 "metadata": {
  "kernelspec": {
   "display_name": "seminar-r",
   "language": "R",
   "name": "seminar-r"
  },
  "language_info": {
   "codemirror_mode": "r",
   "file_extension": ".r",
   "mimetype": "text/x-r-source",
   "name": "R",
   "pygments_lexer": "r",
   "version": "4.4.1"
  }
 },
 "nbformat": 4,
 "nbformat_minor": 5
}
