{
 "cells": [
  {
   "cell_type": "code",
   "execution_count": 26,
   "id": "94a8066b-47f7-41fb-bec2-669a264c4ab1",
   "metadata": {},
   "outputs": [
    {
     "data": {
      "text/html": [
       "<style>\n",
       ".list-inline {list-style: none; margin:0; padding: 0}\n",
       ".list-inline>li {display: inline-block}\n",
       ".list-inline>li:not(:last-child)::after {content: \"\\00b7\"; padding: 0 .5ex}\n",
       "</style>\n",
       "<ol class=list-inline><li>'Wea'</li><li>'Shelby'</li><li>'Lauramie'</li><li>'Wabash'</li><li>'Sheffield'</li><li>'Perry'</li><li>'Fairfield'</li><li>'Union'</li><li>'Tippecanoe'</li><li>'Randolph'</li><li>'Washington'</li><li>'Wayne'</li><li>'Jackson'</li><li>NA</li></ol>\n"
      ],
      "text/latex": [
       "\\begin{enumerate*}\n",
       "\\item 'Wea'\n",
       "\\item 'Shelby'\n",
       "\\item 'Lauramie'\n",
       "\\item 'Wabash'\n",
       "\\item 'Sheffield'\n",
       "\\item 'Perry'\n",
       "\\item 'Fairfield'\n",
       "\\item 'Union'\n",
       "\\item 'Tippecanoe'\n",
       "\\item 'Randolph'\n",
       "\\item 'Washington'\n",
       "\\item 'Wayne'\n",
       "\\item 'Jackson'\n",
       "\\item NA\n",
       "\\end{enumerate*}\n"
      ],
      "text/markdown": [
       "1. 'Wea'\n",
       "2. 'Shelby'\n",
       "3. 'Lauramie'\n",
       "4. 'Wabash'\n",
       "5. 'Sheffield'\n",
       "6. 'Perry'\n",
       "7. 'Fairfield'\n",
       "8. 'Union'\n",
       "9. 'Tippecanoe'\n",
       "10. 'Randolph'\n",
       "11. 'Washington'\n",
       "12. 'Wayne'\n",
       "13. 'Jackson'\n",
       "14. NA\n",
       "\n",
       "\n"
      ],
      "text/plain": [
       " [1] \"Wea\"        \"Shelby\"     \"Lauramie\"   \"Wabash\"     \"Sheffield\" \n",
       " [6] \"Perry\"      \"Fairfield\"  \"Union\"      \"Tippecanoe\" \"Randolph\"  \n",
       "[11] \"Washington\" \"Wayne\"      \"Jackson\"    NA          "
      ]
     },
     "metadata": {},
     "output_type": "display_data"
    }
   ],
   "source": [
    "##This will find all the townships in the county, which you can use in the ratiostudy function\n",
    "findtownships = function(county) {\n",
    "    excluded23 = read.csv('tippecanoe/Combined_Reconciliation_2023.csv')\n",
    "    excluded = excluded23[excluded23$County == county & excluded23$Reclassified == TRUE,]\n",
    "    return (unique(excluded$Township))\n",
    "}\n",
    "findtownships('Tippecanoe')"
   ]
  },
  {
   "cell_type": "code",
   "execution_count": 27,
   "id": "cb0fe86b-1324-4313-ada3-76592b4cb472",
   "metadata": {},
   "outputs": [
    {
     "data": {
      "text/html": [
       "<style>\n",
       ".list-inline {list-style: none; margin:0; padding: 0}\n",
       ".list-inline>li {display: inline-block}\n",
       ".list-inline>li:not(:last-child)::after {content: \"\\00b7\"; padding: 0 .5ex}\n",
       "</style>\n",
       "<ol class=list-inline><li>'OUTSIDE TIMEFRAME'</li><li>'AG LAND'</li><li>'AV DOES NOT REFLECT MARKET VALUE'</li><li>'SOLD TO EXEMPT ORGANIZATION'</li><li>'LOW SALE PRICE'</li><li>'ADJACENT OWNER'</li><li>'POOR CONDITION'</li><li>'UNIQUE SALE'</li><li>'INVESTMENT/RENTAL'</li><li>'SOLD MORE THAN ONCE IN ONE YEAR'</li><li>'FORCED SALE'</li><li>'PARTIAL INTEREST'</li><li>'PRE-EXISTING RELATIONSHIP'</li><li>'SALE DOES NOT REFLECT MARKET VALUE'</li><li>'DUPLICATE'</li><li>'BUSINESS TRANSACTION'</li><li>'MULTI PARCEL SALE'</li><li>'INSUFFICIENT TIME ON MARKET'</li><li>'NO REASON PROVIDED'</li></ol>\n"
      ],
      "text/latex": [
       "\\begin{enumerate*}\n",
       "\\item 'OUTSIDE TIMEFRAME'\n",
       "\\item 'AG LAND'\n",
       "\\item 'AV DOES NOT REFLECT MARKET VALUE'\n",
       "\\item 'SOLD TO EXEMPT ORGANIZATION'\n",
       "\\item 'LOW SALE PRICE'\n",
       "\\item 'ADJACENT OWNER'\n",
       "\\item 'POOR CONDITION'\n",
       "\\item 'UNIQUE SALE'\n",
       "\\item 'INVESTMENT/RENTAL'\n",
       "\\item 'SOLD MORE THAN ONCE IN ONE YEAR'\n",
       "\\item 'FORCED SALE'\n",
       "\\item 'PARTIAL INTEREST'\n",
       "\\item 'PRE-EXISTING RELATIONSHIP'\n",
       "\\item 'SALE DOES NOT REFLECT MARKET VALUE'\n",
       "\\item 'DUPLICATE'\n",
       "\\item 'BUSINESS TRANSACTION'\n",
       "\\item 'MULTI PARCEL SALE'\n",
       "\\item 'INSUFFICIENT TIME ON MARKET'\n",
       "\\item 'NO REASON PROVIDED'\n",
       "\\end{enumerate*}\n"
      ],
      "text/markdown": [
       "1. 'OUTSIDE TIMEFRAME'\n",
       "2. 'AG LAND'\n",
       "3. 'AV DOES NOT REFLECT MARKET VALUE'\n",
       "4. 'SOLD TO EXEMPT ORGANIZATION'\n",
       "5. 'LOW SALE PRICE'\n",
       "6. 'ADJACENT OWNER'\n",
       "7. 'POOR CONDITION'\n",
       "8. 'UNIQUE SALE'\n",
       "9. 'INVESTMENT/RENTAL'\n",
       "10. 'SOLD MORE THAN ONCE IN ONE YEAR'\n",
       "11. 'FORCED SALE'\n",
       "12. 'PARTIAL INTEREST'\n",
       "13. 'PRE-EXISTING RELATIONSHIP'\n",
       "14. 'SALE DOES NOT REFLECT MARKET VALUE'\n",
       "15. 'DUPLICATE'\n",
       "16. 'BUSINESS TRANSACTION'\n",
       "17. 'MULTI PARCEL SALE'\n",
       "18. 'INSUFFICIENT TIME ON MARKET'\n",
       "19. 'NO REASON PROVIDED'\n",
       "\n",
       "\n"
      ],
      "text/plain": [
       " [1] \"OUTSIDE TIMEFRAME\"                  \"AG LAND\"                           \n",
       " [3] \"AV DOES NOT REFLECT MARKET VALUE\"   \"SOLD TO EXEMPT ORGANIZATION\"       \n",
       " [5] \"LOW SALE PRICE\"                     \"ADJACENT OWNER\"                    \n",
       " [7] \"POOR CONDITION\"                     \"UNIQUE SALE\"                       \n",
       " [9] \"INVESTMENT/RENTAL\"                  \"SOLD MORE THAN ONCE IN ONE YEAR\"   \n",
       "[11] \"FORCED SALE\"                        \"PARTIAL INTEREST\"                  \n",
       "[13] \"PRE-EXISTING RELATIONSHIP\"          \"SALE DOES NOT REFLECT MARKET VALUE\"\n",
       "[15] \"DUPLICATE\"                          \"BUSINESS TRANSACTION\"              \n",
       "[17] \"MULTI PARCEL SALE\"                  \"INSUFFICIENT TIME ON MARKET\"       \n",
       "[19] \"NO REASON PROVIDED\"                "
      ]
     },
     "metadata": {},
     "output_type": "display_data"
    }
   ],
   "source": [
    "##This will find all the exclusions in the county, which you can use in the ratiostudy function\n",
    "findexclusions = function(county) {\n",
    "    excluded23 = read.csv('tippecanoe/Combined_Reconciliation_2023.csv')\n",
    "    excluded = excluded23[excluded23$County == county & excluded23$Reclassified == TRUE,]\n",
    "    return (unique(excluded$Explanation))\n",
    "}\n",
    "findexclusions('Tippecanoe')"
   ]
  },
  {
   "cell_type": "code",
   "execution_count": 28,
   "id": "95750e30-ea72-44f5-b915-305950f9c68d",
   "metadata": {},
   "outputs": [],
   "source": [
    "prd = function(df) {\n",
    "mean_ratio = mean(df$SaleRatio, na.rm = TRUE)\n",
    "weighted_mean_ratio = sum(df$CurrentAV, na.rm = TRUE) / sum(df$SalePrice, na.rm = TRUE)\n",
    "prd = mean_ratio / weighted_mean_ratio\n",
    "return (prd)\n",
    "}"
   ]
  },
  {
   "cell_type": "code",
   "execution_count": 29,
   "id": "e51a24b8-43dc-437b-8542-aa8835dccaaa",
   "metadata": {},
   "outputs": [],
   "source": [
    "cod = function(df) {\n",
    "    median_ratio <- median(df$SaleRatio, na.rm = TRUE)\n",
    "    cod <- (sum(abs(df$SaleRatio - median_ratio), na.rm = TRUE) / \n",
    "           (nrow(df) * median_ratio)) * 100\n",
    "    \n",
    "    return(cod)\n",
    "}\n"
   ]
  },
  {
   "cell_type": "code",
   "execution_count": 30,
   "id": "d3d690a9-9d50-4add-bfe9-0a205ea0c839",
   "metadata": {},
   "outputs": [],
   "source": [
    "prb = function(df) {\n",
    "    model <- lm(SaleRatio ~ SalePrice, data = df)\n",
    "    \n",
    "    # PRB is the slope of the regression model\n",
    "    prb <- coef(model)[2]\n",
    "    \n",
    "    return(prb)\n",
    "}"
   ]
  },
  {
   "cell_type": "code",
   "execution_count": 31,
   "id": "1d18fe5b-8bbc-484f-91ee-8897702385df",
   "metadata": {},
   "outputs": [],
   "source": [
    "cov <- function(df) {\n",
    "    mean_ratio <- mean(df$SaleRatio, na.rm = TRUE)\n",
    "    sd_ratio <- sd(df$SaleRatio, na.rm = TRUE)\n",
    "    cov_value <- (sd_ratio / mean_ratio) * 100\n",
    "    return(cov_value)\n",
    "}\n"
   ]
  },
  {
   "cell_type": "code",
   "execution_count": 32,
   "id": "a86539b8-c5ed-46ee-8e34-517ed86455de",
   "metadata": {},
   "outputs": [
    {
     "name": "stdout",
     "output_type": "stream",
     "text": [
      "Residential Improved Study for Tippecanoe County, Tippecanoe, Union Township(s):\n",
      "Sales:349 Median Ratio:0.89 PRD:1.05 PRB:0 COD:20.85 COV:62.71\n",
      "Suggested Values:\n",
      "Median Ratio: 0.9-1.1 PRD: 0.98-1.03 PRB: 0 COD: <20 COV: <15"
     ]
    }
   ],
   "source": [
    "#Input to ratiostudy as follows -> ratiostudy(County,Townships (as vector),Exclusions to add back (as vector),\n",
    "#Ratio Study Type)\n",
    "#Example -> ratiostudy('Tippecanoe',c('Tippecanoe','Union'),\n",
    "#c('VACANT LAND','AV DOES NOT REFLECT MARKET VALUE','INVESTMENT/RENTAL','INSUFFICIENT TIME ON MARKET'),\n",
    "#'Residential Improved')\n",
    "combine = function(county,exclusionlist){\n",
    "    excluded23 = read.csv('tippecanoe/Combined_Reconciliation_2023.csv')\n",
    "    ratios23 = read.csv('tippecanoe/Combined_Study_2023.csv')\n",
    "    ratios = ratios23[ratios23$County == county,]\n",
    "    ratios$PostedExplanation = 'FROM RATIO STUDY'\n",
    "    ratios$Explanation = 'FROM RATIO STUDY'\n",
    "    excluded = excluded23[excluded23$County == county,]\n",
    "    filtered_exc = excluded[excluded$Explanation %in% exclusionlist,]\n",
    "    tojoin = filtered_exc[,1:12]\n",
    "    combined = rbind(ratios,tojoin)\n",
    "    return (combined)\n",
    "}\n",
    "ratiostudy = function(county,townships,exclusions,type) {\n",
    "    countydf = combine(county,exclusions)\n",
    "    df = countydf[countydf$Township %in% townships,]\n",
    "    if(type == 'Commercial Vacant') {\n",
    "        sales = df[df$PropertyClass == 300,]\n",
    "        if(nrow(sales) <= 5){\n",
    "            print(paste0('Only ',nrow(sales),' sales, not enough to study!'))\n",
    "            return()\n",
    "        }\n",
    "        cat(paste0(type,' Study for ',df$County[1],' County, ',paste(townships, collapse = \", \"),' Township(s):\\n','Sales:',\n",
    "                   nrow(sales),' Median Ratio:', round(median(sales$SaleRatio,na.rm=TRUE),2),\n",
    "                   ' PRD:',round(prd(sales),2),' PRB:',round(prb(sales),2),' COD:',round(cod(sales),2),\n",
    "                   ' COV:',round(cov(sales),2),'\\n',\n",
    "                   'Suggested Values:\\n','Median Ratio: 0.9-1.1 PRD: 0.98-1.03 PRB: 0 COD: <20 COV: <15'))\n",
    "    }\n",
    "    if(type == 'Commercial Improved') {\n",
    "        sales = df[df$PropertyClass > 300 & df$PropertyClass < 400,]\n",
    "        if(nrow(sales) <= 5){\n",
    "            print(paste0('Only ',nrow(sales),' sales, not enough to study!'))\n",
    "            return()\n",
    "        }\n",
    "        cat(paste0(type,' Study for ',df$County[1],' County, ',paste(townships, collapse = \", \"),' Township(s):\\n','Sales:',\n",
    "                   nrow(sales),' Median Ratio:', round(median(sales$SaleRatio,na.rm=TRUE),2),\n",
    "                   ' PRD:',round(prd(sales),2),' PRB:',round(prb(sales),2),' COD:',round(cod(sales),2),\n",
    "                   ' COV:',round(cov(sales),2),'\\n',\n",
    "                   'Suggested Values:\\n','Median Ratio: 0.9-1.1 PRD: 0.98-1.03 PRB: 0 COD: <20 COV: <15'))\n",
    "    }\n",
    "    if(type == 'Industrial Vacant') {\n",
    "        sales = df[df$PropertyClass == 400,]\n",
    "        if(nrow(sales) <= 5){\n",
    "            print(paste0('Only ',nrow(sales),' sales, not enough to study!'))\n",
    "            return()\n",
    "        }\n",
    "        cat(paste0(type,' Study for ',df$County[1],' County, ',paste(townships, collapse = \", \"),' Township(s):\\n','Sales:',\n",
    "                   nrow(sales),' Median Ratio:', round(median(sales$SaleRatio,na.rm=TRUE),2),\n",
    "                   ' PRD:',round(prd(sales),2),' PRB:',round(prb(sales),2),' COD:',round(cod(sales),2),\n",
    "                   ' COV:',round(cov(sales),2),'\\n',\n",
    "                   'Suggested Values:\\n','Median Ratio: 0.9-1.1 PRD: 0.98-1.03 PRB: 0 COD: <20 COV: <15'))\n",
    "    }\n",
    "    if(type == 'Industrial Improved') {\n",
    "        sales = df[df$PropertyClass > 400 & df$PropertyClass < 500,]\n",
    "        if(nrow(sales) <= 5){\n",
    "            print(paste0('Only ',nrow(sales),' sales, not enough to study!'))\n",
    "            return()\n",
    "        }\n",
    "        cat(paste0(type,' Study for ',df$County[1],' County, ',paste(townships, collapse = \", \"),' Township(s):\\n','Sales:',\n",
    "                   nrow(sales),' Median Ratio:', round(median(sales$SaleRatio,na.rm=TRUE),2),\n",
    "                   ' PRD:',round(prd(sales),2),' PRB:',round(prb(sales),2),' COD:',round(cod(sales),2),\n",
    "                   ' COV:',round(cov(sales),2),'\\n',\n",
    "                   'Suggested Values:\\n','Median Ratio: 0.9-1.1 PRD: 0.98-1.03 PRB: 0 COD: <20 COV: <15'))\n",
    "    }\n",
    "    if(type == 'Residential Vacant') {\n",
    "        sales = df[df$PropertyClass == 500,]\n",
    "        if(nrow(sales) <= 5){\n",
    "            print(paste0('Only ',nrow(sales),' sales, not enough to study!'))\n",
    "            return()\n",
    "        }\n",
    "        cat(paste0(type,' Study for ',df$County[1],' County, ',paste(townships, collapse = \", \"),' Township(s):\\n','Sales:',\n",
    "                   nrow(sales),' Median Ratio:', round(median(sales$SaleRatio,na.rm=TRUE),2),\n",
    "                   ' PRD:',round(prd(sales),2),' PRB:',round(prb(sales),2),' COD:',round(cod(sales),2),\n",
    "                   ' COV:',round(cov(sales),2),'\\n',\n",
    "                   'Suggested Values:\\n','Median Ratio: 0.9-1.1 PRD: 0.98-1.03 PRB: 0 COD: <20 COV: <15'))\n",
    "    }\n",
    "    if(type == 'Residential Improved') {\n",
    "        sales = df[df$PropertyClass > 500 & df$PropertyClass < 600,]\n",
    "        if(nrow(sales) <= 5){\n",
    "            print(paste0('Only ',nrow(sales),' sales, not enough to study!'))\n",
    "            return\n",
    "        }\n",
    "        cat(paste0(type,' Study for ',df$County[1],' County, ',paste(townships, collapse = \", \"),' Township(s):\\n','Sales:',\n",
    "                   nrow(sales),' Median Ratio:', round(median(sales$SaleRatio,na.rm=TRUE),2),\n",
    "                   ' PRD:',round(prd(sales),2),' PRB:',round(prb(sales),2),' COD:',round(cod(sales),2),\n",
    "                   ' COV:',round(cov(sales),2),'\\n',\n",
    "                   'Suggested Values:\\n','Median Ratio: 0.9-1.1 PRD: 0.98-1.03 PRB: 0 COD: <20 COV: <15'))\n",
    "    }\n",
    "}\n",
    "ratiostudy('Tippecanoe',c('Tippecanoe','Union'),\n",
    "           c('VACANT LAND','AV DOES NOT REFLECT MARKET VALUE','INVESTMENT/RENTAL','INSUFFICIENT TIME ON MARKET'),\n",
    "           'Residential Improved')"
   ]
  },
  {
   "cell_type": "code",
   "execution_count": null,
   "id": "fdba2e1f-154a-4f85-9a7b-465105fd6d09",
   "metadata": {},
   "outputs": [],
   "source": []
  }
 ],
 "metadata": {
  "kernelspec": {
   "display_name": "seminar-r",
   "language": "R",
   "name": "seminar-r"
  },
  "language_info": {
   "codemirror_mode": "r",
   "file_extension": ".r",
   "mimetype": "text/x-r-source",
   "name": "R",
   "pygments_lexer": "r",
   "version": "4.4.1"
  }
 },
 "nbformat": 4,
 "nbformat_minor": 5
}
